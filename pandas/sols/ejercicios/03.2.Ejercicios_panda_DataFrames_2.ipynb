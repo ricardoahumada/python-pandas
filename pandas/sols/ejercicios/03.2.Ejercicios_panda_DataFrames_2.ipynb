{
 "cells": [
  {
   "cell_type": "markdown",
   "metadata": {},
   "source": [
    "# Ejercicios Pandas DataFrames 02"
   ]
  },
  {
   "cell_type": "markdown",
   "metadata": {},
   "source": [
    "Carga el dataset de vuelos \"flights14.csv\""
   ]
  },
  {
   "cell_type": "code",
   "execution_count": null,
   "metadata": {},
   "outputs": [],
   "source": [
    "import pandas as pd\n",
    "df = pd.read_csv('../../data/flights14.csv', index_col=0)\n",
    "print(df.head())\n",
    "df.info()"
   ]
  },
  {
   "cell_type": "markdown",
   "metadata": {},
   "source": [
    "1. escribe un programa Pandas para dividir los datos basados en origen u destino. Muestra cada grupo y el número de elementos por grupo"
   ]
  },
  {
   "cell_type": "code",
   "execution_count": null,
   "metadata": {},
   "outputs": [],
   "source": [
    "gdf = df.groupby(['origin', 'dest'])\n",
    "print(gdf.groups.keys())\n",
    "\n",
    "for g, vals in gdf.groups.items():\n",
    "    print('grupo:', g, len(vals))"
   ]
  },
  {
   "cell_type": "code",
   "execution_count": null,
   "metadata": {},
   "outputs": [],
   "source": [
    "agdf = gdf.agg({'year': 'count'}).rename(columns={'year':'num'})\n",
    "agdf"
   ]
  },
  {
   "cell_type": "markdown",
   "metadata": {},
   "source": [
    "2. Escribe un programa Pandas para calcula la media, desviación estándar, min y max del retraso total de cada origen-destino."
   ]
  },
  {
   "cell_type": "code",
   "execution_count": null,
   "metadata": {},
   "outputs": [],
   "source": [
    "df['total_delay'] = df['dep_delay']+df['arr_delay']\n",
    "gdf = df.groupby(['origin', 'dest'])\n",
    "\n",
    "print(gdf.groups.keys())\n",
    "\n",
    "agdf = gdf.agg({'total_delay': ['mean', 'std', 'min', 'max']})\n",
    "print(agdf)"
   ]
  },
  {
   "cell_type": "markdown",
   "metadata": {},
   "source": [
    "3. Escribe un programa Pandas para dividir un conjunto de datos y agruparlos por dos columnas, y luego ordenar los resultados agregados dentro de los grupos.\n",
    "\n",
    "En el siguiente conjunto de datos de vuelos, agrupar \"date\" (fecha completa) y \"carrier\". Luego ordenar la suma de 'total_delay' dentro de los grupos."
   ]
  },
  {
   "cell_type": "code",
   "execution_count": null,
   "metadata": {},
   "outputs": [],
   "source": [
    "df['date']=pd.to_datetime(df[['year','month','day']])\n",
    "gdf = df.groupby(['date','carrier']).agg({'total_delay':sum})\n",
    "print(gdf,'\\n\\n')\n",
    "result = gdf['total_delay'].groupby(level=0, group_keys=False)\n",
    "print(result.nlargest())"
   ]
  },
  {
   "cell_type": "markdown",
   "metadata": {},
   "source": [
    "4. Escribe un programa Pandas para contar el múmero de retrasos de salida por mes y origen."
   ]
  },
  {
   "cell_type": "code",
   "execution_count": null,
   "metadata": {},
   "outputs": [],
   "source": [
    "df.groupby(['origin', 'month'])['month'].count().reset_index(name='count')"
   ]
  },
  {
   "cell_type": "markdown",
   "metadata": {},
   "source": [
    "5. Escribe un programa Pandas para cargar los datos de productos y ventas del archivo FoodMarket.xlsx y mézclalos en un solo dataframe."
   ]
  },
  {
   "cell_type": "code",
   "execution_count": 10,
   "metadata": {},
   "outputs": [],
   "source": [
    "import warnings\n",
    "warnings.filterwarnings('ignore')"
   ]
  },
  {
   "cell_type": "code",
   "execution_count": null,
   "metadata": {},
   "outputs": [],
   "source": [
    "df_prods = pd.read_excel('../../data/FoodMarket.xlsx', sheet_name='Products')\n",
    "df_prods.sort_values(['Product'], ascending=True, inplace=True)\n",
    "df_prods.head()"
   ]
  },
  {
   "cell_type": "code",
   "execution_count": null,
   "metadata": {},
   "outputs": [],
   "source": [
    "df_purch = pd.read_excel('../../data/FoodMarket.xlsx', sheet_name='Purchases')\n",
    "df_purch"
   ]
  },
  {
   "cell_type": "code",
   "execution_count": 13,
   "metadata": {},
   "outputs": [
    {
     "data": {
      "text/html": [
       "<div>\n",
       "<style scoped>\n",
       "    .dataframe tbody tr th:only-of-type {\n",
       "        vertical-align: middle;\n",
       "    }\n",
       "\n",
       "    .dataframe tbody tr th {\n",
       "        vertical-align: top;\n",
       "    }\n",
       "\n",
       "    .dataframe thead th {\n",
       "        text-align: right;\n",
       "    }\n",
       "</style>\n",
       "<table border=\"1\" class=\"dataframe\">\n",
       "  <thead>\n",
       "    <tr style=\"text-align: right;\">\n",
       "      <th></th>\n",
       "      <th>Code</th>\n",
       "      <th>Product</th>\n",
       "      <th>Seller</th>\n",
       "      <th>Buyer</th>\n",
       "      <th>Fecha</th>\n",
       "      <th>Quantity</th>\n",
       "      <th>ProductName</th>\n",
       "      <th>provider</th>\n",
       "      <th>Price</th>\n",
       "    </tr>\n",
       "  </thead>\n",
       "  <tbody>\n",
       "    <tr>\n",
       "      <th>721</th>\n",
       "      <td>722</td>\n",
       "      <td>1</td>\n",
       "      <td>29</td>\n",
       "      <td>148</td>\n",
       "      <td>2020-06-03</td>\n",
       "      <td>29</td>\n",
       "      <td>American cheeses</td>\n",
       "      <td>1</td>\n",
       "      <td>8.913593</td>\n",
       "    </tr>\n",
       "    <tr>\n",
       "      <th>479</th>\n",
       "      <td>480</td>\n",
       "      <td>1</td>\n",
       "      <td>43</td>\n",
       "      <td>13</td>\n",
       "      <td>2019-08-01</td>\n",
       "      <td>40</td>\n",
       "      <td>American cheeses</td>\n",
       "      <td>1</td>\n",
       "      <td>8.913593</td>\n",
       "    </tr>\n",
       "    <tr>\n",
       "      <th>1007</th>\n",
       "      <td>1008</td>\n",
       "      <td>1</td>\n",
       "      <td>45</td>\n",
       "      <td>84</td>\n",
       "      <td>2020-12-05</td>\n",
       "      <td>30</td>\n",
       "      <td>American cheeses</td>\n",
       "      <td>1</td>\n",
       "      <td>8.913593</td>\n",
       "    </tr>\n",
       "    <tr>\n",
       "      <th>1048</th>\n",
       "      <td>1049</td>\n",
       "      <td>1</td>\n",
       "      <td>12</td>\n",
       "      <td>159</td>\n",
       "      <td>2020-06-03</td>\n",
       "      <td>31</td>\n",
       "      <td>American cheeses</td>\n",
       "      <td>1</td>\n",
       "      <td>8.913593</td>\n",
       "    </tr>\n",
       "    <tr>\n",
       "      <th>1395</th>\n",
       "      <td>1396</td>\n",
       "      <td>1</td>\n",
       "      <td>14</td>\n",
       "      <td>166</td>\n",
       "      <td>2020-02-16</td>\n",
       "      <td>28</td>\n",
       "      <td>American cheeses</td>\n",
       "      <td>1</td>\n",
       "      <td>8.913593</td>\n",
       "    </tr>\n",
       "    <tr>\n",
       "      <th>...</th>\n",
       "      <td>...</td>\n",
       "      <td>...</td>\n",
       "      <td>...</td>\n",
       "      <td>...</td>\n",
       "      <td>...</td>\n",
       "      <td>...</td>\n",
       "      <td>...</td>\n",
       "      <td>...</td>\n",
       "      <td>...</td>\n",
       "    </tr>\n",
       "    <tr>\n",
       "      <th>596</th>\n",
       "      <td>597</td>\n",
       "      <td>70</td>\n",
       "      <td>37</td>\n",
       "      <td>42</td>\n",
       "      <td>2020-08-30</td>\n",
       "      <td>25</td>\n",
       "      <td>Vodkas</td>\n",
       "      <td>4</td>\n",
       "      <td>40.404487</td>\n",
       "    </tr>\n",
       "    <tr>\n",
       "      <th>817</th>\n",
       "      <td>818</td>\n",
       "      <td>70</td>\n",
       "      <td>11</td>\n",
       "      <td>106</td>\n",
       "      <td>2019-01-04</td>\n",
       "      <td>15</td>\n",
       "      <td>Vodkas</td>\n",
       "      <td>4</td>\n",
       "      <td>40.404487</td>\n",
       "    </tr>\n",
       "    <tr>\n",
       "      <th>664</th>\n",
       "      <td>665</td>\n",
       "      <td>70</td>\n",
       "      <td>15</td>\n",
       "      <td>62</td>\n",
       "      <td>2019-05-03</td>\n",
       "      <td>32</td>\n",
       "      <td>Vodkas</td>\n",
       "      <td>4</td>\n",
       "      <td>40.404487</td>\n",
       "    </tr>\n",
       "    <tr>\n",
       "      <th>673</th>\n",
       "      <td>674</td>\n",
       "      <td>70</td>\n",
       "      <td>48</td>\n",
       "      <td>86</td>\n",
       "      <td>2019-07-30</td>\n",
       "      <td>28</td>\n",
       "      <td>Vodkas</td>\n",
       "      <td>4</td>\n",
       "      <td>40.404487</td>\n",
       "    </tr>\n",
       "    <tr>\n",
       "      <th>21</th>\n",
       "      <td>22</td>\n",
       "      <td>70</td>\n",
       "      <td>23</td>\n",
       "      <td>147</td>\n",
       "      <td>2020-10-09</td>\n",
       "      <td>40</td>\n",
       "      <td>Vodkas</td>\n",
       "      <td>4</td>\n",
       "      <td>40.404487</td>\n",
       "    </tr>\n",
       "  </tbody>\n",
       "</table>\n",
       "<p>1501 rows × 9 columns</p>\n",
       "</div>"
      ],
      "text/plain": [
       "      Code  Product  Seller  Buyer      Fecha  Quantity       ProductName  \\\n",
       "721    722        1      29    148 2020-06-03        29  American cheeses   \n",
       "479    480        1      43     13 2019-08-01        40  American cheeses   \n",
       "1007  1008        1      45     84 2020-12-05        30  American cheeses   \n",
       "1048  1049        1      12    159 2020-06-03        31  American cheeses   \n",
       "1395  1396        1      14    166 2020-02-16        28  American cheeses   \n",
       "...    ...      ...     ...    ...        ...       ...               ...   \n",
       "596    597       70      37     42 2020-08-30        25            Vodkas   \n",
       "817    818       70      11    106 2019-01-04        15            Vodkas   \n",
       "664    665       70      15     62 2019-05-03        32            Vodkas   \n",
       "673    674       70      48     86 2019-07-30        28            Vodkas   \n",
       "21      22       70      23    147 2020-10-09        40            Vodkas   \n",
       "\n",
       "      provider      Price  \n",
       "721          1   8.913593  \n",
       "479          1   8.913593  \n",
       "1007         1   8.913593  \n",
       "1048         1   8.913593  \n",
       "1395         1   8.913593  \n",
       "...        ...        ...  \n",
       "596          4  40.404487  \n",
       "817          4  40.404487  \n",
       "664          4  40.404487  \n",
       "673          4  40.404487  \n",
       "21           4  40.404487  \n",
       "\n",
       "[1501 rows x 9 columns]"
      ]
     },
     "execution_count": 13,
     "metadata": {},
     "output_type": "execute_result"
    }
   ],
   "source": [
    "whole_df = pd.merge(df_purch, df_prods, on='Product')\n",
    "whole_df.rename(columns={'Name.x':'ProductName'}, inplace=True)\n",
    "whole_df.sort_values('Product', inplace=True)\n",
    "whole_df"
   ]
  },
  {
   "cell_type": "markdown",
   "metadata": {},
   "source": [
    "6. Escribe un programa Pandas para extraer información sobre el número de compras totales y el monto total por nombre de producto y año. "
   ]
  },
  {
   "cell_type": "code",
   "execution_count": null,
   "metadata": {},
   "outputs": [],
   "source": [
    "whole_df.info()"
   ]
  },
  {
   "cell_type": "code",
   "execution_count": 15,
   "metadata": {},
   "outputs": [
    {
     "data": {
      "text/html": [
       "<div>\n",
       "<style scoped>\n",
       "    .dataframe tbody tr th:only-of-type {\n",
       "        vertical-align: middle;\n",
       "    }\n",
       "\n",
       "    .dataframe tbody tr th {\n",
       "        vertical-align: top;\n",
       "    }\n",
       "\n",
       "    .dataframe thead th {\n",
       "        text-align: right;\n",
       "    }\n",
       "</style>\n",
       "<table border=\"1\" class=\"dataframe\">\n",
       "  <thead>\n",
       "    <tr style=\"text-align: right;\">\n",
       "      <th></th>\n",
       "      <th></th>\n",
       "      <th>Quantity</th>\n",
       "    </tr>\n",
       "    <tr>\n",
       "      <th>ProductName</th>\n",
       "      <th>Fecha</th>\n",
       "      <th></th>\n",
       "    </tr>\n",
       "  </thead>\n",
       "  <tbody>\n",
       "    <tr>\n",
       "      <th rowspan=\"3\" valign=\"top\">American cheeses</th>\n",
       "      <th>2019</th>\n",
       "      <td>183</td>\n",
       "    </tr>\n",
       "    <tr>\n",
       "      <th>2020</th>\n",
       "      <td>384</td>\n",
       "    </tr>\n",
       "    <tr>\n",
       "      <th>2021</th>\n",
       "      <td>97</td>\n",
       "    </tr>\n",
       "    <tr>\n",
       "      <th rowspan=\"2\" valign=\"top\">Appellation d'Origine Contrôlée cheeses</th>\n",
       "      <th>2019</th>\n",
       "      <td>241</td>\n",
       "    </tr>\n",
       "    <tr>\n",
       "      <th>2020</th>\n",
       "      <td>184</td>\n",
       "    </tr>\n",
       "    <tr>\n",
       "      <th>...</th>\n",
       "      <th>...</th>\n",
       "      <td>...</td>\n",
       "    </tr>\n",
       "    <tr>\n",
       "      <th rowspan=\"2\" valign=\"top\">Vegetables</th>\n",
       "      <th>2019</th>\n",
       "      <td>249</td>\n",
       "    </tr>\n",
       "    <tr>\n",
       "      <th>2020</th>\n",
       "      <td>108</td>\n",
       "    </tr>\n",
       "    <tr>\n",
       "      <th rowspan=\"3\" valign=\"top\">Vodkas</th>\n",
       "      <th>2019</th>\n",
       "      <td>348</td>\n",
       "    </tr>\n",
       "    <tr>\n",
       "      <th>2020</th>\n",
       "      <td>187</td>\n",
       "    </tr>\n",
       "    <tr>\n",
       "      <th>2021</th>\n",
       "      <td>66</td>\n",
       "    </tr>\n",
       "  </tbody>\n",
       "</table>\n",
       "<p>205 rows × 1 columns</p>\n",
       "</div>"
      ],
      "text/plain": [
       "                                               Quantity\n",
       "ProductName                             Fecha          \n",
       "American cheeses                        2019        183\n",
       "                                        2020        384\n",
       "                                        2021         97\n",
       "Appellation d'Origine Contrôlée cheeses 2019        241\n",
       "                                        2020        184\n",
       "...                                                 ...\n",
       "Vegetables                              2019        249\n",
       "                                        2020        108\n",
       "Vodkas                                  2019        348\n",
       "                                        2020        187\n",
       "                                        2021         66\n",
       "\n",
       "[205 rows x 1 columns]"
      ]
     },
     "execution_count": 15,
     "metadata": {},
     "output_type": "execute_result"
    }
   ],
   "source": [
    "# whole_df['year']=whole_df['Fecha'].dt.year\n",
    "gwhole_df = whole_df.groupby(['ProductName', whole_df['Fecha'].dt.year]).agg({'Quantity': sum})\n",
    "gwhole_df"
   ]
  }
 ],
 "metadata": {
  "kernelspec": {
   "display_name": "Python 3",
   "language": "python",
   "name": "python3"
  },
  "language_info": {
   "codemirror_mode": {
    "name": "ipython",
    "version": 3
   },
   "file_extension": ".py",
   "mimetype": "text/x-python",
   "name": "python",
   "nbconvert_exporter": "python",
   "pygments_lexer": "ipython3",
   "version": "3.12.4"
  }
 },
 "nbformat": 4,
 "nbformat_minor": 2
}
