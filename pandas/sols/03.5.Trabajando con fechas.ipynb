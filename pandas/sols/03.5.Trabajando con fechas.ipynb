{
 "cells": [
  {
   "cell_type": "markdown",
   "id": "f1df3f47",
   "metadata": {},
   "source": [
    "### Trabajando con fechas"
   ]
  },
  {
   "cell_type": "code",
   "execution_count": 2,
   "id": "bca94271",
   "metadata": {},
   "outputs": [],
   "source": [
    "import pandas as pd\n",
    "import os\n",
    "import matplotlib.pyplot as plt"
   ]
  },
  {
   "cell_type": "code",
   "execution_count": null,
   "id": "f134a870",
   "metadata": {},
   "outputs": [],
   "source": [
    "os.getcwd()"
   ]
  },
  {
   "cell_type": "markdown",
   "id": "f85cf20c",
   "metadata": {},
   "source": [
    "*Librería Datetime: https://docs.python.org/3/library/dat...\n",
    "*Pandas to datetime: https://pandas.pydata.org/pandas-docs...\n"
   ]
  },
  {
   "cell_type": "code",
   "execution_count": 4,
   "id": "ea16ab41",
   "metadata": {},
   "outputs": [],
   "source": [
    "df = pd.read_excel(os.getcwd() + \"\\\\Global Superstore_2.xls\")"
   ]
  },
  {
   "cell_type": "code",
   "execution_count": 5,
   "id": "72c091d8",
   "metadata": {},
   "outputs": [],
   "source": [
    "df_c = df.loc[:,[\"Order Date\",\"Ship Date\",\"Segment\",\"Category\",\"Sales\",\"Quantity\"]]"
   ]
  },
  {
   "cell_type": "code",
   "execution_count": null,
   "id": "5e82c44e",
   "metadata": {},
   "outputs": [],
   "source": [
    "df_c.info()"
   ]
  },
  {
   "cell_type": "markdown",
   "id": "1d163fe9",
   "metadata": {},
   "source": [
    "Ordenamos por fecha de pedido"
   ]
  },
  {
   "cell_type": "code",
   "execution_count": 7,
   "id": "885b366e",
   "metadata": {},
   "outputs": [],
   "source": [
    "df_c = df_c.sort_values(by=['Order Date'], ascending = [True])"
   ]
  },
  {
   "cell_type": "code",
   "execution_count": null,
   "id": "0b3b9309",
   "metadata": {},
   "outputs": [],
   "source": [
    "df_c.shape"
   ]
  },
  {
   "cell_type": "code",
   "execution_count": null,
   "id": "4d8ea8a3",
   "metadata": {},
   "outputs": [],
   "source": [
    "df_c"
   ]
  },
  {
   "cell_type": "markdown",
   "id": "ea1863cd",
   "metadata": {},
   "source": [
    "Obtenemos fecha maxima y fecha minima"
   ]
  },
  {
   "cell_type": "code",
   "execution_count": null,
   "id": "77412f5e",
   "metadata": {},
   "outputs": [],
   "source": [
    "print(max(df_c[\"Order Date\"]))\n",
    "print(min(df_c[\"Order Date\"]))\n"
   ]
  },
  {
   "cell_type": "markdown",
   "id": "298793fe",
   "metadata": {},
   "source": [
    "Seleccionamos solo los registros del 2014"
   ]
  },
  {
   "cell_type": "code",
   "execution_count": 323,
   "id": "0a020b13",
   "metadata": {},
   "outputs": [],
   "source": [
    "df_2014 = df_c[(df_c[\"Order Date\"] >= \"2014-01-01\") & (df_c[\"Order Date\"] <= \"2014-12-31\")]"
   ]
  },
  {
   "cell_type": "code",
   "execution_count": null,
   "id": "a401fe24",
   "metadata": {},
   "outputs": [],
   "source": [
    "df_2014"
   ]
  },
  {
   "cell_type": "code",
   "execution_count": null,
   "id": "bbfbe209",
   "metadata": {},
   "outputs": [],
   "source": [
    "plt.rcParams[\"figure.figsize\"] = (30,10) # con esta linea predefinimos el tamaño del gráfico\n",
    "df_gbd = df_2014.groupby(\"Order Date\").sum()[\"Sales\"]\n",
    "df_gbd.plot.line(x=df_gbd.index,y = df_gbd, fontsize = 20 )"
   ]
  },
  {
   "cell_type": "markdown",
   "id": "60edbd15",
   "metadata": {},
   "source": [
    "Creamos una nueva columna con el formato de fecha d/m/a, pero OJO!! Será una columna tipo object, es decir, de texto. "
   ]
  },
  {
   "cell_type": "code",
   "execution_count": null,
   "id": "fdf093b1",
   "metadata": {},
   "outputs": [],
   "source": [
    "import datetime\n",
    "df_2014[\"Order Date_str\"] = df_2014[\"Order Date\"].dt.strftime('%d/%m/%Y')\n",
    "\n"
   ]
  },
  {
   "cell_type": "code",
   "execution_count": null,
   "id": "70881c40",
   "metadata": {},
   "outputs": [],
   "source": [
    "df_2014.head()"
   ]
  },
  {
   "cell_type": "code",
   "execution_count": null,
   "id": "1f2703e1",
   "metadata": {},
   "outputs": [],
   "source": [
    "df_2014.info()"
   ]
  },
  {
   "cell_type": "markdown",
   "id": "95889f5b",
   "metadata": {},
   "source": [
    "Extraemos el mes"
   ]
  },
  {
   "cell_type": "code",
   "execution_count": null,
   "id": "b2c37aac",
   "metadata": {},
   "outputs": [],
   "source": [
    "df_2014[\"mes pedido\"] =  df_2014['Order Date'].dt.month\n"
   ]
  },
  {
   "cell_type": "code",
   "execution_count": null,
   "id": "8f8d2789",
   "metadata": {},
   "outputs": [],
   "source": [
    "df_2014.info()"
   ]
  },
  {
   "cell_type": "code",
   "execution_count": null,
   "id": "24d7dcc0",
   "metadata": {},
   "outputs": [],
   "source": [
    "df_2014"
   ]
  },
  {
   "cell_type": "markdown",
   "id": "1ddb1c43",
   "metadata": {},
   "source": [
    "En la documentación de la librería datetime (link al inicio del notebook), al final del todo tenemos una tabla con los diferentes codigos que nos sirven para obtener los diferentes formatos de fecha, nombre mes, dia semana, etc.."
   ]
  },
  {
   "cell_type": "code",
   "execution_count": null,
   "id": "a1fdddcc",
   "metadata": {
    "scrolled": true
   },
   "outputs": [],
   "source": [
    "#  %b nos devuelve el nombre del mes\n",
    "df_2014[\"mes pedido_str\"] =  df_2014[\"Order Date\"].dt.strftime('%b')"
   ]
  },
  {
   "cell_type": "code",
   "execution_count": null,
   "id": "6c7ca904",
   "metadata": {},
   "outputs": [],
   "source": [
    "#  %b nos devuelve el día de la semana\n",
    "df_2014[\"dia_semana_pedido_str\"] =  df_2014[\"Order Date\"].dt.strftime('%A')"
   ]
  },
  {
   "cell_type": "code",
   "execution_count": null,
   "id": "facfe7b4",
   "metadata": {},
   "outputs": [],
   "source": [
    "df_2014"
   ]
  },
  {
   "cell_type": "markdown",
   "id": "3489c2cc",
   "metadata": {},
   "source": [
    "Hemos visto como obtner un fragmento del dataframe (2014) filtrando como ya sabíamos hacer con otro tipo de variables. Ahora vamos a obtener el de 2013 con el metodo between:"
   ]
  },
  {
   "cell_type": "code",
   "execution_count": 335,
   "id": "27faab7b",
   "metadata": {},
   "outputs": [],
   "source": [
    "df_2013 =df.loc[df[\"Order Date\"].between('2013-01-01', '2013-12-31')]"
   ]
  },
  {
   "cell_type": "code",
   "execution_count": null,
   "id": "94f7c123",
   "metadata": {
    "scrolled": true
   },
   "outputs": [],
   "source": [
    "df_2013.head()"
   ]
  },
  {
   "cell_type": "markdown",
   "id": "b6af84b9",
   "metadata": {},
   "source": [
    "### Diferencia entre fechas\n",
    "\n",
    "Crearemos una columna que nos devuelva los días entre la fecha del pedido y la fecha del envío."
   ]
  },
  {
   "cell_type": "code",
   "execution_count": 443,
   "id": "bc6701e0",
   "metadata": {},
   "outputs": [],
   "source": [
    "df_c[\"Días_transcurridos\"] = (df_c[\"Ship Date\"] - df_c[\"Order Date\"]).dt.days"
   ]
  },
  {
   "cell_type": "code",
   "execution_count": null,
   "id": "73343b48",
   "metadata": {},
   "outputs": [],
   "source": [
    "df_c"
   ]
  },
  {
   "cell_type": "markdown",
   "id": "225fd0b0",
   "metadata": {},
   "source": [
    "### Vamos a montar algún gráfico interesante:\n"
   ]
  },
  {
   "cell_type": "code",
   "execution_count": null,
   "id": "5b8461ab",
   "metadata": {},
   "outputs": [],
   "source": [
    "# extraemos el año del pedidio del df original\n",
    "df_c[\"order_year\"] = df_c['Order Date'].dt.year\n",
    "df_c[\"order_month\"] = df_c['Order Date'].dt.month\n",
    "df_c[\"order_w_day\"] =  df_c[\"Order Date\"].dt.strftime('%A')\n",
    "df_c.head()"
   ]
  },
  {
   "cell_type": "code",
   "execution_count": null,
   "id": "fb2e53a1",
   "metadata": {},
   "outputs": [],
   "source": [
    "type(groupeddf)"
   ]
  },
  {
   "cell_type": "code",
   "execution_count": 339,
   "id": "c3350c1d",
   "metadata": {},
   "outputs": [],
   "source": [
    "groupeddf = df_c.groupby([\"order_year\",\"order_month\"]).mean()[\"Sales\"]\n"
   ]
  },
  {
   "cell_type": "code",
   "execution_count": 340,
   "id": "b079a4f8",
   "metadata": {},
   "outputs": [],
   "source": [
    "pd_group = pd.DataFrame(groupeddf).reset_index()"
   ]
  },
  {
   "cell_type": "code",
   "execution_count": null,
   "id": "35cae4ea",
   "metadata": {},
   "outputs": [],
   "source": []
  },
  {
   "cell_type": "code",
   "execution_count": null,
   "id": "dfd55235",
   "metadata": {
    "scrolled": true
   },
   "outputs": [],
   "source": [
    "pd_group.head()"
   ]
  },
  {
   "cell_type": "code",
   "execution_count": 342,
   "id": "596c4c39",
   "metadata": {},
   "outputs": [],
   "source": [
    "df_ym = df_c.groupby([\"order_year\",\"order_month\"]).mean()[\"Sales\"].to_frame()"
   ]
  },
  {
   "cell_type": "code",
   "execution_count": null,
   "id": "3016b582",
   "metadata": {},
   "outputs": [],
   "source": [
    "df_ym"
   ]
  },
  {
   "cell_type": "code",
   "execution_count": null,
   "id": "7adf66e0",
   "metadata": {},
   "outputs": [],
   "source": [
    "df_c.columns"
   ]
  },
  {
   "cell_type": "code",
   "execution_count": 345,
   "id": "b82e685f",
   "metadata": {},
   "outputs": [],
   "source": [
    "p_table = pd.pivot_table(df_ym, index=['order_month'], columns = [\"order_year\"]) "
   ]
  },
  {
   "cell_type": "code",
   "execution_count": null,
   "id": "a808c677",
   "metadata": {},
   "outputs": [],
   "source": [
    "p_table.plot.line()"
   ]
  },
  {
   "cell_type": "code",
   "execution_count": null,
   "id": "20209afd",
   "metadata": {},
   "outputs": [],
   "source": [
    "p_table.plot.bar()"
   ]
  },
  {
   "cell_type": "code",
   "execution_count": null,
   "id": "4e714c1e",
   "metadata": {},
   "outputs": [],
   "source": [
    "df_2014[\"dia_semana_pedido_str\"].unique()"
   ]
  },
  {
   "cell_type": "code",
   "execution_count": null,
   "id": "1be0e2b4",
   "metadata": {},
   "outputs": [],
   "source": [
    "len(df_2014)"
   ]
  },
  {
   "cell_type": "markdown",
   "id": "e3bce0ef",
   "metadata": {},
   "source": [
    "Creamos una columna que nos diga si es fin de semana o dia de diario"
   ]
  },
  {
   "cell_type": "code",
   "execution_count": null,
   "id": "3472359f",
   "metadata": {},
   "outputs": [],
   "source": [
    "df_c.columns"
   ]
  },
  {
   "cell_type": "code",
   "execution_count": 419,
   "id": "c601d382",
   "metadata": {},
   "outputs": [],
   "source": [
    "for n in range(len(df_c)):\n",
    "\n",
    "    df_c.loc[n,\"Finde\"] = \"Finde\" if df_c.loc[n, \"order_w_day\"] in ['Saturday',\"Sunday\"] else \"Diario\""
   ]
  },
  {
   "cell_type": "code",
   "execution_count": null,
   "id": "6b21878d",
   "metadata": {},
   "outputs": [],
   "source": [
    "df_c"
   ]
  },
  {
   "cell_type": "code",
   "execution_count": 421,
   "id": "9d63b61e",
   "metadata": {},
   "outputs": [],
   "source": [
    "df_c_sales = df_c.loc[:,['Sales','order_year',\"Finde\"]]"
   ]
  },
  {
   "cell_type": "code",
   "execution_count": 465,
   "id": "941490fd",
   "metadata": {},
   "outputs": [],
   "source": [
    "#creamos una medida mas manejable dividiendo Slaes entre 1000\n",
    "df_c_sales[\"Sales_miles€\"] =  round(df_c_sales[\"Sales\"]/1000,2)"
   ]
  },
  {
   "cell_type": "code",
   "execution_count": 466,
   "id": "b0a11991",
   "metadata": {},
   "outputs": [],
   "source": [
    "p_table2 = pd.pivot_table(df_c_sales, index=['Finde'], columns = [\"order_year\"], values = \"Sales_miles€\", aggfunc=\"sum\")"
   ]
  },
  {
   "cell_type": "code",
   "execution_count": null,
   "id": "4eebbd60",
   "metadata": {
    "scrolled": true
   },
   "outputs": [],
   "source": [
    "p_table2"
   ]
  },
  {
   "cell_type": "code",
   "execution_count": null,
   "id": "db907c08",
   "metadata": {},
   "outputs": [],
   "source": [
    "p_table2.plot.pie(subplots=True, # Parámetro necesario para múltiples quesitos\n",
    "                   figsize = (20,20), # Tamaño quesito\n",
    "                   autopct = \"%1.2f %%\", # Formato\n",
    "                   legend = False, #Leyenda\n",
    "                   \n",
    "                   startangle = 90\n",
    "                  )"
   ]
  },
  {
   "cell_type": "code",
   "execution_count": null,
   "id": "e5ce6df4",
   "metadata": {},
   "outputs": [],
   "source": [
    "p_table2"
   ]
  },
  {
   "cell_type": "code",
   "execution_count": 470,
   "id": "9af80edb",
   "metadata": {},
   "outputs": [],
   "source": [
    "p_table3 = pd.pivot_table(df_c_sales, index=['order_year'], columns = [\"Finde\"], values = \"Sales_miles€\", aggfunc=\"sum\")"
   ]
  },
  {
   "cell_type": "code",
   "execution_count": null,
   "id": "84fe65c3",
   "metadata": {},
   "outputs": [],
   "source": [
    "p_table3.plot.bar(stacked = True)\n",
    "\n",
    "plt.title(\"Ventas por años desglosado en fines de semana o dias de diario\", fontsize = 35)\n",
    "plt.xlabel(\"Años\", fontsize = 20)\n",
    "plt.ylabel(\"Ventas\", fontsize = 20)\n",
    "plt.legend(fontsize = 30)\n",
    "plt.xticks(fontsize = 30)\n",
    "plt.yticks(fontsize = 20)\n",
    "print(p_table3)\n",
    "plt.show()"
   ]
  }
 ],
 "metadata": {
  "kernelspec": {
   "display_name": "Python 3 (ipykernel)",
   "language": "python",
   "name": "python3"
  },
  "language_info": {
   "codemirror_mode": {
    "name": "ipython",
    "version": 3
   },
   "file_extension": ".py",
   "mimetype": "text/x-python",
   "name": "python",
   "nbconvert_exporter": "python",
   "pygments_lexer": "ipython3",
   "version": "3.9.13"
  }
 },
 "nbformat": 4,
 "nbformat_minor": 5
}
