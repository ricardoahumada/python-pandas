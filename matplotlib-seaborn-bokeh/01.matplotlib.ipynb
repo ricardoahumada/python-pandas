{
 "cells": [
  {
   "cell_type": "markdown",
   "metadata": {},
   "source": [
    "# Matplotlib"
   ]
  },
  {
   "attachments": {
    "image.png": {
     "image/png": "[encoded data removed]"
    }
   },
   "cell_type": "markdown",
   "metadata": {},
   "source": [
    "[Matplotlib](https://matplotlib.org/) es una librería de Python especializada en la creación de gráficos en dos dimensiones.\n",
    "\n",
    "![image.png](attachment:image.png)\n",
    "\n",
    "Permite crear y personalizar los tipos de gráficos más comunes, entre ellos:\n",
    "\n",
    "- Diagramas de barras\n",
    "- Histograma\n",
    "- Diagramas de sectores\n",
    "- Diagramas de caja y bigotes\n",
    "- Diagramas de violín\n",
    "- Diagramas de dispersión o puntos\n",
    "- Diagramas de lineas\n",
    "- Diagramas de areas\n",
    "- Diagramas de contorno\n",
    "- Mapas de color\n",
    "\n",
    "y combinaciones de todos ellos.\n",
    "\n",
    "En la siguiente [galería de gráficos](https://matplotlib.org/gallery/index.html) pueden apreciarse todos los tipos de gráficos que pueden crearse con esta librería."
   ]
  },
  {
   "cell_type": "markdown",
   "metadata": {},
   "source": [
    "## Creación de gráficos con matplotlib\n",
    "Para crear un gráfico con matplotlib es habitual seguir los siguientes pasos:\n",
    "\n",
    "1. Importar el módulo pyplot.\n",
    "\n",
    "2. Definir la figura que contendrá el gráfico, que es la region (ventana o página) donde se dibujará y los ejes sobre los que se dibujarán los datos. \n",
    "Para ello se utiliza la función **subplots()**.\n",
    "\n",
    "3. Dibujar los datos sobre los ejes. Para ello se utilizan distintas funciones dependiendo del tipo de gráfico que se quiera.\n",
    "\n",
    "4. Personalizar el gráfico. Para ello existen multitud de funciones que permiten añadir un título, una leyenda, una rejilla, cambiar colores o personalizar los ejes.\n",
    "\n",
    "5. Guardar el gráfico. Para ello se utiliza la función **savefig()**.\n",
    "\n",
    "6. Mostrar el gráfico. Para ello se utiliza la función **show()**."
   ]
  },
  {
   "cell_type": "code",
   "execution_count": null,
   "metadata": {},
   "outputs": [],
   "source": [
    "import matplotlib.pyplot as plt\n",
    "\n",
    "# Crear la figura y los ejes\n",
    "fig, ax = plt.subplots()\n",
    "\n",
    "# Dibujar puntos\n",
    "ax.scatter(x = [1, 2, 3], y = [3, 2, 1])\n",
    "\n",
    "# Guardar el gráfico en formato png\n",
    "# plt.savefig('diagrama-dispersion.png')\n",
    "\n",
    "# Mostrar el gráfico\n",
    "plt.show()"
   ]
  },
  {
   "cell_type": "markdown",
   "metadata": {},
   "source": [
    "### Diagramas de dispersión o puntos\n",
    "\n",
    "- **scatter(x, y)**: Dibuja un diagrama de puntos con las coordenadas de la lista x en el eje X y las coordenadas de la lista y en el eje Y. \n",
    "- https://matplotlib.org/api/_as_gen/matplotlib.pyplot.scatter.html#matplotlib.pyplot.scatter"
   ]
  },
  {
   "cell_type": "code",
   "execution_count": null,
   "metadata": {},
   "outputs": [],
   "source": [
    "fig, ax = plt.subplots()\n",
    "ax.scatter([1, 2, 3, 4], [1, 2, 0, 0.5])\n",
    "plt.show()"
   ]
  },
  {
   "cell_type": "markdown",
   "metadata": {},
   "source": [
    "### Diagramas de líneas\n",
    "- **plot(x, y)**: Dibuja un polígono con los vértices dados por las coordenadas de la lista x en el eje X y las coordenadas de la lista y en el eje Y. \n",
    "- https://matplotlib.org/api/_as_gen/matplotlib.pyplot.plot.html#matplotlib.pyplot.plot"
   ]
  },
  {
   "cell_type": "code",
   "execution_count": null,
   "metadata": {},
   "outputs": [],
   "source": [
    "fig, ax = plt.subplots()\n",
    "ax.plot([1, 2, 3, 4], [1, 2, 0, 0.5])\n",
    "plt.show()"
   ]
  },
  {
   "cell_type": "markdown",
   "metadata": {},
   "source": [
    "### Diagramas de areas\n",
    "- **fill_between(x, y)**: Dibuja el area bajo el polígono con los vértices dados por las coordenadas de la lista x en el eje X y las coordenadas de la lista y en el eje Y. \n",
    "- https://matplotlib.org/api/_as_gen/matplotlib.pyplot.fill_between.html#matplotlib.pyplot.fill_between"
   ]
  },
  {
   "cell_type": "code",
   "execution_count": null,
   "metadata": {},
   "outputs": [],
   "source": [
    "fig, ax = plt.subplots()\n",
    "ax.fill_between([1, 2, 3, 4], [1, 2, 0, 0.5])\n",
    "plt.show()"
   ]
  },
  {
   "cell_type": "markdown",
   "metadata": {},
   "source": [
    "### Diagramas de barras verticales\n",
    "- **bar(x, y)**: Dibuja un diagrama de barras verticales donde x es una lista con la posición de las barras en el eje X, e y es una lista con la altura de las barras en el eje Y. \n",
    "- https://matplotlib.org/api/_as_gen/matplotlib.pyplot.bar.html#matplotlib.pyplot.bar"
   ]
  },
  {
   "cell_type": "code",
   "execution_count": null,
   "metadata": {},
   "outputs": [],
   "source": [
    "fig, ax = plt.subplots()\n",
    "ax.bar([1, 2, 3], [3, 2, 1])\n",
    "plt.show()"
   ]
  },
  {
   "cell_type": "markdown",
   "metadata": {},
   "source": [
    "### Diagramas de barras horizontales\n",
    "- **barh(x, y)**: Dibuja un diagrama de barras horizontales donde x es una lista con la posición de las barras en el eje Y, e y es una lista con la longitud de las barras en el eje X. \n",
    "- https://matplotlib.org/api/_as_gen/matplotlib.pyplot.barh.html#matplotlib.pyplot.barh"
   ]
  },
  {
   "cell_type": "code",
   "execution_count": null,
   "metadata": {},
   "outputs": [],
   "source": [
    "fig, ax = plt.subplots()\n",
    "ax.barh([1, 2, 3], [3, 2, 1])\n",
    "plt.show()"
   ]
  },
  {
   "cell_type": "markdown",
   "metadata": {},
   "source": [
    "### Histogramas\n",
    "- **hist(x, bins)**: Dibuja un histograma con las frecuencias resultantes de agrupar los datos de la lista x en las clases definidas por la lista bins. \n",
    "- https://matplotlib.org/api/_as_gen/matplotlib.pyplot.hist.html#matplotlib.pyplot.hist"
   ]
  },
  {
   "cell_type": "code",
   "execution_count": null,
   "metadata": {},
   "outputs": [],
   "source": [
    "import numpy as np\n",
    "\n",
    "fig, ax = plt.subplots()\n",
    "x = np.random.normal(5, 1.5, size=1000)\n",
    "ax.hist(x, np.arange(0, 11))\n",
    "plt.show()"
   ]
  },
  {
   "cell_type": "markdown",
   "metadata": {},
   "source": [
    "### Diagramas de sectores\n",
    "- **pie(x)**: Dibuja un diagrama de sectores con las frecuencias de la lista x. \n",
    "- https://matplotlib.org/api/_as_gen/matplotlib.pyplot.pie.html#matplotlib.pyplot.pie"
   ]
  },
  {
   "cell_type": "code",
   "execution_count": null,
   "metadata": {},
   "outputs": [],
   "source": [
    "fig, ax = plt.subplots()\n",
    "ax.pie([5, 4, 3, 2, 1])\n",
    "plt.show()"
   ]
  },
  {
   "cell_type": "markdown",
   "metadata": {},
   "source": [
    "### Diagramas de caja y bigotes\n",
    "- **boxplot(x)**: Dibuja un diagrama de caja y bigotes con los datos de la lista x. \n",
    "- https://matplotlib.org/api/_as_gen/matplotlib.pyplot.boxplot.html#matplotlib.pyplot.boxplot"
   ]
  },
  {
   "cell_type": "code",
   "execution_count": null,
   "metadata": {},
   "outputs": [],
   "source": [
    "fig, ax = plt.subplots()\n",
    "ax.boxplot([1, 2, 1, 2, 3, 4, 3, 3, 5, 7])\n",
    "plt.show()"
   ]
  },
  {
   "cell_type": "markdown",
   "metadata": {},
   "source": [
    "### Diagramas de violín\n",
    "- **violinplot(x)**: Dibuja un diagrama de violín con los datos de la lista x.\n",
    "- https://matplotlib.org/api/_as_gen/matplotlib.pyplot.violinplot.html#matplotlib.pyplot.violinplot"
   ]
  },
  {
   "cell_type": "code",
   "execution_count": null,
   "metadata": {},
   "outputs": [],
   "source": [
    "fig, ax = plt.subplots()\n",
    "ax.violinplot([1, 2, 1, 2, 3, 4, 3, 3, 5, 7])\n",
    "plt.show()"
   ]
  },
  {
   "cell_type": "markdown",
   "metadata": {},
   "source": [
    "### Diagramas de contorno\n",
    "- **contourf(x, y, z)**: Dibuja un diagrama de contorno con las curvas de nivel de la superficie dada por los puntos con las coordenadas de las listas x, y y z en los ejes X, Y y Z respectivamente. \n",
    "- https://matplotlib.org/api/_as_gen/matplotlib.pyplot.contourf.html#matplotlib.pyplot.contourf"
   ]
  },
  {
   "cell_type": "code",
   "execution_count": null,
   "metadata": {},
   "outputs": [],
   "source": [
    "fig, ax = plt.subplots()\n",
    "x = np.linspace(-3.0, 3.0, 100)\n",
    "y = np.linspace(-3.0, 3.0, 100)\n",
    "x, y = np.meshgrid(x, y)\n",
    "z = np.sqrt(x**2 + 2*y**2)\n",
    "ax.contourf(x, y, z)\n",
    "plt.show()"
   ]
  },
  {
   "cell_type": "markdown",
   "metadata": {},
   "source": [
    "### Mapas de color\n",
    "- **imshow(x)**: Dibuja un mapa de color a partir de una matriz (array bidimensiona) x. \n",
    "- https://matplotlib.org/api/_as_gen/matplotlib.pyplot.imshow.html#matplotlib.pyplot.imshow"
   ]
  },
  {
   "cell_type": "code",
   "execution_count": null,
   "metadata": {},
   "outputs": [],
   "source": [
    "fig, ax = plt.subplots()\n",
    "x = np.random.random((16, 16))\n",
    "ax.imshow(x)\n",
    "plt.show()"
   ]
  },
  {
   "cell_type": "markdown",
   "metadata": {},
   "source": [
    "- **hist2d(x, y)**: Dibuja un mapa de color que simula un histograma bidimensional, donde los colores de los cuadrados dependen de las frecuencias de las clases de la muestra dada por las listas x e y. \n",
    "- https://matplotlib.org/api/_as_gen/matplotlib.pyplot.hist2d.html#matplotlib.pyplot.hist2d"
   ]
  },
  {
   "cell_type": "code",
   "execution_count": null,
   "metadata": {},
   "outputs": [],
   "source": [
    "fig, ax = plt.subplots()\n",
    "x, y = np.random.multivariate_normal(mean=[0.0, 0.0], cov=[[1.0, 0.4], [0.4, 0.5]], size=1000).T\n",
    "ax.hist2d(x, y)\n",
    "plt.show()"
   ]
  },
  {
   "cell_type": "markdown",
   "metadata": {},
   "source": [
    "## Cambiar el aspecto de los gráficos\n",
    "Los gráficos creados con Matplotlib son personalizables y puede cambiarse el aspecto de casi todos sus elementos. Los elementos que suelen modificarse más a menudo son:\n",
    "\n",
    "- Colores\n",
    "- Marcadores de puntos\n",
    "- Estilo de líneas\n",
    "- Títulos\n",
    "- Ejes\n",
    "- Leyenda\n",
    "- Rejilla"
   ]
  },
  {
   "cell_type": "markdown",
   "metadata": {},
   "source": [
    "### Colores\n",
    "- Para cambiar el color de los objetos se utiliza el parámetro **color = nombre-color**, donde nombre-color es una cadena con el nombre del color de entre los colores disponibles.\n",
    "    - https://matplotlib.org/3.2.1/gallery/color/named_colors.html"
   ]
  },
  {
   "cell_type": "code",
   "execution_count": null,
   "metadata": {},
   "outputs": [],
   "source": [
    "fig, ax = plt.subplots()\n",
    "dias = ['L', 'M', 'X', 'J', 'V', 'S', 'D']\n",
    "temperaturas = {'Madrid':[28.5, 30.5, 31, 30, 28, 27.5, 30.5], 'Barcelona':[24.5, 25.5, 26.5, 25, 26.5, 24.5, 25]}\n",
    "ax.plot(dias, temperaturas['Madrid'], color = 'tab:purple')\n",
    "ax.plot(dias, temperaturas['Barcelona'], color = 'tab:green')\n",
    "plt.show()"
   ]
  },
  {
   "cell_type": "markdown",
   "metadata": {},
   "source": [
    "### Marcadores\n",
    "- Para cambiar la forma de los puntos marcadores se utiliza el parámetro **marker = nombre-marcador** donde nombre-marcador es una cadena con el nombre del marcador de entre los marcadores disponibles\n",
    "    - https://matplotlib.org/3.2.1/api/markers_api.html"
   ]
  },
  {
   "cell_type": "code",
   "execution_count": null,
   "metadata": {},
   "outputs": [],
   "source": [
    "fig, ax = plt.subplots()\n",
    "dias = ['L', 'M', 'X', 'J', 'V', 'S', 'D']\n",
    "temperaturas = {'Madrid':[28.5, 30.5, 31, 30, 28, 27.5, 30.5], 'Barcelona':[24.5, 25.5, 26.5, 25, 26.5, 24.5, 25]}\n",
    "ax.plot(dias, temperaturas['Madrid'], marker = '^')\n",
    "ax.plot(dias, temperaturas['Barcelona'], marker = 'o')\n",
    "plt.show()"
   ]
  },
  {
   "cell_type": "markdown",
   "metadata": {},
   "source": [
    "### Líneas\n",
    "- Para cambiar el estilo de las líneas se utiliza el parámetro **linestyle = nombre-estilo** donde nombre-estilo es una cadena con el nombre del estilo de entre los estilos disponibles\n",
    "    - https://matplotlib.org/3.2.1/gallery/lines_bars_and_markers/linestyles.html"
   ]
  },
  {
   "cell_type": "code",
   "execution_count": null,
   "metadata": {},
   "outputs": [],
   "source": [
    "fig, ax = plt.subplots()\n",
    "dias = ['L', 'M', 'X', 'J', 'V', 'S', 'D']\n",
    "temperaturas = {'Madrid':[28.5, 30.5, 31, 30, 28, 27.5, 30.5], 'Barcelona':[24.5, 25.5, 26.5, 25, 26.5, 24.5, 25]}\n",
    "ax.plot(dias, temperaturas['Madrid'], linestyle = 'dashed')\n",
    "ax.plot(dias, temperaturas['Barcelona'], linestyle = 'dotted')\n",
    "plt.show()"
   ]
  },
  {
   "cell_type": "markdown",
   "metadata": {},
   "source": [
    "### Títulos\n",
    "Para añadir un título principal al gráfico se utiliza el siguiente método:\n",
    "\n",
    "- **ax.set_title(titulo, loc=alineacion, fontdict=fuente)**: Añade un título con el contenido de la cadena titulo a los ejes ax. El parámetro loc indica la alineación del título, que puede ser 'left' (izquierda), 'center' (centro) o 'right' (derecha), y el parámetro fontdict indica mediante un diccionario las características de la fuente (la el tamaño fontisize, el grosor fontweight o el color color)."
   ]
  },
  {
   "cell_type": "code",
   "execution_count": null,
   "metadata": {},
   "outputs": [],
   "source": [
    "fig, ax = plt.subplots()\n",
    "dias = ['L', 'M', 'X', 'J', 'V', 'S', 'D']\n",
    "temperaturas = {'Madrid':[28.5, 30.5, 31, 30, 28, 27.5, 30.5], 'Barcelona':[24.5, 25.5, 26.5, 25, 26.5, 24.5, 25]}\n",
    "ax.plot(dias, temperaturas['Madrid'])\n",
    "ax.plot(dias, temperaturas['Barcelona'])\n",
    "ax.set_title('Evolución de la temperatura diaria', loc = \"left\", fontdict = {'fontsize':14, 'fontweight':'bold', 'color':'tab:blue'})\n",
    "plt.show()"
   ]
  },
  {
   "cell_type": "markdown",
   "metadata": {},
   "source": [
    "### Ejes\n",
    "Para cambiar el aspecto de los ejes se suelen utilizar los siguientes métodos:\n",
    "\n",
    "- **ax.set_xlabel(titulo)**: Añade un título con el contenido de la cadena titulo al eje x de ax. Se puede personalizar la alineación y la fuente con los mismos parámetros que para el título principal.\n",
    "- **ax.set_ylabel(titulo)**: Añade un título con el contenido de la cadena titulo al eje y de ax. Se puede personalizar la alineación y la fuente con los mismos parámetros que para el título principal.\n",
    "- **ax.set_xlim([limite-inferior, limite-superior])**: Establece los límites que se muestran en el eje x de ax.\n",
    "- **ax.set_ylim([limite-inferior, limite-superior])**: Establece los límites que se muestran en el eje y de ax.\n",
    "- **ax.set_xticks(marcas)**: Dibuja marcas en el eje x de ax en las posiciones indicadas en la lista marcas.\n",
    "- **ax.set_yticks(marcas)**: Dibuja marcas en el eje y de ax en las posiciones indicadas en la lista marcas.\n",
    "- **ax.set_xscale(escala)**: Establece la escala del eje x de ax, donde el parámetro escala puede ser 'linear' (lineal) o 'log' (logarítmica).\n",
    "- **ax.set_yscale(escala)**: Establece la escala del eje y de ax, donde el parámetro escala puede ser 'linear' (lineal) o 'log' (logarítmica)."
   ]
  },
  {
   "cell_type": "code",
   "execution_count": null,
   "metadata": {},
   "outputs": [],
   "source": [
    "fig, ax = plt.subplots()\n",
    "dias = ['L', 'M', 'X', 'J', 'V', 'S', 'D']\n",
    "temperaturas = {'Madrid':[28.5, 30.5, 31, 30, 28, 27.5, 30.5], 'Barcelona':[24.5, 25.5, 26.5, 25, 26.5, 24.5, 25]}\n",
    "ax.plot(dias, temperaturas['Madrid'])\n",
    "ax.plot(dias, temperaturas['Barcelona'])\n",
    "ax.set_xlabel(\"Días\", fontdict = {'fontsize':14, 'fontweight':'bold', 'color':'tab:blue'})\n",
    "ax.set_ylabel(\"Temperatura ºC\")\n",
    "ax.set_ylim([20,35])\n",
    "ax.set_yticks(range(20, 35))\n",
    "plt.show()"
   ]
  },
  {
   "cell_type": "markdown",
   "metadata": {},
   "source": [
    "### Leyenda\n",
    "Para añadir una leyenda a un gráfico se utiliza el siguiente método:\n",
    "\n",
    "- **ax.legend(leyendas, loc = posición)**: Dibuja un leyenda en los ejes ax con los nombres indicados en la lista leyendas. El parámetro loc indica la posición en la que se dibuja la leyenda y puede ser 'upper left' (arriba izquierda), 'upper center' (arriba centro), 'upper right' (arriba derecha), 'center left' (centro izquierda), 'center' (centro), 'center right' (centro derecha), 'lower left' (abajo izquierda), 'lower center' (abajo centro), 'lower right' (abajo derecha). Se puede omitir la lista leyendas si se indica la leyenda de cada serie en la función que la dibuja mediante el parámetro label."
   ]
  },
  {
   "cell_type": "code",
   "execution_count": null,
   "metadata": {},
   "outputs": [],
   "source": [
    "fig, ax = plt.subplots()\n",
    "dias = ['L', 'M', 'X', 'J', 'V', 'S', 'D']\n",
    "temperaturas = {'Madrid':[28.5, 30.5, 31, 30, 28, 27.5, 30.5], 'Barcelona':[24.5, 25.5, 26.5, 25, 26.5, 24.5, 25]}\n",
    "ax.plot(dias, temperaturas['Madrid'], label = 'Madrid')\n",
    "ax.plot(dias, temperaturas['Barcelona'], label = 'Barcelona')\n",
    "ax.legend(loc = 'upper right')\n",
    "plt.show()"
   ]
  },
  {
   "cell_type": "markdown",
   "metadata": {},
   "source": [
    "### Rejilla\n",
    "- **ax.grid(axis=ejes, color=color, linestyle=estilo)**: Dibuja una rejilla en los ejes de ax. El parámetro axis indica los ejes sobre los que se dibuja la regilla y puede ser 'x' (eje x), 'y' (eje y) o 'both' (ambos). Los parámetros color y linestyle establecen el color y el estilo de las líneas de la rejilla, y pueden tomar los mismos valores vistos en los apartados de colores y líneas."
   ]
  },
  {
   "cell_type": "code",
   "execution_count": null,
   "metadata": {},
   "outputs": [],
   "source": [
    "fig, ax = plt.subplots()\n",
    "dias = ['L', 'M', 'X', 'J', 'V', 'S', 'D']\n",
    "temperaturas = {'Madrid':[28.5, 30.5, 31, 30, 28, 27.5, 30.5], 'Barcelona':[24.5, 25.5, 26.5, 25, 26.5, 24.5, 25]}\n",
    "ax.plot(dias, temperaturas['Madrid'])\n",
    "ax.plot(dias, temperaturas['Barcelona'])\n",
    "ax.grid(axis = 'y', color = 'gray', linestyle = 'dashed')\n",
    "plt.show()"
   ]
  },
  {
   "cell_type": "markdown",
   "metadata": {},
   "source": [
    "## Múltiples gráficos\n",
    "- Es posible dibujar varios gráficos en distintos ejes en una misma figura organizados en forma de tabla.\n",
    "- Para ello, cuando se inicializa la figura y los ejes, hay que pasarle a la función subplots el número de filas y columnas de la tabla que contendrá los gráficos.\n",
    "- Con esto los distintos ejes se organizan en un array y se puede acceder a cada uno de ellos a través de sus índices.\n",
    "- Si se quiere que los distintos ejes compartan los mismos límites para los ejes se pueden pasar los parámetros sharex = True para el eje x o sharey = True para el eje y."
   ]
  },
  {
   "cell_type": "code",
   "execution_count": null,
   "metadata": {},
   "outputs": [],
   "source": [
    "fig, ax = plt.subplots(2, 2, sharey = True)\n",
    "dias = ['L', 'M', 'X', 'J', 'V', 'S', 'D']\n",
    "temperaturas = {'Madrid':[28.5, 30.5, 31, 30, 28, 27.5, 30.5], 'Barcelona':[24.5, 25.5, 26.5, 25, 26.5, 24.5, 25]}\n",
    "ax[0, 0].plot(dias, temperaturas['Madrid'])\n",
    "ax[0, 1].plot(dias, temperaturas['Barcelona'], color = 'tab:orange')\n",
    "ax[1, 0].bar(dias, temperaturas['Madrid'])\n",
    "ax[1, 1].bar(dias, temperaturas['Barcelona'], color = 'tab:orange')\n",
    "plt.show()"
   ]
  },
  {
   "cell_type": "markdown",
   "metadata": {},
   "source": [
    "## Integración con Pandas\n",
    "Matplotlib se integra a la perfección con la librería Pandas, permitiendo dibujar gráficos a partir de los datos de las series y DataFrames de Pandas.\n",
    "\n",
    "- **df.plot(kind=tipo, x=columnax, y=columnay, ax=ejes)**: Dibuja un diagrama del tipo indicado por el parámetro kind en los ejes indicados en el parámetro ax, representando en el eje x la columna del parámetro x y en el eje y la columna del parámetro y. El parámetro kind puede tomar como argumentos 'line' (lineas), 'scatter' (puntos), 'bar' (barras verticales), 'barh' (barras horizontales), 'hist' (histograma), 'box' (cajas), 'density' (densidad), 'area' (area) o 'pie' (sectores). Es posible pasar otros parámetros para indicar el color, el marcador o el estilo de línea como se vió en los apartados anteriores."
   ]
  },
  {
   "cell_type": "code",
   "execution_count": null,
   "metadata": {},
   "outputs": [],
   "source": [
    "import pandas as pd \n",
    "import matplotlib.pyplot as plt\n",
    "\n",
    "df = pd.DataFrame({'Días':['L', 'M', 'X', 'J', 'V', 'S', 'D'], \n",
    "                   'Madrid':[28.5, 30.5, 31, 30, 28, 27.5, 30.5], \n",
    "                   'Barcelona':[24.5, 25.5, 26.5, 25, 26.5, 24.5, 25]})\n",
    "fig, ax = plt.subplots()\n",
    "df.plot(x = 'Días', y = 'Madrid', ax = ax)\n",
    "df.plot(x = 'Días', y = 'Barcelona', ax = ax)\n",
    "plt.show()"
   ]
  },
  {
   "cell_type": "markdown",
   "metadata": {},
   "source": [
    "- Si no se indican los parámetros x e y se representa el índice de las filas en el eje x y una serie por cada columna del Dataframe. \n",
    "- Las columnas no numéricas se ignoran."
   ]
  },
  {
   "cell_type": "code",
   "execution_count": null,
   "metadata": {},
   "outputs": [],
   "source": [
    "import matplotlib.pyplot as plt\n",
    "df = pd.DataFrame({'Días':['L', 'M', 'X', 'J', 'V', 'S', 'D'], \n",
    "                   'Madrid':[28.5, 30.5, 31, 30, 28, 27.5, 30.5], \n",
    "                   'Barcelona':[24.5, 25.5, 26.5, 25, 26.5, 24.5, 25]})\n",
    "df = df.set_index('Días')\n",
    "fig, ax = plt.subplots()\n",
    "df.plot(ax = ax)\n",
    "plt.show()"
   ]
  }
 ],
 "metadata": {
  "kernelspec": {
   "display_name": "Python 3",
   "language": "python",
   "name": "python3"
  },
  "language_info": {
   "codemirror_mode": {
    "name": "ipython",
    "version": 3
   },
   "file_extension": ".py",
   "mimetype": "text/x-python",
   "name": "python",
   "nbconvert_exporter": "python",
   "pygments_lexer": "ipython3",
   "version": "3.12.4"
  }
 },
 "nbformat": 4,
 "nbformat_minor": 2
}
