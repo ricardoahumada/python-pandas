{
 "cells": [
  {
   "cell_type": "markdown",
   "metadata": {},
   "source": [
    "# Ejercicio Data Quality - Perfilado\n",
    "## Evaluar la calidad de datos de las ventas de productos"
   ]
  },
  {
   "cell_type": "markdown",
   "metadata": {},
   "source": [
    "Se quiere hacer una evaluación de calidad de datos sobre las ventas (sales) y pagos (payments). Para ello se requiere hacer un análisis de los siguientes puntos:\n",
    "- Calidad de los datos\n",
    "- Selección de clave principal\n",
    "- Identificación de cardinalidad\n",
    "- Obtener media, varianza y desviacion Estandar, covarianza, correlacion\n",
    "- Mejorar la calidad.\n",
    "\n",
    "**Referencia**: “Estadística Descriptiva con Python y Pandas”: https://coderhook.github.io/Descriptive%20Statistics\n",
    "\n",
    "- Columnas sales:, orderNumber, orderLineNumber, orderDate, shippedDate, requiredDate, customerNumber, employeeNumber, productCode, status, comments, quantityOrdered, priceEach, sales_amount, origin\n",
    "\n",
    "- Columnas payments:, customerNumber, checkNumber, paymentDate, amount"
   ]
  },
  {
   "cell_type": "markdown",
   "metadata": {},
   "source": [
    "## Carga"
   ]
  },
  {
   "cell_type": "code",
   "execution_count": 83,
   "metadata": {},
   "outputs": [],
   "source": [
    "import pandas as pd\n",
    "import numpy as np\n",
    "from tabulate import tabulate"
   ]
  },
  {
   "cell_type": "code",
   "execution_count": 84,
   "metadata": {},
   "outputs": [],
   "source": [
    "sales_df = pd.read_csv(\n",
    "    'https://github.com/ricardoahumada/DataScienceBasics/raw/refs/heads/main/data/company_sales/sales.csv')"
   ]
  },
  {
   "cell_type": "code",
   "execution_count": 85,
   "metadata": {},
   "outputs": [],
   "source": [
    "payments_df = pd.read_csv(\n",
    "    'https://github.com/ricardoahumada/DataScienceBasics/raw/refs/heads/main/data/company_sales/payments.csv')"
   ]
  },
  {
   "cell_type": "markdown",
   "metadata": {},
   "source": [
    "## Calidad"
   ]
  },
  {
   "cell_type": "markdown",
   "metadata": {},
   "source": [
    "### Sales"
   ]
  },
  {
   "cell_type": "code",
   "execution_count": null,
   "metadata": {},
   "outputs": [],
   "source": [
    "# columnas\n",
    "sales_df.columns = ['orderNumber', 'orderLineNumber', 'orderDate', 'shippedDate', 'requiredDate', 'customerNumber',\n",
    "                    'employeeNumber', 'productCode', 'status', 'comments', 'quantityOrdered', 'priceEach', 'sales_amount', 'origin']\n",
    "sales_df.info()"
   ]
  },
  {
   "cell_type": "code",
   "execution_count": null,
   "metadata": {},
   "outputs": [],
   "source": [
    "sales_df.head(5)"
   ]
  },
  {
   "cell_type": "code",
   "execution_count": null,
   "metadata": {},
   "outputs": [],
   "source": [
    "sales_df.tail(5)"
   ]
  },
  {
   "cell_type": "code",
   "execution_count": null,
   "metadata": {},
   "outputs": [],
   "source": [
    "sales_df.sample(20)"
   ]
  },
  {
   "cell_type": "code",
   "execution_count": null,
   "metadata": {},
   "outputs": [],
   "source": [
    "sales_df.shape"
   ]
  },
  {
   "cell_type": "code",
   "execution_count": 91,
   "metadata": {},
   "outputs": [],
   "source": [
    "sales_df_clean = sales_df.drop(columns=['comments', 'orderDate',\n",
    "                                        'shippedDate', 'requiredDate'])"
   ]
  },
  {
   "cell_type": "code",
   "execution_count": null,
   "metadata": {},
   "outputs": [],
   "source": [
    "sales_df_clean.info()"
   ]
  },
  {
   "cell_type": "code",
   "execution_count": null,
   "metadata": {},
   "outputs": [],
   "source": [
    "# nulos\n",
    "sales_df_clean.isna().sum()\n",
    "# sales_df_clean.dropna(inplace=True)\n",
    "# sales_df_clean.isna().sum()"
   ]
  },
  {
   "cell_type": "code",
   "execution_count": null,
   "metadata": {},
   "outputs": [],
   "source": [
    "# extremos\n",
    "z_scores = (sales_df_clean-sales_df_clean.mean(numeric_only=True)) / \\\n",
    "    sales_df_clean.std(numeric_only=True)\n",
    "z_scores_abs = z_scores.apply(np.abs)\n",
    "print(tabulate(z_scores_abs, headers='keys'))"
   ]
  },
  {
   "cell_type": "code",
   "execution_count": null,
   "metadata": {},
   "outputs": [],
   "source": [
    "umbral = 3\n",
    "\n",
    "out_mask = ~z_scores[z_scores_abs > umbral].isna()\n",
    "print('\\nOutliers per column:\\n')\n",
    "print(out_mask.sum())"
   ]
  },
  {
   "cell_type": "code",
   "execution_count": null,
   "metadata": {},
   "outputs": [],
   "source": [
    "outliers = sales_df_clean['quantityOrdered'][out_mask['quantityOrdered']]\n",
    "print('Outliers:\\n', outliers)"
   ]
  },
  {
   "cell_type": "code",
   "execution_count": null,
   "metadata": {},
   "outputs": [],
   "source": [
    "sales_df_clean['quantityOrdered'].describe()"
   ]
  },
  {
   "cell_type": "code",
   "execution_count": null,
   "metadata": {},
   "outputs": [],
   "source": [
    "sales_df_clean.drop(outliers, inplace=True)\n",
    "sales_df_clean.shape"
   ]
  },
  {
   "cell_type": "code",
   "execution_count": null,
   "metadata": {},
   "outputs": [],
   "source": [
    "# duplicados\n",
    "sales_df_clean[sales_df_clean.duplicated()]"
   ]
  },
  {
   "cell_type": "code",
   "execution_count": 100,
   "metadata": {},
   "outputs": [],
   "source": [
    "sales_df_clean['complete_order_number'] = sales_df_clean['orderNumber'].astype(\n",
    "    'str')+'-'+sales_df_clean['orderLineNumber'].astype('str')"
   ]
  },
  {
   "cell_type": "code",
   "execution_count": null,
   "metadata": {},
   "outputs": [],
   "source": [
    "sales_df_clean.head()"
   ]
  },
  {
   "cell_type": "code",
   "execution_count": null,
   "metadata": {},
   "outputs": [],
   "source": [
    "sales_df_clean.info()"
   ]
  },
  {
   "cell_type": "code",
   "execution_count": null,
   "metadata": {},
   "outputs": [],
   "source": [
    "dup_ordnums = sales_df_clean[sales_df_clean.duplicated(\n",
    ")]['complete_order_number']\n",
    "\n",
    "\n",
    "dup_ordnums.values"
   ]
  },
  {
   "cell_type": "code",
   "execution_count": null,
   "metadata": {},
   "outputs": [],
   "source": [
    "sales_df_clean[sales_df_clean['complete_order_number'].isin(\n",
    "    dup_ordnums.values)]"
   ]
  },
  {
   "cell_type": "code",
   "execution_count": null,
   "metadata": {},
   "outputs": [],
   "source": [
    "sales_df_clean.drop_duplicates(inplace=True)\n",
    "sales_df_clean[sales_df_clean.duplicated()]"
   ]
  },
  {
   "cell_type": "code",
   "execution_count": null,
   "metadata": {},
   "outputs": [],
   "source": [
    "# incoherencias\n",
    "sales_df_clean.info()"
   ]
  },
  {
   "cell_type": "code",
   "execution_count": null,
   "metadata": {},
   "outputs": [],
   "source": [
    "sales_df_clean['status'].unique()"
   ]
  },
  {
   "cell_type": "code",
   "execution_count": null,
   "metadata": {},
   "outputs": [],
   "source": [
    "sales_df_clean['productCode'].unique()"
   ]
  },
  {
   "cell_type": "code",
   "execution_count": null,
   "metadata": {},
   "outputs": [],
   "source": [
    "# cardinalidad\n",
    "def calc_cardinalidad(adf):\n",
    "    result = {}\n",
    "    for col in adf.columns:\n",
    "        print('\\n- Valores únicos para \"{0}\"'.format(col), '\\n')\n",
    "        # print(adf[col].unique())\n",
    "        card = len(adf[col].unique())\n",
    "        print('Num valores únicos: ', len(adf[col].unique()))\n",
    "        result[col] = card\n",
    "\n",
    "    return result\n",
    "\n",
    "\n",
    "sales_card = calc_cardinalidad(sales_df_clean)\n",
    "print(sales_card)"
   ]
  },
  {
   "cell_type": "code",
   "execution_count": null,
   "metadata": {},
   "outputs": [],
   "source": [
    "sales_df_clean.columns"
   ]
  },
  {
   "cell_type": "code",
   "execution_count": 111,
   "metadata": {},
   "outputs": [],
   "source": [
    "sales_df_clean[['productCode', 'status', 'origin']] = sales_df_clean[[\n",
    "    'productCode', 'status', 'origin']].astype('category')"
   ]
  },
  {
   "cell_type": "code",
   "execution_count": null,
   "metadata": {},
   "outputs": [],
   "source": [
    "sales_df_clean.info()"
   ]
  },
  {
   "cell_type": "code",
   "execution_count": null,
   "metadata": {},
   "outputs": [],
   "source": [
    "sales_df_clean.describe()"
   ]
  },
  {
   "cell_type": "code",
   "execution_count": null,
   "metadata": {},
   "outputs": [],
   "source": [
    "sales_df_clean.describe(include='category')"
   ]
  },
  {
   "cell_type": "code",
   "execution_count": null,
   "metadata": {},
   "outputs": [],
   "source": [
    "# frecuencias\n",
    "for col in sales_df_clean.columns:\n",
    "\n",
    "    print('\\n- Frecuencias para \"{0}\"'.format(col), '\\n')\n",
    "\n",
    "    print(sales_df_clean[col].value_counts())"
   ]
  },
  {
   "cell_type": "code",
   "execution_count": null,
   "metadata": {},
   "outputs": [],
   "source": [
    "sales_df_clean.columns"
   ]
  },
  {
   "cell_type": "code",
   "execution_count": null,
   "metadata": {},
   "outputs": [],
   "source": [
    "# correlación\n",
    "sales_corr = sales_df_clean.corr('pearson', numeric_only=True)\n",
    "sales_corr"
   ]
  },
  {
   "cell_type": "code",
   "execution_count": null,
   "metadata": {},
   "outputs": [],
   "source": [
    "sales_corr[np.abs(sales_corr) >= 0.7]"
   ]
  },
  {
   "cell_type": "code",
   "execution_count": null,
   "metadata": {},
   "outputs": [],
   "source": [
    "# sesgo\n",
    "\n",
    "sales_skw = sales_df_clean.skew(numeric_only=True)\n",
    "sales_skw"
   ]
  },
  {
   "cell_type": "code",
   "execution_count": null,
   "metadata": {},
   "outputs": [],
   "source": [
    "sales_skw[np.abs(sales_skw) > 2]"
   ]
  },
  {
   "cell_type": "code",
   "execution_count": null,
   "metadata": {},
   "outputs": [],
   "source": [
    "# kurtosis\n",
    "sales_kurt = sales_df_clean.kurt(numeric_only=True)\n",
    "sales_kurt"
   ]
  },
  {
   "cell_type": "code",
   "execution_count": null,
   "metadata": {},
   "outputs": [],
   "source": [
    "sales_kurt[sales_kurt > np.abs(3)]"
   ]
  },
  {
   "cell_type": "markdown",
   "metadata": {},
   "source": [
    "### payments"
   ]
  },
  {
   "cell_type": "code",
   "execution_count": null,
   "metadata": {},
   "outputs": [],
   "source": [
    "payments_df.columns = ['customerNumber',\n",
    "                       'checkNumber', 'paymentDate', 'amount']\n",
    "\n",
    "\n",
    "payments_df.info()"
   ]
  },
  {
   "cell_type": "code",
   "execution_count": null,
   "metadata": {},
   "outputs": [],
   "source": [
    "payments_df.isna().sum()"
   ]
  },
  {
   "cell_type": "code",
   "execution_count": null,
   "metadata": {},
   "outputs": [],
   "source": [
    "# extremos\n",
    "amount_col = payments_df['amount']\n",
    "\n",
    "\n",
    "q1 = np.percentile(amount_col, 25)\n",
    "q3 = np.percentile(amount_col, 75)\n",
    "iqr = q3 - q1\n",
    "print('iqr:\\n', iqr)\n",
    "\n",
    "umbra_sup = q3+1.5*iqr\n",
    "umbra_inf = q1-1.5*iqr\n",
    "\n",
    "print('umbrales inf:\\n', umbra_inf)\n",
    "print('\\numbrales sup:\\n', umbra_sup)"
   ]
  },
  {
   "cell_type": "code",
   "execution_count": null,
   "metadata": {},
   "outputs": [],
   "source": [
    "am_outliers = amount_col[((amount_col < umbra_inf) | (amount_col > umbra_sup))]\n",
    "am_outliers"
   ]
  },
  {
   "cell_type": "code",
   "execution_count": null,
   "metadata": {},
   "outputs": [],
   "source": [
    "amount_col.describe()"
   ]
  },
  {
   "cell_type": "code",
   "execution_count": null,
   "metadata": {},
   "outputs": [],
   "source": [
    "payments_df.drop(am_outliers.index, inplace=True)\n",
    "payments_df.shape"
   ]
  },
  {
   "cell_type": "code",
   "execution_count": null,
   "metadata": {},
   "outputs": [],
   "source": [
    "#duplicados\n",
    "payments_df.duplicated().sum()"
   ]
  },
  {
   "cell_type": "code",
   "execution_count": null,
   "metadata": {},
   "outputs": [],
   "source": [
    "payments_df[payments_df.duplicated()]"
   ]
  },
  {
   "cell_type": "code",
   "execution_count": null,
   "metadata": {},
   "outputs": [],
   "source": [
    "payments_df['customer-check'] = payments_df['customerNumber'].astype(\n",
    "    str)+'-'+payments_df['checkNumber'].astype(str)\n",
    "payments_df.info()"
   ]
  },
  {
   "cell_type": "code",
   "execution_count": null,
   "metadata": {},
   "outputs": [],
   "source": [
    "payments_df[payments_df.duplicated()]"
   ]
  },
  {
   "cell_type": "code",
   "execution_count": null,
   "metadata": {},
   "outputs": [],
   "source": [
    "cust_check_ids = payments_df[payments_df.duplicated()]['customer-check'].values\n",
    "cust_check_ids"
   ]
  },
  {
   "cell_type": "code",
   "execution_count": null,
   "metadata": {},
   "outputs": [],
   "source": [
    "payments_df[payments_df['customer-check'].isin(cust_check_ids)]"
   ]
  },
  {
   "cell_type": "code",
   "execution_count": null,
   "metadata": {},
   "outputs": [],
   "source": [
    "def doNothing(x):\n",
    "    return list(x)[0]\n",
    "\n",
    "\n",
    "added_payments_df = payments_df.groupby('customer-check').agg(\n",
    "    {'amount': 'sum', 'customerNumber': doNothing, 'checkNumber': doNothing, 'paymentDate': doNothing}).reset_index()\n",
    "added_payments_df[added_payments_df['customer-check'].isin(cust_check_ids)]"
   ]
  },
  {
   "cell_type": "code",
   "execution_count": null,
   "metadata": {},
   "outputs": [],
   "source": [
    "# incoherencias\n",
    "added_payments_df.info()"
   ]
  },
  {
   "cell_type": "code",
   "execution_count": 137,
   "metadata": {},
   "outputs": [],
   "source": [
    "added_payments_df['paymentDate'] = pd.to_datetime(\n",
    "    added_payments_df['paymentDate'])\n",
    "\n",
    "added_payments_df['checkNumber'] = added_payments_df['checkNumber'].astype(\n",
    "    'category')\n",
    "added_payments_df['customer-check'] = added_payments_df['customer-check'].astype(\n",
    "    'category')"
   ]
  },
  {
   "cell_type": "code",
   "execution_count": null,
   "metadata": {},
   "outputs": [],
   "source": [
    "added_payments_df.info()"
   ]
  },
  {
   "cell_type": "code",
   "execution_count": null,
   "metadata": {},
   "outputs": [],
   "source": [
    "payments_card = calc_cardinalidad(added_payments_df)\n",
    "print(payments_card)"
   ]
  },
  {
   "cell_type": "code",
   "execution_count": null,
   "metadata": {},
   "outputs": [],
   "source": [
    "# frecuencias\n",
    "for col in added_payments_df.columns:\n",
    "    # print('\\n- Frecuencias para \"{0}\"'.format(col), '\\n')\n",
    "    print(added_payments_df[col].value_counts())"
   ]
  },
  {
   "cell_type": "code",
   "execution_count": null,
   "metadata": {},
   "outputs": [],
   "source": [
    "# correlación\n",
    "payments_corr = added_payments_df.corr('pearson', numeric_only=True)\n",
    "payments_corr"
   ]
  },
  {
   "cell_type": "code",
   "execution_count": null,
   "metadata": {},
   "outputs": [],
   "source": [
    "payments_corr[np.abs(payments_corr) >= 0.7]"
   ]
  },
  {
   "cell_type": "code",
   "execution_count": null,
   "metadata": {},
   "outputs": [],
   "source": [
    "# sesgo\n",
    "\n",
    "payments_skw = added_payments_df.skew(numeric_only=True)\n",
    "payments_skw"
   ]
  },
  {
   "cell_type": "code",
   "execution_count": null,
   "metadata": {},
   "outputs": [],
   "source": [
    "payments_skw[np.abs(payments_skw) > 2]"
   ]
  },
  {
   "cell_type": "code",
   "execution_count": null,
   "metadata": {},
   "outputs": [],
   "source": [
    "# kurtosis\n",
    "payments_kurt = added_payments_df.kurt(numeric_only=True)\n",
    "payments_kurt"
   ]
  },
  {
   "cell_type": "code",
   "execution_count": null,
   "metadata": {},
   "outputs": [],
   "source": [
    "payments_kurt[payments_kurt > np.abs(3)]"
   ]
  },
  {
   "cell_type": "markdown",
   "metadata": {},
   "source": [
    "## Mezclado de datos"
   ]
  },
  {
   "cell_type": "code",
   "execution_count": null,
   "metadata": {},
   "outputs": [],
   "source": [
    "sales_df_clean.info()"
   ]
  },
  {
   "cell_type": "code",
   "execution_count": null,
   "metadata": {},
   "outputs": [],
   "source": [
    "added_payments_df.info()"
   ]
  },
  {
   "cell_type": "code",
   "execution_count": null,
   "metadata": {},
   "outputs": [],
   "source": [
    "merged_df = pd.merge(sales_df_clean, added_payments_df,\n",
    "                     on='customerNumber', how='left')\n",
    "merged_df.info()"
   ]
  },
  {
   "cell_type": "code",
   "execution_count": null,
   "metadata": {},
   "outputs": [],
   "source": [
    "merged_df.head()"
   ]
  },
  {
   "cell_type": "code",
   "execution_count": null,
   "metadata": {},
   "outputs": [],
   "source": [
    "merged_df.tail()"
   ]
  },
  {
   "cell_type": "markdown",
   "metadata": {},
   "source": [
    "#### Insights by Sales and payments"
   ]
  },
  {
   "cell_type": "code",
   "execution_count": null,
   "metadata": {},
   "outputs": [],
   "source": [
    "customer_sales_pays = merged_df.groupby('customerNumber').agg(num=('complete_order_number', 'count'), tot_sale=(\n",
    "    'sales_amount', 'sum'), tot_ammount=('amount', 'sum')).reset_index()\n",
    "\n",
    "customer_sales_pays"
   ]
  },
  {
   "cell_type": "code",
   "execution_count": null,
   "metadata": {},
   "outputs": [],
   "source": [
    "print('# top ten por número de compras')\n",
    "customer_sales_pays.sort_values('num', ascending=False)[\n",
    "    ['customerNumber', 'num']].head(10)"
   ]
  },
  {
   "cell_type": "code",
   "execution_count": null,
   "metadata": {},
   "outputs": [],
   "source": [
    "print('# top ten por monto de compras')\n",
    "customer_sales_pays.sort_values('tot_sale', ascending=False)[\n",
    "    ['customerNumber', 'tot_sale']].head(10)"
   ]
  },
  {
   "cell_type": "code",
   "execution_count": null,
   "metadata": {},
   "outputs": [],
   "source": [
    "print('# top ten por monto de pagos')\n",
    "customer_sales_pays.sort_values('tot_ammount', ascending=False)[\n",
    "    ['customerNumber', 'tot_ammount']].head(10)"
   ]
  },
  {
   "cell_type": "markdown",
   "metadata": {},
   "source": [
    "#### Insights by origin"
   ]
  },
  {
   "cell_type": "code",
   "execution_count": null,
   "metadata": {},
   "outputs": [],
   "source": [
    "by_origin = merged_df.groupby('origin').agg(num=('complete_order_number', 'count'), tot_sale=(\n",
    "    'sales_amount', 'sum'), tot_amount=('amount', 'sum')).reset_index()\n",
    "\n",
    "by_origin"
   ]
  },
  {
   "cell_type": "markdown",
   "metadata": {},
   "source": [
    "#### Insights by date"
   ]
  },
  {
   "cell_type": "code",
   "execution_count": null,
   "metadata": {},
   "outputs": [],
   "source": [
    "paymentDate = merged_df['paymentDate']\n",
    "\n",
    "by_date = merged_df.groupby([paymentDate.dt.year, paymentDate.dt.month]).agg(num=(\n",
    "    'orderNumber', 'count'), tot_sale=('sales_amount', 'sum'), tot_ammount=('amount', 'sum'))\n",
    "\n",
    "by_date.index.names = ['year', 'month']\n",
    "\n",
    "by_date"
   ]
  },
  {
   "cell_type": "code",
   "execution_count": null,
   "metadata": {},
   "outputs": [],
   "source": [
    "print('# top años por número de compras')\n",
    "by_date.sort_values('num', ascending=False).groupby('year').agg({'num': sum}).sort_values('num', ascending=False)"
   ]
  },
  {
   "cell_type": "code",
   "execution_count": null,
   "metadata": {},
   "outputs": [],
   "source": [
    "print('# top meses por número de compras')\n",
    "by_date.groupby('month').agg({'num': sum}).sort_values(\n",
    "    'num', ascending=False).head(3)"
   ]
  },
  {
   "cell_type": "code",
   "execution_count": null,
   "metadata": {},
   "outputs": [],
   "source": [
    "merged_df_corr = merged_df.corr('pearson', numeric_only=True)\n",
    "merged_df_corr"
   ]
  },
  {
   "cell_type": "code",
   "execution_count": null,
   "metadata": {},
   "outputs": [],
   "source": [
    "merged_df_corr[(merged_df_corr > 0.7) & (merged_df_corr != 1)]"
   ]
  },
  {
   "cell_type": "markdown",
   "metadata": {},
   "source": [
    "## Coclusiones"
   ]
  },
  {
   "cell_type": "markdown",
   "metadata": {},
   "source": [
    "**sales:**\n",
    "- nulos: eliminadas 3 columnas. Luego no nulos\n",
    "- anomalías: 17 outliers elimiandos de quantityOrdered\n",
    "- duplicados: 5 duplicados elimiandos\n",
    "- incoherencias: ajustados tipos\n",
    "- cardinalidad: descompensación en origen: 21 - 1 (spain-japan) y en status (shipped +90%)\n",
    "- estadística descriptiva: correlación entre 'sales_amount' y 'priceEach'. No Sesgo significativo.\n",
    "\n",
    "**payments:**\n",
    "- nulos: no nulos\n",
    "- anomalías: 6 outliers elimiandos en amount\n",
    "- duplicados: 6 duplicados mezclados\n",
    "- incoherencias: ajustados tipos\n",
    "- cardinalidad: no se observan descompensaciones\n",
    "- estadística descriptiva: no correlación fuerte. no sesgo.\n",
    "\n",
    "**datos finales:**\n",
    "- 4 primeros clientes son los mismos en los top tens\n",
    "- Origen mayoritario de spain, pero monto total de japan\n",
    "- Año de más ventas 2004\n",
    "- Meses de más ventas: 11, 12, 5"
   ]
  },
  {
   "cell_type": "markdown",
   "metadata": {},
   "source": [
    "## Guardar"
   ]
  },
  {
   "cell_type": "code",
   "execution_count": 174,
   "metadata": {},
   "outputs": [],
   "source": [
    "merged_df.to_csv(\n",
    "    '../../data/company_sales/output/merged_lean_df.csv', index=False)"
   ]
  },
  {
   "cell_type": "code",
   "execution_count": 177,
   "metadata": {},
   "outputs": [],
   "source": [
    "merged_df.to_pickle(\n",
    "    '../../data/company_sales/output/merged_lean_df.pkl')"
   ]
  },
  {
   "cell_type": "code",
   "execution_count": null,
   "metadata": {},
   "outputs": [],
   "source": [
    "# ! pip install fastparquet"
   ]
  },
  {
   "cell_type": "code",
   "execution_count": null,
   "metadata": {},
   "outputs": [],
   "source": [
    "merged_df.to_parquet(\n",
    "    '../../data/company_sales/output/merged_lean_df.parquet')"
   ]
  }
 ],
 "metadata": {
  "kernelspec": {
   "display_name": "Python 3",
   "language": "python",
   "name": "python3"
  },
  "language_info": {
   "codemirror_mode": {
    "name": "ipython",
    "version": 3
   },
   "file_extension": ".py",
   "mimetype": "text/x-python",
   "name": "python",
   "nbconvert_exporter": "python",
   "pygments_lexer": "ipython3",
   "version": "3.12.4"
  }
 },
 "nbformat": 4,
 "nbformat_minor": 2
}
