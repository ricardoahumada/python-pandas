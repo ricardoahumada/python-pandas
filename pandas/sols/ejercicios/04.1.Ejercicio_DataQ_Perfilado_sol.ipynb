{
 "cells": [
  {
   "cell_type": "markdown",
   "metadata": {},
   "source": [
    "# Ejercicio Data Quality - Perfilado\n",
    "## Evaluar la calidad de datos de las ventas de productos"
   ]
  },
  {
   "cell_type": "markdown",
   "metadata": {},
   "source": [
    "Se quiere hacer una evaluación de calidad de datos sobre las ventas (sales) y pagos (payments). Para ello se requiere hacer un análisis de los siguientes puntos:\n",
    "- Calidad de los datos\n",
    "- Selección de clave principal\n",
    "- Identificación de cardinalidad\n",
    "- Obtener media, varianza y desviacion Estandar, covarianza, correlacion\n",
    "- Mejorar la calidad.\n",
    "\n",
    "**Referencia**: “Estadística Descriptiva con Python y Pandas”: https://coderhook.github.io/Descriptive%20Statistics\n",
    "\n",
    "- Columnas sales:, orderNumber, orderLineNumber, orderDate, shippedDate, requiredDate, customerNumber, employeeNumber, productCode, status, comments, quantityOrdered, priceEach, sales_amount, origin\n",
    "\n",
    "- Columnas payments:, customerNumber, checkNumber, paymentDate, amount"
   ]
  },
  {
   "cell_type": "markdown",
   "metadata": {},
   "source": [
    "## Carga"
   ]
  },
  {
   "cell_type": "code",
   "execution_count": 352,
   "metadata": {},
   "outputs": [],
   "source": [
    "import pandas as pd\n",
    "import numpy as np\n",
    "from tabulate import tabulate"
   ]
  },
  {
   "cell_type": "code",
   "execution_count": 353,
   "metadata": {},
   "outputs": [],
   "source": [
    "sales_df = pd.read_csv(\n",
    "    'https://github.com/ricardoahumada/DataScienceBasics/raw/refs/heads/main/data/company_sales/sales.csv')"
   ]
  },
  {
   "cell_type": "code",
   "execution_count": 354,
   "metadata": {},
   "outputs": [],
   "source": [
    "payments_df = pd.read_csv(\n",
    "    'https://github.com/ricardoahumada/DataScienceBasics/raw/refs/heads/main/data/company_sales/payments.csv')"
   ]
  },
  {
   "cell_type": "markdown",
   "metadata": {},
   "source": [
    "## Calidad"
   ]
  },
  {
   "cell_type": "markdown",
   "metadata": {},
   "source": [
    "### Sales"
   ]
  },
  {
   "cell_type": "code",
   "execution_count": null,
   "metadata": {},
   "outputs": [],
   "source": [
    "# columnas\n",
    "sales_df.columns = ['orderNumber', 'orderLineNumber', 'orderDate', 'shippedDate', 'requiredDate', 'customerNumber',\n",
    "                    'employeeNumber', 'productCode', 'status', 'comments', 'quantityOrdered', 'priceEach', 'sales_amount', 'origin']\n",
    "sales_df.info()"
   ]
  },
  {
   "cell_type": "code",
   "execution_count": null,
   "metadata": {},
   "outputs": [],
   "source": [
    "sales_df.head(5)"
   ]
  },
  {
   "cell_type": "code",
   "execution_count": null,
   "metadata": {},
   "outputs": [],
   "source": [
    "sales_df.tail(5)"
   ]
  },
  {
   "cell_type": "code",
   "execution_count": null,
   "metadata": {},
   "outputs": [],
   "source": [
    "sales_df.sample(20)"
   ]
  },
  {
   "cell_type": "code",
   "execution_count": null,
   "metadata": {},
   "outputs": [],
   "source": [
    "sales_df.shape"
   ]
  },
  {
   "cell_type": "code",
   "execution_count": 360,
   "metadata": {},
   "outputs": [],
   "source": [
    "sales_df_clean = sales_df.drop(columns=['comments', 'orderDate',\n",
    "                                        'shippedDate', 'requiredDate'])"
   ]
  },
  {
   "cell_type": "code",
   "execution_count": null,
   "metadata": {},
   "outputs": [],
   "source": [
    "sales_df_clean.info()"
   ]
  },
  {
   "cell_type": "code",
   "execution_count": null,
   "metadata": {},
   "outputs": [],
   "source": [
    "# nulos\n",
    "sales_df_clean.isna().sum()\n",
    "# sales_df_clean.dropna(inplace=True)\n",
    "# sales_df_clean.isna().sum()"
   ]
  },
  {
   "cell_type": "code",
   "execution_count": null,
   "metadata": {},
   "outputs": [],
   "source": [
    "# extremos\n",
    "z_scores = (sales_df_clean-sales_df_clean.mean(numeric_only=True)) / \\\n",
    "    sales_df_clean.std(numeric_only=True)\n",
    "z_scores_abs = z_scores.apply(np.abs)\n",
    "print(tabulate(z_scores_abs, headers='keys'))"
   ]
  },
  {
   "cell_type": "code",
   "execution_count": null,
   "metadata": {},
   "outputs": [],
   "source": [
    "umbral = 3\n",
    "\n",
    "out_mask = ~z_scores[z_scores_abs > umbral].isna()\n",
    "print('\\nOutliers per column:\\n')\n",
    "print(out_mask.sum())"
   ]
  },
  {
   "cell_type": "code",
   "execution_count": null,
   "metadata": {},
   "outputs": [],
   "source": [
    "outliers = sales_df_clean['quantityOrdered'][out_mask['quantityOrdered']]\n",
    "print('Outliers:\\n', outliers)"
   ]
  },
  {
   "cell_type": "code",
   "execution_count": null,
   "metadata": {},
   "outputs": [],
   "source": [
    "sales_df_clean['quantityOrdered'].describe()"
   ]
  },
  {
   "cell_type": "code",
   "execution_count": null,
   "metadata": {},
   "outputs": [],
   "source": [
    "sales_df_clean.drop(outliers, inplace=True)\n",
    "sales_df_clean.shape"
   ]
  },
  {
   "cell_type": "code",
   "execution_count": null,
   "metadata": {},
   "outputs": [],
   "source": [
    "# duplicados\n",
    "sales_df_clean[sales_df_clean.duplicated()]"
   ]
  },
  {
   "cell_type": "code",
   "execution_count": 410,
   "metadata": {},
   "outputs": [],
   "source": [
    "sales_df_clean['complete_order_number'] = sales_df_clean['orderNumber'].astype(\n",
    "    'str')+'-'+sales_df_clean['orderLineNumber'].astype('str')"
   ]
  },
  {
   "cell_type": "code",
   "execution_count": null,
   "metadata": {},
   "outputs": [],
   "source": [
    "sales_df_clean.head()"
   ]
  },
  {
   "cell_type": "code",
   "execution_count": null,
   "metadata": {},
   "outputs": [],
   "source": [
    "sales_df_clean.info()"
   ]
  },
  {
   "cell_type": "code",
   "execution_count": null,
   "metadata": {},
   "outputs": [],
   "source": [
    "dup_ordnums = sales_df_clean[sales_df_clean.duplicated(\n",
    ")]['complete_order_number']\n",
    "\n",
    "\n",
    "dup_ordnums.values"
   ]
  },
  {
   "cell_type": "code",
   "execution_count": null,
   "metadata": {},
   "outputs": [],
   "source": [
    "sales_df_clean[sales_df_clean['complete_order_number'].isin(\n",
    "    dup_ordnums.values)]"
   ]
  },
  {
   "cell_type": "code",
   "execution_count": null,
   "metadata": {},
   "outputs": [],
   "source": [
    "sales_df_clean.drop_duplicates(inplace=True)\n",
    "sales_df_clean[sales_df_clean.duplicated()]"
   ]
  },
  {
   "cell_type": "code",
   "execution_count": null,
   "metadata": {},
   "outputs": [],
   "source": [
    "# incoherencias\n",
    "sales_df_clean.info()"
   ]
  },
  {
   "cell_type": "code",
   "execution_count": null,
   "metadata": {},
   "outputs": [],
   "source": [
    "sales_df_clean['status'].unique()"
   ]
  },
  {
   "cell_type": "code",
   "execution_count": null,
   "metadata": {},
   "outputs": [],
   "source": [
    "sales_df_clean['productCode'].unique()"
   ]
  },
  {
   "cell_type": "code",
   "execution_count": null,
   "metadata": {},
   "outputs": [],
   "source": [
    "# cardinalidad\n",
    "def calc_cardinalidad(adf):\n",
    "    result = {}\n",
    "    for col in adf.columns:\n",
    "        print('\\n- Valores únicos para \"{0}\"'.format(col), '\\n')\n",
    "        print(adf[col].unique())\n",
    "        card = len(adf[col].unique())\n",
    "        print('Num valores únicos: ', len(adf[col].unique()))\n",
    "        result[col] = card\n",
    "\n",
    "    return result\n",
    "\n",
    "\n",
    "sales_card = calc_cardinalidad(sales_df_clean)\n",
    "print(sales_card)"
   ]
  },
  {
   "cell_type": "code",
   "execution_count": null,
   "metadata": {},
   "outputs": [],
   "source": [
    "sales_df_clean.columns"
   ]
  },
  {
   "cell_type": "code",
   "execution_count": 47,
   "metadata": {},
   "outputs": [],
   "source": [
    "sales_df_clean[['productCode', 'status', 'origin']] = sales_df_clean[[\n",
    "    'productCode', 'status', 'origin']].astype('category')"
   ]
  },
  {
   "cell_type": "code",
   "execution_count": null,
   "metadata": {},
   "outputs": [],
   "source": [
    "sales_df_clean.info()"
   ]
  },
  {
   "cell_type": "code",
   "execution_count": null,
   "metadata": {},
   "outputs": [],
   "source": [
    "sales_df_clean.describe()"
   ]
  },
  {
   "cell_type": "code",
   "execution_count": null,
   "metadata": {},
   "outputs": [],
   "source": [
    "sales_df_clean.describe(include='category')"
   ]
  },
  {
   "cell_type": "code",
   "execution_count": null,
   "metadata": {},
   "outputs": [],
   "source": [
    "# frecuencias\n",
    "for col in sales_df_clean.columns:\n",
    "\n",
    "    print('\\n- Frecuencias para \"{0}\"'.format(col), '\\n')\n",
    "\n",
    "    print(sales_df_clean[col].value_counts())"
   ]
  },
  {
   "cell_type": "code",
   "execution_count": null,
   "metadata": {},
   "outputs": [],
   "source": [
    "sales_df_clean.columns"
   ]
  },
  {
   "cell_type": "code",
   "execution_count": null,
   "metadata": {},
   "outputs": [],
   "source": [
    "# correlación\n",
    "sales_corr = sales_df_clean.corr('pearson', numeric_only=True)\n",
    "sales_corr"
   ]
  },
  {
   "cell_type": "code",
   "execution_count": null,
   "metadata": {},
   "outputs": [],
   "source": [
    "sales_corr[np.abs(sales_corr) >= 0.7]"
   ]
  },
  {
   "cell_type": "code",
   "execution_count": null,
   "metadata": {},
   "outputs": [],
   "source": [
    "# sesgo\n",
    "\n",
    "sales_skw = sales_df_clean.skew(numeric_only=True)\n",
    "sales_skw"
   ]
  },
  {
   "cell_type": "code",
   "execution_count": null,
   "metadata": {},
   "outputs": [],
   "source": [
    "sales_skw[np.abs(sales_skw) > 2]"
   ]
  },
  {
   "cell_type": "code",
   "execution_count": null,
   "metadata": {},
   "outputs": [],
   "source": [
    "# kurtosis\n",
    "sales_kurt = sales_df_clean.kurt(numeric_only=True)\n",
    "sales_kurt"
   ]
  },
  {
   "cell_type": "code",
   "execution_count": null,
   "metadata": {},
   "outputs": [],
   "source": [
    "sales_kurt[sales_kurt > np.abs(3)]"
   ]
  },
  {
   "cell_type": "markdown",
   "metadata": {},
   "source": [
    "### payments"
   ]
  },
  {
   "cell_type": "code",
   "execution_count": 419,
   "metadata": {},
   "outputs": [
    {
     "name": "stdout",
     "output_type": "stream",
     "text": [
      "<class 'pandas.core.frame.DataFrame'>\n",
      "RangeIndex: 278 entries, 0 to 277\n",
      "Data columns (total 4 columns):\n",
      " #   Column          Non-Null Count  Dtype  \n",
      "---  ------          --------------  -----  \n",
      " 0   customerNumber  278 non-null    int64  \n",
      " 1   checkNumber     278 non-null    object \n",
      " 2   paymentDate     278 non-null    object \n",
      " 3   amount          278 non-null    float64\n",
      "dtypes: float64(1), int64(1), object(2)\n",
      "memory usage: 8.8+ KB\n"
     ]
    }
   ],
   "source": [
    "payments_df.columns = ['customerNumber',\n",
    "                       'checkNumber', 'paymentDate', 'amount']\n",
    "\n",
    "\n",
    "payments_df.info()"
   ]
  },
  {
   "cell_type": "code",
   "execution_count": 417,
   "metadata": {},
   "outputs": [
    {
     "data": {
      "text/plain": [
       "0              0\n",
       "checkNumber    0\n",
       "0000-00-00     0\n",
       "0.00           0\n",
       "dtype: int64"
      ]
     },
     "execution_count": 417,
     "metadata": {},
     "output_type": "execute_result"
    }
   ],
   "source": [
    "payments_df.isna().sum()"
   ]
  },
  {
   "cell_type": "code",
   "execution_count": 423,
   "metadata": {},
   "outputs": [
    {
     "name": "stdout",
     "output_type": "stream",
     "text": [
      "iqr:\n",
      " 29892.835000000003\n",
      "umbrales inf:\n",
      " -29695.117500000004\n",
      "\n",
      "umbrales sup:\n",
      " 89876.2225\n"
     ]
    }
   ],
   "source": [
    "# extremos\n",
    "amount_col = payments_df['amount']\n",
    "\n",
    "\n",
    "q1 = np.percentile(amount_col, 25)\n",
    "q3 = np.percentile(amount_col, 75)\n",
    "iqr = q3 - q1\n",
    "print('iqr:\\n', iqr)\n",
    "\n",
    "umbra_sup = q3+1.5*iqr\n",
    "umbra_inf = q1-1.5*iqr\n",
    "\n",
    "print('umbrales inf:\\n', umbra_inf)\n",
    "print('\\numbrales sup:\\n', umbra_sup)"
   ]
  },
  {
   "cell_type": "code",
   "execution_count": 437,
   "metadata": {},
   "outputs": [
    {
     "data": {
      "text/plain": [
       "Index([17, 23, 41, 43, 61], dtype='int64')"
      ]
     },
     "execution_count": 437,
     "metadata": {},
     "output_type": "execute_result"
    }
   ],
   "source": [
    "am_outliers = amount_col[((amount_col < umbra_inf) | (amount_col > umbra_sup))]\n",
    "am_outliers"
   ]
  },
  {
   "cell_type": "code",
   "execution_count": 436,
   "metadata": {},
   "outputs": [
    {
     "data": {
      "text/plain": [
       "count       278.000000\n",
       "mean      31827.944281\n",
       "std       21096.143249\n",
       "min         615.450000\n",
       "25%       15144.135000\n",
       "50%       31369.150000\n",
       "75%       45036.970000\n",
       "max      120166.580000\n",
       "Name: amount, dtype: float64"
      ]
     },
     "execution_count": 436,
     "metadata": {},
     "output_type": "execute_result"
    }
   ],
   "source": [
    "amount_col.describe()"
   ]
  },
  {
   "cell_type": "code",
   "execution_count": 438,
   "metadata": {},
   "outputs": [
    {
     "data": {
      "text/plain": [
       "(273, 4)"
      ]
     },
     "execution_count": 438,
     "metadata": {},
     "output_type": "execute_result"
    }
   ],
   "source": [
    "payments_df.drop(am_outliers.index, inplace=True)\n",
    "payments_df.shape"
   ]
  },
  {
   "cell_type": "code",
   "execution_count": 439,
   "metadata": {},
   "outputs": [
    {
     "data": {
      "text/plain": [
       "np.int64(5)"
      ]
     },
     "execution_count": 439,
     "metadata": {},
     "output_type": "execute_result"
    }
   ],
   "source": [
    "#duplicados\n",
    "payments_df.duplicated().sum()"
   ]
  },
  {
   "cell_type": "code",
   "execution_count": 440,
   "metadata": {},
   "outputs": [
    {
     "data": {
      "text/html": [
       "<div>\n",
       "<style scoped>\n",
       "    .dataframe tbody tr th:only-of-type {\n",
       "        vertical-align: middle;\n",
       "    }\n",
       "\n",
       "    .dataframe tbody tr th {\n",
       "        vertical-align: top;\n",
       "    }\n",
       "\n",
       "    .dataframe thead th {\n",
       "        text-align: right;\n",
       "    }\n",
       "</style>\n",
       "<table border=\"1\" class=\"dataframe\">\n",
       "  <thead>\n",
       "    <tr style=\"text-align: right;\">\n",
       "      <th></th>\n",
       "      <th>customerNumber</th>\n",
       "      <th>checkNumber</th>\n",
       "      <th>paymentDate</th>\n",
       "      <th>amount</th>\n",
       "    </tr>\n",
       "  </thead>\n",
       "  <tbody>\n",
       "    <tr>\n",
       "      <th>32</th>\n",
       "      <td>129</td>\n",
       "      <td>ID449593</td>\n",
       "      <td>2003-12-11</td>\n",
       "      <td>13923.93</td>\n",
       "    </tr>\n",
       "    <tr>\n",
       "      <th>86</th>\n",
       "      <td>175</td>\n",
       "      <td>CITI3434344</td>\n",
       "      <td>2005-05-19</td>\n",
       "      <td>14500.78</td>\n",
       "    </tr>\n",
       "    <tr>\n",
       "      <th>144</th>\n",
       "      <td>260</td>\n",
       "      <td>IO164641</td>\n",
       "      <td>2004-08-30</td>\n",
       "      <td>13527.58</td>\n",
       "    </tr>\n",
       "    <tr>\n",
       "      <th>215</th>\n",
       "      <td>381</td>\n",
       "      <td>GB117430</td>\n",
       "      <td>2005-02-03</td>\n",
       "      <td>7379.90</td>\n",
       "    </tr>\n",
       "    <tr>\n",
       "      <th>269</th>\n",
       "      <td>487</td>\n",
       "      <td>AH612904</td>\n",
       "      <td>2003-09-28</td>\n",
       "      <td>14997.09</td>\n",
       "    </tr>\n",
       "  </tbody>\n",
       "</table>\n",
       "</div>"
      ],
      "text/plain": [
       "     customerNumber  checkNumber paymentDate    amount\n",
       "32              129     ID449593  2003-12-11  13923.93\n",
       "86              175  CITI3434344  2005-05-19  14500.78\n",
       "144             260     IO164641  2004-08-30  13527.58\n",
       "215             381     GB117430  2005-02-03   7379.90\n",
       "269             487     AH612904  2003-09-28  14997.09"
      ]
     },
     "execution_count": 440,
     "metadata": {},
     "output_type": "execute_result"
    }
   ],
   "source": [
    "payments_df[payments_df.duplicated()]"
   ]
  },
  {
   "cell_type": "code",
   "execution_count": 441,
   "metadata": {},
   "outputs": [
    {
     "name": "stdout",
     "output_type": "stream",
     "text": [
      "<class 'pandas.core.frame.DataFrame'>\n",
      "Index: 273 entries, 0 to 277\n",
      "Data columns (total 5 columns):\n",
      " #   Column          Non-Null Count  Dtype  \n",
      "---  ------          --------------  -----  \n",
      " 0   customerNumber  273 non-null    int64  \n",
      " 1   checkNumber     273 non-null    object \n",
      " 2   paymentDate     273 non-null    object \n",
      " 3   amount          273 non-null    float64\n",
      " 4   customer-check  273 non-null    object \n",
      "dtypes: float64(1), int64(1), object(3)\n",
      "memory usage: 12.8+ KB\n"
     ]
    }
   ],
   "source": [
    "payments_df['customer-check'] = payments_df['customerNumber'].astype(\n",
    "    str)+'-'+payments_df['checkNumber'].astype(str)\n",
    "payments_df.info()"
   ]
  },
  {
   "cell_type": "code",
   "execution_count": 442,
   "metadata": {},
   "outputs": [
    {
     "data": {
      "text/html": [
       "<div>\n",
       "<style scoped>\n",
       "    .dataframe tbody tr th:only-of-type {\n",
       "        vertical-align: middle;\n",
       "    }\n",
       "\n",
       "    .dataframe tbody tr th {\n",
       "        vertical-align: top;\n",
       "    }\n",
       "\n",
       "    .dataframe thead th {\n",
       "        text-align: right;\n",
       "    }\n",
       "</style>\n",
       "<table border=\"1\" class=\"dataframe\">\n",
       "  <thead>\n",
       "    <tr style=\"text-align: right;\">\n",
       "      <th></th>\n",
       "      <th>customerNumber</th>\n",
       "      <th>checkNumber</th>\n",
       "      <th>paymentDate</th>\n",
       "      <th>amount</th>\n",
       "      <th>customer-check</th>\n",
       "    </tr>\n",
       "  </thead>\n",
       "  <tbody>\n",
       "    <tr>\n",
       "      <th>32</th>\n",
       "      <td>129</td>\n",
       "      <td>ID449593</td>\n",
       "      <td>2003-12-11</td>\n",
       "      <td>13923.93</td>\n",
       "      <td>129-ID449593</td>\n",
       "    </tr>\n",
       "    <tr>\n",
       "      <th>86</th>\n",
       "      <td>175</td>\n",
       "      <td>CITI3434344</td>\n",
       "      <td>2005-05-19</td>\n",
       "      <td>14500.78</td>\n",
       "      <td>175-CITI3434344</td>\n",
       "    </tr>\n",
       "    <tr>\n",
       "      <th>144</th>\n",
       "      <td>260</td>\n",
       "      <td>IO164641</td>\n",
       "      <td>2004-08-30</td>\n",
       "      <td>13527.58</td>\n",
       "      <td>260-IO164641</td>\n",
       "    </tr>\n",
       "    <tr>\n",
       "      <th>215</th>\n",
       "      <td>381</td>\n",
       "      <td>GB117430</td>\n",
       "      <td>2005-02-03</td>\n",
       "      <td>7379.90</td>\n",
       "      <td>381-GB117430</td>\n",
       "    </tr>\n",
       "    <tr>\n",
       "      <th>269</th>\n",
       "      <td>487</td>\n",
       "      <td>AH612904</td>\n",
       "      <td>2003-09-28</td>\n",
       "      <td>14997.09</td>\n",
       "      <td>487-AH612904</td>\n",
       "    </tr>\n",
       "  </tbody>\n",
       "</table>\n",
       "</div>"
      ],
      "text/plain": [
       "     customerNumber  checkNumber paymentDate    amount   customer-check\n",
       "32              129     ID449593  2003-12-11  13923.93     129-ID449593\n",
       "86              175  CITI3434344  2005-05-19  14500.78  175-CITI3434344\n",
       "144             260     IO164641  2004-08-30  13527.58     260-IO164641\n",
       "215             381     GB117430  2005-02-03   7379.90     381-GB117430\n",
       "269             487     AH612904  2003-09-28  14997.09     487-AH612904"
      ]
     },
     "execution_count": 442,
     "metadata": {},
     "output_type": "execute_result"
    }
   ],
   "source": [
    "payments_df[payments_df.duplicated()]"
   ]
  },
  {
   "cell_type": "code",
   "execution_count": 443,
   "metadata": {},
   "outputs": [
    {
     "data": {
      "text/plain": [
       "array(['129-ID449593', '175-CITI3434344', '260-IO164641', '381-GB117430',\n",
       "       '487-AH612904'], dtype=object)"
      ]
     },
     "execution_count": 443,
     "metadata": {},
     "output_type": "execute_result"
    }
   ],
   "source": [
    "cust_check_ids = payments_df[payments_df.duplicated()]['customer-check'].values\n",
    "cust_check_ids"
   ]
  },
  {
   "cell_type": "code",
   "execution_count": 444,
   "metadata": {},
   "outputs": [
    {
     "data": {
      "text/html": [
       "<div>\n",
       "<style scoped>\n",
       "    .dataframe tbody tr th:only-of-type {\n",
       "        vertical-align: middle;\n",
       "    }\n",
       "\n",
       "    .dataframe tbody tr th {\n",
       "        vertical-align: top;\n",
       "    }\n",
       "\n",
       "    .dataframe thead th {\n",
       "        text-align: right;\n",
       "    }\n",
       "</style>\n",
       "<table border=\"1\" class=\"dataframe\">\n",
       "  <thead>\n",
       "    <tr style=\"text-align: right;\">\n",
       "      <th></th>\n",
       "      <th>customerNumber</th>\n",
       "      <th>checkNumber</th>\n",
       "      <th>paymentDate</th>\n",
       "      <th>amount</th>\n",
       "      <th>customer-check</th>\n",
       "    </tr>\n",
       "  </thead>\n",
       "  <tbody>\n",
       "    <tr>\n",
       "      <th>31</th>\n",
       "      <td>129</td>\n",
       "      <td>ID449593</td>\n",
       "      <td>2003-12-11</td>\n",
       "      <td>13923.93</td>\n",
       "      <td>129-ID449593</td>\n",
       "    </tr>\n",
       "    <tr>\n",
       "      <th>32</th>\n",
       "      <td>129</td>\n",
       "      <td>ID449593</td>\n",
       "      <td>2003-12-11</td>\n",
       "      <td>13923.93</td>\n",
       "      <td>129-ID449593</td>\n",
       "    </tr>\n",
       "    <tr>\n",
       "      <th>85</th>\n",
       "      <td>175</td>\n",
       "      <td>CITI3434344</td>\n",
       "      <td>2005-05-19</td>\n",
       "      <td>14500.78</td>\n",
       "      <td>175-CITI3434344</td>\n",
       "    </tr>\n",
       "    <tr>\n",
       "      <th>86</th>\n",
       "      <td>175</td>\n",
       "      <td>CITI3434344</td>\n",
       "      <td>2005-05-19</td>\n",
       "      <td>14500.78</td>\n",
       "      <td>175-CITI3434344</td>\n",
       "    </tr>\n",
       "    <tr>\n",
       "      <th>143</th>\n",
       "      <td>260</td>\n",
       "      <td>IO164641</td>\n",
       "      <td>2004-08-30</td>\n",
       "      <td>13527.58</td>\n",
       "      <td>260-IO164641</td>\n",
       "    </tr>\n",
       "    <tr>\n",
       "      <th>144</th>\n",
       "      <td>260</td>\n",
       "      <td>IO164641</td>\n",
       "      <td>2004-08-30</td>\n",
       "      <td>13527.58</td>\n",
       "      <td>260-IO164641</td>\n",
       "    </tr>\n",
       "    <tr>\n",
       "      <th>214</th>\n",
       "      <td>381</td>\n",
       "      <td>GB117430</td>\n",
       "      <td>2005-02-03</td>\n",
       "      <td>7379.90</td>\n",
       "      <td>381-GB117430</td>\n",
       "    </tr>\n",
       "    <tr>\n",
       "      <th>215</th>\n",
       "      <td>381</td>\n",
       "      <td>GB117430</td>\n",
       "      <td>2005-02-03</td>\n",
       "      <td>7379.90</td>\n",
       "      <td>381-GB117430</td>\n",
       "    </tr>\n",
       "    <tr>\n",
       "      <th>268</th>\n",
       "      <td>487</td>\n",
       "      <td>AH612904</td>\n",
       "      <td>2003-09-28</td>\n",
       "      <td>14997.09</td>\n",
       "      <td>487-AH612904</td>\n",
       "    </tr>\n",
       "    <tr>\n",
       "      <th>269</th>\n",
       "      <td>487</td>\n",
       "      <td>AH612904</td>\n",
       "      <td>2003-09-28</td>\n",
       "      <td>14997.09</td>\n",
       "      <td>487-AH612904</td>\n",
       "    </tr>\n",
       "  </tbody>\n",
       "</table>\n",
       "</div>"
      ],
      "text/plain": [
       "     customerNumber  checkNumber paymentDate    amount   customer-check\n",
       "31              129     ID449593  2003-12-11  13923.93     129-ID449593\n",
       "32              129     ID449593  2003-12-11  13923.93     129-ID449593\n",
       "85              175  CITI3434344  2005-05-19  14500.78  175-CITI3434344\n",
       "86              175  CITI3434344  2005-05-19  14500.78  175-CITI3434344\n",
       "143             260     IO164641  2004-08-30  13527.58     260-IO164641\n",
       "144             260     IO164641  2004-08-30  13527.58     260-IO164641\n",
       "214             381     GB117430  2005-02-03   7379.90     381-GB117430\n",
       "215             381     GB117430  2005-02-03   7379.90     381-GB117430\n",
       "268             487     AH612904  2003-09-28  14997.09     487-AH612904\n",
       "269             487     AH612904  2003-09-28  14997.09     487-AH612904"
      ]
     },
     "execution_count": 444,
     "metadata": {},
     "output_type": "execute_result"
    }
   ],
   "source": [
    "payments_df[payments_df['customer-check'].isin(cust_check_ids)]"
   ]
  },
  {
   "cell_type": "code",
   "execution_count": 445,
   "metadata": {},
   "outputs": [
    {
     "data": {
      "text/html": [
       "<div>\n",
       "<style scoped>\n",
       "    .dataframe tbody tr th:only-of-type {\n",
       "        vertical-align: middle;\n",
       "    }\n",
       "\n",
       "    .dataframe tbody tr th {\n",
       "        vertical-align: top;\n",
       "    }\n",
       "\n",
       "    .dataframe thead th {\n",
       "        text-align: right;\n",
       "    }\n",
       "</style>\n",
       "<table border=\"1\" class=\"dataframe\">\n",
       "  <thead>\n",
       "    <tr style=\"text-align: right;\">\n",
       "      <th></th>\n",
       "      <th>customer-check</th>\n",
       "      <th>amount</th>\n",
       "      <th>customerNumber</th>\n",
       "      <th>checkNumber</th>\n",
       "      <th>paymentDate</th>\n",
       "    </tr>\n",
       "  </thead>\n",
       "  <tbody>\n",
       "    <tr>\n",
       "      <th>29</th>\n",
       "      <td>129-ID449593</td>\n",
       "      <td>27847.86</td>\n",
       "      <td>129</td>\n",
       "      <td>ID449593</td>\n",
       "      <td>2003-12-11</td>\n",
       "    </tr>\n",
       "    <tr>\n",
       "      <th>79</th>\n",
       "      <td>175-CITI3434344</td>\n",
       "      <td>29001.56</td>\n",
       "      <td>175</td>\n",
       "      <td>CITI3434344</td>\n",
       "      <td>2005-05-19</td>\n",
       "    </tr>\n",
       "    <tr>\n",
       "      <th>136</th>\n",
       "      <td>260-IO164641</td>\n",
       "      <td>27055.16</td>\n",
       "      <td>260</td>\n",
       "      <td>IO164641</td>\n",
       "      <td>2004-08-30</td>\n",
       "    </tr>\n",
       "    <tr>\n",
       "      <th>206</th>\n",
       "      <td>381-GB117430</td>\n",
       "      <td>14759.80</td>\n",
       "      <td>381</td>\n",
       "      <td>GB117430</td>\n",
       "      <td>2005-02-03</td>\n",
       "    </tr>\n",
       "    <tr>\n",
       "      <th>259</th>\n",
       "      <td>487-AH612904</td>\n",
       "      <td>29994.18</td>\n",
       "      <td>487</td>\n",
       "      <td>AH612904</td>\n",
       "      <td>2003-09-28</td>\n",
       "    </tr>\n",
       "  </tbody>\n",
       "</table>\n",
       "</div>"
      ],
      "text/plain": [
       "      customer-check    amount  customerNumber  checkNumber paymentDate\n",
       "29      129-ID449593  27847.86             129     ID449593  2003-12-11\n",
       "79   175-CITI3434344  29001.56             175  CITI3434344  2005-05-19\n",
       "136     260-IO164641  27055.16             260     IO164641  2004-08-30\n",
       "206     381-GB117430  14759.80             381     GB117430  2005-02-03\n",
       "259     487-AH612904  29994.18             487     AH612904  2003-09-28"
      ]
     },
     "execution_count": 445,
     "metadata": {},
     "output_type": "execute_result"
    }
   ],
   "source": [
    "def doNothing(x):\n",
    "    return list(x)[0]\n",
    "\n",
    "\n",
    "added_payments_df = payments_df.groupby('customer-check').agg(\n",
    "    {'amount': 'sum', 'customerNumber': doNothing, 'checkNumber': doNothing, 'paymentDate': doNothing}).reset_index()\n",
    "added_payments_df[added_payments_df['customer-check'].isin(cust_check_ids)]"
   ]
  },
  {
   "cell_type": "code",
   "execution_count": 446,
   "metadata": {},
   "outputs": [
    {
     "name": "stdout",
     "output_type": "stream",
     "text": [
      "<class 'pandas.core.frame.DataFrame'>\n",
      "RangeIndex: 268 entries, 0 to 267\n",
      "Data columns (total 5 columns):\n",
      " #   Column          Non-Null Count  Dtype  \n",
      "---  ------          --------------  -----  \n",
      " 0   customer-check  268 non-null    object \n",
      " 1   amount          268 non-null    float64\n",
      " 2   customerNumber  268 non-null    int64  \n",
      " 3   checkNumber     268 non-null    object \n",
      " 4   paymentDate     268 non-null    object \n",
      "dtypes: float64(1), int64(1), object(3)\n",
      "memory usage: 10.6+ KB\n"
     ]
    }
   ],
   "source": [
    "# incoherencias\n",
    "added_payments_df.info()"
   ]
  },
  {
   "cell_type": "code",
   "execution_count": 447,
   "metadata": {},
   "outputs": [],
   "source": [
    "added_payments_df['paymentDate'] = pd.to_datetime(\n",
    "    added_payments_df['paymentDate'])\n",
    "\n",
    "added_payments_df['checkNumber'] = added_payments_df['checkNumber'].astype(\n",
    "    'category')\n",
    "added_payments_df['customer-check'] = added_payments_df['customer-check'].astype(\n",
    "    'category')"
   ]
  },
  {
   "cell_type": "code",
   "execution_count": 448,
   "metadata": {},
   "outputs": [
    {
     "name": "stdout",
     "output_type": "stream",
     "text": [
      "<class 'pandas.core.frame.DataFrame'>\n",
      "RangeIndex: 268 entries, 0 to 267\n",
      "Data columns (total 5 columns):\n",
      " #   Column          Non-Null Count  Dtype         \n",
      "---  ------          --------------  -----         \n",
      " 0   customer-check  268 non-null    category      \n",
      " 1   amount          268 non-null    float64       \n",
      " 2   customerNumber  268 non-null    int64         \n",
      " 3   checkNumber     268 non-null    category      \n",
      " 4   paymentDate     268 non-null    datetime64[ns]\n",
      "dtypes: category(2), datetime64[ns](1), float64(1), int64(1)\n",
      "memory usage: 27.8 KB\n"
     ]
    }
   ],
   "source": [
    "added_payments_df.info()"
   ]
  },
  {
   "cell_type": "code",
   "execution_count": 449,
   "metadata": {},
   "outputs": [
    {
     "name": "stdout",
     "output_type": "stream",
     "text": [
      "\n",
      "- Valores únicos para \"customer-check\" \n",
      "\n",
      "['103-HQ336336', '103-JM555205', '103-OM314933', '112-BO864823', '112-HQ55022', ..., '495-BH167026', '495-FN155234', '496-EU531600', '496-MB342426', '496-MN89921']\n",
      "Length: 268\n",
      "Categories (268, object): ['103-HQ336336', '103-JM555205', '103-OM314933', '112-BO864823', ..., '495-FN155234', '496-EU531600', '496-MB342426', '496-MN89921']\n",
      "Num valores únicos:  268\n",
      "\n",
      "- Valores únicos para \"amount\" \n",
      "\n",
      "[ 6066.78 14571.44  1676.14 14191.12 32641.98 33347.88 45864.03 82261.22\n",
      "  7565.08 44894.74 19501.82 47924.19 49523.67 50218.95  1491.38 17876.32\n",
      " 34638.14 85410.87 11044.3  83598.04 47142.7  55639.66 43369.3  45084.38\n",
      " 10549.01 24101.81 33820.62  7466.32 26248.78 27847.86 16537.85 22292.62\n",
      " 50025.35 35321.97 36251.03 36140.38 46895.48 59830.55 65071.26 49539.37\n",
      " 40206.2  63843.55 35420.74 20009.53 26155.91 36005.71  7674.94  4710.73\n",
      " 28211.7  20564.86 53959.21 40978.53 49614.72 39712.1  44380.15  2611.84\n",
      "  3516.04 58793.53 20314.44 58841.35 39964.63 35152.12 63357.13  2434.25\n",
      " 50743.65 12692.19 38675.13 38785.48 44160.92 22474.17 12538.01 85024.46\n",
      " 18997.89 42783.81  1960.8  51209.58 33383.14 11843.45 20355.24 29001.56\n",
      " 24879.08 42044.77 15183.63 47177.59 22602.36  5494.78 44400.5  23602.9\n",
      " 37602.48 34341.08 52825.29 47159.11 48425.69 17359.53 32538.74  9658.74\n",
      "  6036.96  5858.56 23908.24 37258.94 36527.61 33594.58 51152.86  4424.4\n",
      "  3879.96 50342.74 39580.6  35157.75  4632.31 36069.26 45480.79  3101.4\n",
      " 24945.21 40473.86  3452.75  4465.85 36164.46 53745.34 29070.38 22997.45\n",
      " 16909.84 80375.24 46788.14 24995.61 33818.34 12432.32 14232.7  33924.24\n",
      " 48298.99 17928.09 26311.63 23419.47  5759.42 53116.99 61234.67 27988.47\n",
      " 27055.16 29284.42 27083.78 38547.19 41554.73 29848.52 37654.09 52151.81\n",
      " 37723.79 24013.52 35806.73 31835.36 47411.33 43134.04 47375.92 61402.\n",
      " 36798.88 32260.16 46770.52 32723.04 16212.59 45352.47 16901.38 42339.76\n",
      " 36092.4   8307.28 41016.75 52548.49 85559.12 46781.66 75020.13 37281.36\n",
      "  2880.   39440.59 13671.82 29429.14 37455.77  7178.66 31102.85 23936.53\n",
      "  9821.32 21432.31 45785.34 29716.86 28394.54 23333.06 34606.28 31428.21\n",
      " 15322.93 21053.69 20452.5  18888.31 50824.66  1834.56 49705.52 13920.26\n",
      " 16700.47 46656.94 20220.04 36442.34 18473.71 15059.76 50799.69 10223.83\n",
      " 55425.77 28322.83 32680.31 12530.51 12081.52  1627.56 14759.8   1128.2\n",
      " 35826.33  6419.84 42813.83 20644.24 15822.84 51001.22 38524.29 51619.02\n",
      " 33967.73 22037.91   615.45 48927.64 12190.85 49165.16 25080.96 35034.57\n",
      " 31670.37 31310.09 25505.98 21665.98 22042.37  6631.36 17032.29 26304.13\n",
      " 27966.54 48809.9  59551.38 27121.9  15130.97  8807.12 38139.18 32239.47\n",
      " 27550.51  1679.92 33145.56 22162.61 57131.92 30293.77  9977.85 48355.87\n",
      "  9415.13 35505.63  7612.06 17746.26  7678.25 36070.47  3474.66 47513.19\n",
      "  5899.38 45994.07 25833.14 29994.18 12573.28 22275.73  7310.42 59265.14\n",
      "  6276.6  30253.75 32077.44 52166.  ]\n",
      "Num valores únicos:  268\n",
      "\n",
      "- Valores únicos para \"customerNumber\" \n",
      "\n",
      "[103 112 114 119 121 124 128 129 131 141 144 145 146 148 151 157 161 166\n",
      " 167 171 172 173 175 177 181 186 187 189 198 201 202 204 205 209 211 216\n",
      " 219 227 233 239 240 242 249 250 256 259 260 276 278 282 286 298 299 311\n",
      " 314 319 320 321 323 324 328 333 334 339 344 347 350 353 357 362 363 379\n",
      " 381 382 385 386 398 406 412 415 424 447 448 450 452 455 456 458 462 471\n",
      " 473 475 484 486 487 489 495 496]\n",
      "Num valores únicos:  98\n",
      "\n",
      "- Valores únicos para \"checkNumber\" \n",
      "\n",
      "['HQ336336', 'JM555205', 'OM314933', 'BO864823', 'HQ55022', ..., 'BH167026', 'FN155234', 'EU531600', 'MB342426', 'MN89921']\n",
      "Length: 268\n",
      "Categories (268, object): ['AB661578', 'AD304085', 'AD832091', 'AE192287', ..., 'PN238558', 'PO860906', 'PQ803830', 'PT550181']\n",
      "Num valores únicos:  268\n",
      "\n",
      "- Valores únicos para \"paymentDate\" \n",
      "\n",
      "<DatetimeArray>\n",
      "['2004-10-19 00:00:00', '2003-06-05 00:00:00', '2004-12-18 00:00:00',\n",
      " '2004-12-17 00:00:00', '2003-06-06 00:00:00', '2004-08-20 00:00:00',\n",
      " '2003-05-20 00:00:00', '2004-12-15 00:00:00', '2003-05-31 00:00:00',\n",
      " '2004-03-10 00:00:00',\n",
      " ...\n",
      " '2003-11-29 00:00:00', '2004-11-23 00:00:00', '2003-03-20 00:00:00',\n",
      " '2004-02-29 00:00:00', '2004-01-31 00:00:00', '2003-12-26 00:00:00',\n",
      " '2004-05-14 00:00:00', '2005-05-25 00:00:00', '2003-07-16 00:00:00',\n",
      " '2004-12-31 00:00:00']\n",
      "Length: 229, dtype: datetime64[ns]\n",
      "Num valores únicos:  229\n",
      "{'customer-check': 268, 'amount': 268, 'customerNumber': 98, 'checkNumber': 268, 'paymentDate': 229}\n"
     ]
    }
   ],
   "source": [
    "payments_card = calc_cardinalidad(added_payments_df)\n",
    "print(payments_card)"
   ]
  },
  {
   "cell_type": "code",
   "execution_count": 450,
   "metadata": {},
   "outputs": [
    {
     "name": "stdout",
     "output_type": "stream",
     "text": [
      "\n",
      "- Frecuencias para \"customer-check\" \n",
      "\n",
      "customer-check\n",
      "496-MN89921     1\n",
      "103-HQ336336    1\n",
      "103-JM555205    1\n",
      "103-OM314933    1\n",
      "112-BO864823    1\n",
      "               ..\n",
      "121-MA302151    1\n",
      "121-KI831359    1\n",
      "121-FD317790    1\n",
      "121-DB889831    1\n",
      "119-NG94694     1\n",
      "Name: count, Length: 268, dtype: int64\n",
      "\n",
      "- Frecuencias para \"amount\" \n",
      "\n",
      "amount\n",
      "52166.00    1\n",
      "6066.78     1\n",
      "14571.44    1\n",
      "1676.14     1\n",
      "14191.12    1\n",
      "           ..\n",
      "34638.14    1\n",
      "17876.32    1\n",
      "1491.38     1\n",
      "50218.95    1\n",
      "49523.67    1\n",
      "Name: count, Length: 268, dtype: int64\n",
      "\n",
      "- Frecuencias para \"customerNumber\" \n",
      "\n",
      "customerNumber\n",
      "141    11\n",
      "124     7\n",
      "128     4\n",
      "161     4\n",
      "121     4\n",
      "       ..\n",
      "473     2\n",
      "239     1\n",
      "211     1\n",
      "415     1\n",
      "450     1\n",
      "Name: count, Length: 98, dtype: int64\n",
      "\n",
      "- Frecuencias para \"checkNumber\" \n",
      "\n",
      "checkNumber\n",
      "PT550181    1\n",
      "AB661578    1\n",
      "AD304085    1\n",
      "AD832091    1\n",
      "AE192287    1\n",
      "           ..\n",
      "AU750837    1\n",
      "AU364101    1\n",
      "AP286625    1\n",
      "AO757239    1\n",
      "AM968797    1\n",
      "Name: count, Length: 268, dtype: int64\n",
      "\n",
      "- Frecuencias para \"paymentDate\" \n",
      "\n",
      "paymentDate\n",
      "2003-12-09    3\n",
      "2003-11-18    3\n",
      "2004-06-21    3\n",
      "2003-11-24    3\n",
      "2003-10-18    2\n",
      "             ..\n",
      "2003-12-26    1\n",
      "2004-05-14    1\n",
      "2005-05-25    1\n",
      "2003-07-16    1\n",
      "2004-12-31    1\n",
      "Name: count, Length: 229, dtype: int64\n"
     ]
    }
   ],
   "source": [
    "# frecuencias\n",
    "for col in added_payments_df.columns:\n",
    "    print('\\n- Frecuencias para \"{0}\"'.format(col), '\\n')\n",
    "    print(added_payments_df[col].value_counts())"
   ]
  },
  {
   "cell_type": "code",
   "execution_count": 451,
   "metadata": {},
   "outputs": [
    {
     "data": {
      "text/html": [
       "<div>\n",
       "<style scoped>\n",
       "    .dataframe tbody tr th:only-of-type {\n",
       "        vertical-align: middle;\n",
       "    }\n",
       "\n",
       "    .dataframe tbody tr th {\n",
       "        vertical-align: top;\n",
       "    }\n",
       "\n",
       "    .dataframe thead th {\n",
       "        text-align: right;\n",
       "    }\n",
       "</style>\n",
       "<table border=\"1\" class=\"dataframe\">\n",
       "  <thead>\n",
       "    <tr style=\"text-align: right;\">\n",
       "      <th></th>\n",
       "      <th>amount</th>\n",
       "      <th>customerNumber</th>\n",
       "    </tr>\n",
       "  </thead>\n",
       "  <tbody>\n",
       "    <tr>\n",
       "      <th>amount</th>\n",
       "      <td>1.000000</td>\n",
       "      <td>-0.137231</td>\n",
       "    </tr>\n",
       "    <tr>\n",
       "      <th>customerNumber</th>\n",
       "      <td>-0.137231</td>\n",
       "      <td>1.000000</td>\n",
       "    </tr>\n",
       "  </tbody>\n",
       "</table>\n",
       "</div>"
      ],
      "text/plain": [
       "                  amount  customerNumber\n",
       "amount          1.000000       -0.137231\n",
       "customerNumber -0.137231        1.000000"
      ]
     },
     "execution_count": 451,
     "metadata": {},
     "output_type": "execute_result"
    }
   ],
   "source": [
    "# correlación\n",
    "payments_corr = added_payments_df.corr('pearson', numeric_only=True)\n",
    "payments_corr"
   ]
  },
  {
   "cell_type": "code",
   "execution_count": 452,
   "metadata": {},
   "outputs": [
    {
     "data": {
      "text/html": [
       "<div>\n",
       "<style scoped>\n",
       "    .dataframe tbody tr th:only-of-type {\n",
       "        vertical-align: middle;\n",
       "    }\n",
       "\n",
       "    .dataframe tbody tr th {\n",
       "        vertical-align: top;\n",
       "    }\n",
       "\n",
       "    .dataframe thead th {\n",
       "        text-align: right;\n",
       "    }\n",
       "</style>\n",
       "<table border=\"1\" class=\"dataframe\">\n",
       "  <thead>\n",
       "    <tr style=\"text-align: right;\">\n",
       "      <th></th>\n",
       "      <th>amount</th>\n",
       "      <th>customerNumber</th>\n",
       "    </tr>\n",
       "  </thead>\n",
       "  <tbody>\n",
       "    <tr>\n",
       "      <th>amount</th>\n",
       "      <td>1.0</td>\n",
       "      <td>NaN</td>\n",
       "    </tr>\n",
       "    <tr>\n",
       "      <th>customerNumber</th>\n",
       "      <td>NaN</td>\n",
       "      <td>1.0</td>\n",
       "    </tr>\n",
       "  </tbody>\n",
       "</table>\n",
       "</div>"
      ],
      "text/plain": [
       "                amount  customerNumber\n",
       "amount             1.0             NaN\n",
       "customerNumber     NaN             1.0"
      ]
     },
     "execution_count": 452,
     "metadata": {},
     "output_type": "execute_result"
    }
   ],
   "source": [
    "payments_corr[np.abs(payments_corr) >= 0.7]"
   ]
  },
  {
   "cell_type": "code",
   "execution_count": 453,
   "metadata": {},
   "outputs": [
    {
     "data": {
      "text/plain": [
       "amount            0.437524\n",
       "customerNumber    0.314037\n",
       "dtype: float64"
      ]
     },
     "execution_count": 453,
     "metadata": {},
     "output_type": "execute_result"
    }
   ],
   "source": [
    "# sesgo\n",
    "\n",
    "payments_skw = added_payments_df.skew(numeric_only=True)\n",
    "payments_skw"
   ]
  },
  {
   "cell_type": "code",
   "execution_count": 454,
   "metadata": {},
   "outputs": [
    {
     "data": {
      "text/plain": [
       "Series([], dtype: float64)"
      ]
     },
     "execution_count": 454,
     "metadata": {},
     "output_type": "execute_result"
    }
   ],
   "source": [
    "payments_skw[np.abs(payments_skw) > 2]"
   ]
  },
  {
   "cell_type": "code",
   "execution_count": 455,
   "metadata": {},
   "outputs": [
    {
     "data": {
      "text/plain": [
       "amount            0.079298\n",
       "customerNumber   -1.201093\n",
       "dtype: float64"
      ]
     },
     "execution_count": 455,
     "metadata": {},
     "output_type": "execute_result"
    }
   ],
   "source": [
    "# kurtosis\n",
    "payments_kurt = added_payments_df.kurt(numeric_only=True)\n",
    "payments_kurt"
   ]
  },
  {
   "cell_type": "code",
   "execution_count": 456,
   "metadata": {},
   "outputs": [
    {
     "data": {
      "text/plain": [
       "Series([], dtype: float64)"
      ]
     },
     "execution_count": 456,
     "metadata": {},
     "output_type": "execute_result"
    }
   ],
   "source": [
    "payments_kurt[payments_kurt > np.abs(3)]"
   ]
  },
  {
   "cell_type": "markdown",
   "metadata": {},
   "source": [
    "### Mezclado de datos"
   ]
  },
  {
   "cell_type": "code",
   "execution_count": 474,
   "metadata": {},
   "outputs": [
    {
     "name": "stdout",
     "output_type": "stream",
     "text": [
      "<class 'pandas.core.frame.DataFrame'>\n",
      "Index: 2988 entries, 0 to 3000\n",
      "Data columns (total 11 columns):\n",
      " #   Column                 Non-Null Count  Dtype  \n",
      "---  ------                 --------------  -----  \n",
      " 0   orderNumber            2988 non-null   int64  \n",
      " 1   orderLineNumber        2988 non-null   int64  \n",
      " 2   customerNumber         2988 non-null   int64  \n",
      " 3   employeeNumber         2988 non-null   int64  \n",
      " 4   productCode            2988 non-null   object \n",
      " 5   status                 2988 non-null   object \n",
      " 6   quantityOrdered        2988 non-null   int64  \n",
      " 7   priceEach              2988 non-null   float64\n",
      " 8   sales_amount           2988 non-null   float64\n",
      " 9   origin                 2988 non-null   object \n",
      " 10  complete_order_number  2988 non-null   object \n",
      "dtypes: float64(2), int64(5), object(4)\n",
      "memory usage: 280.1+ KB\n"
     ]
    }
   ],
   "source": [
    "sales_df_clean.info()"
   ]
  },
  {
   "cell_type": "code",
   "execution_count": 475,
   "metadata": {},
   "outputs": [
    {
     "name": "stdout",
     "output_type": "stream",
     "text": [
      "<class 'pandas.core.frame.DataFrame'>\n",
      "RangeIndex: 268 entries, 0 to 267\n",
      "Data columns (total 5 columns):\n",
      " #   Column          Non-Null Count  Dtype         \n",
      "---  ------          --------------  -----         \n",
      " 0   customer-check  268 non-null    category      \n",
      " 1   amount          268 non-null    float64       \n",
      " 2   customerNumber  268 non-null    int64         \n",
      " 3   checkNumber     268 non-null    category      \n",
      " 4   paymentDate     268 non-null    datetime64[ns]\n",
      "dtypes: category(2), datetime64[ns](1), float64(1), int64(1)\n",
      "memory usage: 27.8 KB\n"
     ]
    }
   ],
   "source": [
    "added_payments_df.info()"
   ]
  },
  {
   "cell_type": "code",
   "execution_count": 476,
   "metadata": {},
   "outputs": [
    {
     "name": "stdout",
     "output_type": "stream",
     "text": [
      "<class 'pandas.core.frame.DataFrame'>\n",
      "RangeIndex: 11070 entries, 0 to 11069\n",
      "Data columns (total 15 columns):\n",
      " #   Column                 Non-Null Count  Dtype         \n",
      "---  ------                 --------------  -----         \n",
      " 0   orderNumber            11070 non-null  int64         \n",
      " 1   orderLineNumber        11070 non-null  int64         \n",
      " 2   customerNumber         11070 non-null  int64         \n",
      " 3   employeeNumber         11070 non-null  int64         \n",
      " 4   productCode            11070 non-null  object        \n",
      " 5   status                 11070 non-null  object        \n",
      " 6   quantityOrdered        11070 non-null  int64         \n",
      " 7   priceEach              11070 non-null  float64       \n",
      " 8   sales_amount           11070 non-null  float64       \n",
      " 9   origin                 11070 non-null  object        \n",
      " 10  complete_order_number  11070 non-null  object        \n",
      " 11  customer-check         11070 non-null  category      \n",
      " 12  amount                 11070 non-null  float64       \n",
      " 13  checkNumber            11070 non-null  category      \n",
      " 14  paymentDate            11070 non-null  datetime64[ns]\n",
      "dtypes: category(2), datetime64[ns](1), float64(3), int64(5), object(4)\n",
      "memory usage: 1.2+ MB\n"
     ]
    }
   ],
   "source": [
    "merged_df = pd.merge(sales_df_clean, added_payments_df,\n",
    "                     on='customerNumber', how='left')\n",
    "merged_df.info()"
   ]
  },
  {
   "cell_type": "code",
   "execution_count": 477,
   "metadata": {},
   "outputs": [
    {
     "data": {
      "text/html": [
       "<div>\n",
       "<style scoped>\n",
       "    .dataframe tbody tr th:only-of-type {\n",
       "        vertical-align: middle;\n",
       "    }\n",
       "\n",
       "    .dataframe tbody tr th {\n",
       "        vertical-align: top;\n",
       "    }\n",
       "\n",
       "    .dataframe thead th {\n",
       "        text-align: right;\n",
       "    }\n",
       "</style>\n",
       "<table border=\"1\" class=\"dataframe\">\n",
       "  <thead>\n",
       "    <tr style=\"text-align: right;\">\n",
       "      <th></th>\n",
       "      <th>orderNumber</th>\n",
       "      <th>orderLineNumber</th>\n",
       "      <th>customerNumber</th>\n",
       "      <th>employeeNumber</th>\n",
       "      <th>productCode</th>\n",
       "      <th>status</th>\n",
       "      <th>quantityOrdered</th>\n",
       "      <th>priceEach</th>\n",
       "      <th>sales_amount</th>\n",
       "      <th>origin</th>\n",
       "      <th>complete_order_number</th>\n",
       "      <th>customer-check</th>\n",
       "      <th>amount</th>\n",
       "      <th>checkNumber</th>\n",
       "      <th>paymentDate</th>\n",
       "    </tr>\n",
       "  </thead>\n",
       "  <tbody>\n",
       "    <tr>\n",
       "      <th>0</th>\n",
       "      <td>10100</td>\n",
       "      <td>1</td>\n",
       "      <td>363</td>\n",
       "      <td>1216</td>\n",
       "      <td>S24_3969</td>\n",
       "      <td>Shipped</td>\n",
       "      <td>49</td>\n",
       "      <td>35.29</td>\n",
       "      <td>1729.21</td>\n",
       "      <td>spain</td>\n",
       "      <td>10100-1</td>\n",
       "      <td>363-HL575273</td>\n",
       "      <td>50799.69</td>\n",
       "      <td>HL575273</td>\n",
       "      <td>2004-11-17</td>\n",
       "    </tr>\n",
       "    <tr>\n",
       "      <th>1</th>\n",
       "      <td>10100</td>\n",
       "      <td>1</td>\n",
       "      <td>363</td>\n",
       "      <td>1216</td>\n",
       "      <td>S24_3969</td>\n",
       "      <td>Shipped</td>\n",
       "      <td>49</td>\n",
       "      <td>35.29</td>\n",
       "      <td>1729.21</td>\n",
       "      <td>spain</td>\n",
       "      <td>10100-1</td>\n",
       "      <td>363-IS232033</td>\n",
       "      <td>10223.83</td>\n",
       "      <td>IS232033</td>\n",
       "      <td>2003-01-16</td>\n",
       "    </tr>\n",
       "    <tr>\n",
       "      <th>2</th>\n",
       "      <td>10100</td>\n",
       "      <td>1</td>\n",
       "      <td>363</td>\n",
       "      <td>1216</td>\n",
       "      <td>S24_3969</td>\n",
       "      <td>Shipped</td>\n",
       "      <td>49</td>\n",
       "      <td>35.29</td>\n",
       "      <td>1729.21</td>\n",
       "      <td>spain</td>\n",
       "      <td>10100-1</td>\n",
       "      <td>363-PN238558</td>\n",
       "      <td>55425.77</td>\n",
       "      <td>PN238558</td>\n",
       "      <td>2003-12-05</td>\n",
       "    </tr>\n",
       "    <tr>\n",
       "      <th>3</th>\n",
       "      <td>10100</td>\n",
       "      <td>2</td>\n",
       "      <td>363</td>\n",
       "      <td>1216</td>\n",
       "      <td>S18_2248</td>\n",
       "      <td>Shipped</td>\n",
       "      <td>50</td>\n",
       "      <td>55.09</td>\n",
       "      <td>2754.50</td>\n",
       "      <td>spain</td>\n",
       "      <td>10100-2</td>\n",
       "      <td>363-HL575273</td>\n",
       "      <td>50799.69</td>\n",
       "      <td>HL575273</td>\n",
       "      <td>2004-11-17</td>\n",
       "    </tr>\n",
       "    <tr>\n",
       "      <th>4</th>\n",
       "      <td>10100</td>\n",
       "      <td>2</td>\n",
       "      <td>363</td>\n",
       "      <td>1216</td>\n",
       "      <td>S18_2248</td>\n",
       "      <td>Shipped</td>\n",
       "      <td>50</td>\n",
       "      <td>55.09</td>\n",
       "      <td>2754.50</td>\n",
       "      <td>spain</td>\n",
       "      <td>10100-2</td>\n",
       "      <td>363-IS232033</td>\n",
       "      <td>10223.83</td>\n",
       "      <td>IS232033</td>\n",
       "      <td>2003-01-16</td>\n",
       "    </tr>\n",
       "  </tbody>\n",
       "</table>\n",
       "</div>"
      ],
      "text/plain": [
       "   orderNumber  orderLineNumber  customerNumber  employeeNumber productCode  \\\n",
       "0        10100                1             363            1216    S24_3969   \n",
       "1        10100                1             363            1216    S24_3969   \n",
       "2        10100                1             363            1216    S24_3969   \n",
       "3        10100                2             363            1216    S18_2248   \n",
       "4        10100                2             363            1216    S18_2248   \n",
       "\n",
       "    status  quantityOrdered  priceEach  sales_amount origin  \\\n",
       "0  Shipped               49      35.29       1729.21  spain   \n",
       "1  Shipped               49      35.29       1729.21  spain   \n",
       "2  Shipped               49      35.29       1729.21  spain   \n",
       "3  Shipped               50      55.09       2754.50  spain   \n",
       "4  Shipped               50      55.09       2754.50  spain   \n",
       "\n",
       "  complete_order_number customer-check    amount checkNumber paymentDate  \n",
       "0               10100-1   363-HL575273  50799.69    HL575273  2004-11-17  \n",
       "1               10100-1   363-IS232033  10223.83    IS232033  2003-01-16  \n",
       "2               10100-1   363-PN238558  55425.77    PN238558  2003-12-05  \n",
       "3               10100-2   363-HL575273  50799.69    HL575273  2004-11-17  \n",
       "4               10100-2   363-IS232033  10223.83    IS232033  2003-01-16  "
      ]
     },
     "execution_count": 477,
     "metadata": {},
     "output_type": "execute_result"
    }
   ],
   "source": [
    "merged_df.head()"
   ]
  },
  {
   "cell_type": "code",
   "execution_count": 478,
   "metadata": {},
   "outputs": [
    {
     "data": {
      "text/html": [
       "<div>\n",
       "<style scoped>\n",
       "    .dataframe tbody tr th:only-of-type {\n",
       "        vertical-align: middle;\n",
       "    }\n",
       "\n",
       "    .dataframe tbody tr th {\n",
       "        vertical-align: top;\n",
       "    }\n",
       "\n",
       "    .dataframe thead th {\n",
       "        text-align: right;\n",
       "    }\n",
       "</style>\n",
       "<table border=\"1\" class=\"dataframe\">\n",
       "  <thead>\n",
       "    <tr style=\"text-align: right;\">\n",
       "      <th></th>\n",
       "      <th>orderNumber</th>\n",
       "      <th>orderLineNumber</th>\n",
       "      <th>customerNumber</th>\n",
       "      <th>employeeNumber</th>\n",
       "      <th>productCode</th>\n",
       "      <th>status</th>\n",
       "      <th>quantityOrdered</th>\n",
       "      <th>priceEach</th>\n",
       "      <th>sales_amount</th>\n",
       "      <th>origin</th>\n",
       "      <th>complete_order_number</th>\n",
       "      <th>customer-check</th>\n",
       "      <th>amount</th>\n",
       "      <th>checkNumber</th>\n",
       "      <th>paymentDate</th>\n",
       "    </tr>\n",
       "  </thead>\n",
       "  <tbody>\n",
       "    <tr>\n",
       "      <th>11065</th>\n",
       "      <td>10425</td>\n",
       "      <td>12</td>\n",
       "      <td>119</td>\n",
       "      <td>1370</td>\n",
       "      <td>S10_4962</td>\n",
       "      <td>In Process</td>\n",
       "      <td>38</td>\n",
       "      <td>131.49</td>\n",
       "      <td>4996.62</td>\n",
       "      <td>spain</td>\n",
       "      <td>10425-12</td>\n",
       "      <td>119-LN373447</td>\n",
       "      <td>47924.19</td>\n",
       "      <td>LN373447</td>\n",
       "      <td>2004-08-08</td>\n",
       "    </tr>\n",
       "    <tr>\n",
       "      <th>11066</th>\n",
       "      <td>10425</td>\n",
       "      <td>12</td>\n",
       "      <td>119</td>\n",
       "      <td>1370</td>\n",
       "      <td>S10_4962</td>\n",
       "      <td>In Process</td>\n",
       "      <td>38</td>\n",
       "      <td>131.49</td>\n",
       "      <td>4996.62</td>\n",
       "      <td>spain</td>\n",
       "      <td>10425-12</td>\n",
       "      <td>119-NG94694</td>\n",
       "      <td>49523.67</td>\n",
       "      <td>NG94694</td>\n",
       "      <td>2005-02-22</td>\n",
       "    </tr>\n",
       "    <tr>\n",
       "      <th>11067</th>\n",
       "      <td>10425</td>\n",
       "      <td>13</td>\n",
       "      <td>119</td>\n",
       "      <td>1370</td>\n",
       "      <td>S18_4600</td>\n",
       "      <td>In Process</td>\n",
       "      <td>38</td>\n",
       "      <td>107.76</td>\n",
       "      <td>4094.88</td>\n",
       "      <td>spain</td>\n",
       "      <td>10425-13</td>\n",
       "      <td>119-DB933704</td>\n",
       "      <td>19501.82</td>\n",
       "      <td>DB933704</td>\n",
       "      <td>2004-11-14</td>\n",
       "    </tr>\n",
       "    <tr>\n",
       "      <th>11068</th>\n",
       "      <td>10425</td>\n",
       "      <td>13</td>\n",
       "      <td>119</td>\n",
       "      <td>1370</td>\n",
       "      <td>S18_4600</td>\n",
       "      <td>In Process</td>\n",
       "      <td>38</td>\n",
       "      <td>107.76</td>\n",
       "      <td>4094.88</td>\n",
       "      <td>spain</td>\n",
       "      <td>10425-13</td>\n",
       "      <td>119-LN373447</td>\n",
       "      <td>47924.19</td>\n",
       "      <td>LN373447</td>\n",
       "      <td>2004-08-08</td>\n",
       "    </tr>\n",
       "    <tr>\n",
       "      <th>11069</th>\n",
       "      <td>10425</td>\n",
       "      <td>13</td>\n",
       "      <td>119</td>\n",
       "      <td>1370</td>\n",
       "      <td>S18_4600</td>\n",
       "      <td>In Process</td>\n",
       "      <td>38</td>\n",
       "      <td>107.76</td>\n",
       "      <td>4094.88</td>\n",
       "      <td>spain</td>\n",
       "      <td>10425-13</td>\n",
       "      <td>119-NG94694</td>\n",
       "      <td>49523.67</td>\n",
       "      <td>NG94694</td>\n",
       "      <td>2005-02-22</td>\n",
       "    </tr>\n",
       "  </tbody>\n",
       "</table>\n",
       "</div>"
      ],
      "text/plain": [
       "       orderNumber  orderLineNumber  customerNumber  employeeNumber  \\\n",
       "11065        10425               12             119            1370   \n",
       "11066        10425               12             119            1370   \n",
       "11067        10425               13             119            1370   \n",
       "11068        10425               13             119            1370   \n",
       "11069        10425               13             119            1370   \n",
       "\n",
       "      productCode      status  quantityOrdered  priceEach  sales_amount  \\\n",
       "11065    S10_4962  In Process               38     131.49       4996.62   \n",
       "11066    S10_4962  In Process               38     131.49       4996.62   \n",
       "11067    S18_4600  In Process               38     107.76       4094.88   \n",
       "11068    S18_4600  In Process               38     107.76       4094.88   \n",
       "11069    S18_4600  In Process               38     107.76       4094.88   \n",
       "\n",
       "      origin complete_order_number customer-check    amount checkNumber  \\\n",
       "11065  spain              10425-12   119-LN373447  47924.19    LN373447   \n",
       "11066  spain              10425-12    119-NG94694  49523.67     NG94694   \n",
       "11067  spain              10425-13   119-DB933704  19501.82    DB933704   \n",
       "11068  spain              10425-13   119-LN373447  47924.19    LN373447   \n",
       "11069  spain              10425-13    119-NG94694  49523.67     NG94694   \n",
       "\n",
       "      paymentDate  \n",
       "11065  2004-08-08  \n",
       "11066  2005-02-22  \n",
       "11067  2004-11-14  \n",
       "11068  2004-08-08  \n",
       "11069  2005-02-22  "
      ]
     },
     "execution_count": 478,
     "metadata": {},
     "output_type": "execute_result"
    }
   ],
   "source": [
    "merged_df.tail()"
   ]
  },
  {
   "cell_type": "markdown",
   "metadata": {},
   "source": [
    "#### Insights by Sales and payments"
   ]
  },
  {
   "cell_type": "code",
   "execution_count": 479,
   "metadata": {},
   "outputs": [
    {
     "data": {
      "text/html": [
       "<div>\n",
       "<style scoped>\n",
       "    .dataframe tbody tr th:only-of-type {\n",
       "        vertical-align: middle;\n",
       "    }\n",
       "\n",
       "    .dataframe tbody tr th {\n",
       "        vertical-align: top;\n",
       "    }\n",
       "\n",
       "    .dataframe thead th {\n",
       "        text-align: right;\n",
       "    }\n",
       "</style>\n",
       "<table border=\"1\" class=\"dataframe\">\n",
       "  <thead>\n",
       "    <tr style=\"text-align: right;\">\n",
       "      <th></th>\n",
       "      <th>customerNumber</th>\n",
       "      <th>num</th>\n",
       "      <th>tot_sale</th>\n",
       "      <th>tot_ammount</th>\n",
       "    </tr>\n",
       "  </thead>\n",
       "  <tbody>\n",
       "    <tr>\n",
       "      <th>0</th>\n",
       "      <td>103</td>\n",
       "      <td>21</td>\n",
       "      <td>66943.08</td>\n",
       "      <td>156200.52</td>\n",
       "    </tr>\n",
       "    <tr>\n",
       "      <th>1</th>\n",
       "      <td>112</td>\n",
       "      <td>87</td>\n",
       "      <td>240542.94</td>\n",
       "      <td>2325248.42</td>\n",
       "    </tr>\n",
       "    <tr>\n",
       "      <th>2</th>\n",
       "      <td>114</td>\n",
       "      <td>220</td>\n",
       "      <td>722340.28</td>\n",
       "      <td>9932178.85</td>\n",
       "    </tr>\n",
       "    <tr>\n",
       "      <th>3</th>\n",
       "      <td>119</td>\n",
       "      <td>159</td>\n",
       "      <td>475719.36</td>\n",
       "      <td>6198333.04</td>\n",
       "    </tr>\n",
       "    <tr>\n",
       "      <th>4</th>\n",
       "      <td>121</td>\n",
       "      <td>128</td>\n",
       "      <td>416899.16</td>\n",
       "      <td>3335193.28</td>\n",
       "    </tr>\n",
       "    <tr>\n",
       "      <th>...</th>\n",
       "      <td>...</td>\n",
       "      <td>...</td>\n",
       "      <td>...</td>\n",
       "      <td>...</td>\n",
       "    </tr>\n",
       "    <tr>\n",
       "      <th>93</th>\n",
       "      <td>486</td>\n",
       "      <td>66</td>\n",
       "      <td>223295.61</td>\n",
       "      <td>1709984.98</td>\n",
       "    </tr>\n",
       "    <tr>\n",
       "      <th>94</th>\n",
       "      <td>487</td>\n",
       "      <td>30</td>\n",
       "      <td>85140.74</td>\n",
       "      <td>638511.90</td>\n",
       "    </tr>\n",
       "    <tr>\n",
       "      <th>95</th>\n",
       "      <td>489</td>\n",
       "      <td>24</td>\n",
       "      <td>59172.30</td>\n",
       "      <td>355033.80</td>\n",
       "    </tr>\n",
       "    <tr>\n",
       "      <th>96</th>\n",
       "      <td>495</td>\n",
       "      <td>36</td>\n",
       "      <td>131083.48</td>\n",
       "      <td>1179751.32</td>\n",
       "    </tr>\n",
       "    <tr>\n",
       "      <th>97</th>\n",
       "      <td>496</td>\n",
       "      <td>144</td>\n",
       "      <td>412382.37</td>\n",
       "      <td>5495865.12</td>\n",
       "    </tr>\n",
       "  </tbody>\n",
       "</table>\n",
       "<p>98 rows × 4 columns</p>\n",
       "</div>"
      ],
      "text/plain": [
       "    customerNumber  num   tot_sale  tot_ammount\n",
       "0              103   21   66943.08    156200.52\n",
       "1              112   87  240542.94   2325248.42\n",
       "2              114  220  722340.28   9932178.85\n",
       "3              119  159  475719.36   6198333.04\n",
       "4              121  128  416899.16   3335193.28\n",
       "..             ...  ...        ...          ...\n",
       "93             486   66  223295.61   1709984.98\n",
       "94             487   30   85140.74    638511.90\n",
       "95             489   24   59172.30    355033.80\n",
       "96             495   36  131083.48   1179751.32\n",
       "97             496  144  412382.37   5495865.12\n",
       "\n",
       "[98 rows x 4 columns]"
      ]
     },
     "execution_count": 479,
     "metadata": {},
     "output_type": "execute_result"
    }
   ],
   "source": [
    "customer_sales_pays = merged_df.groupby('customerNumber').agg(num=('complete_order_number', 'count'), tot_sale=(\n",
    "    'sales_amount', 'sum'), tot_ammount=('amount', 'sum')).reset_index()\n",
    "\n",
    "customer_sales_pays"
   ]
  },
  {
   "cell_type": "code",
   "execution_count": 480,
   "metadata": {},
   "outputs": [
    {
     "name": "stdout",
     "output_type": "stream",
     "text": [
      "# top ten por número de compras\n"
     ]
    },
    {
     "data": {
      "text/html": [
       "<div>\n",
       "<style scoped>\n",
       "    .dataframe tbody tr th:only-of-type {\n",
       "        vertical-align: middle;\n",
       "    }\n",
       "\n",
       "    .dataframe tbody tr th {\n",
       "        vertical-align: top;\n",
       "    }\n",
       "\n",
       "    .dataframe thead th {\n",
       "        text-align: right;\n",
       "    }\n",
       "</style>\n",
       "<table border=\"1\" class=\"dataframe\">\n",
       "  <thead>\n",
       "    <tr style=\"text-align: right;\">\n",
       "      <th></th>\n",
       "      <th>customerNumber</th>\n",
       "      <th>num</th>\n",
       "    </tr>\n",
       "  </thead>\n",
       "  <tbody>\n",
       "    <tr>\n",
       "      <th>9</th>\n",
       "      <td>141</td>\n",
       "      <td>2849</td>\n",
       "    </tr>\n",
       "    <tr>\n",
       "      <th>5</th>\n",
       "      <td>124</td>\n",
       "      <td>1260</td>\n",
       "    </tr>\n",
       "    <tr>\n",
       "      <th>2</th>\n",
       "      <td>114</td>\n",
       "      <td>220</td>\n",
       "    </tr>\n",
       "    <tr>\n",
       "      <th>14</th>\n",
       "      <td>151</td>\n",
       "      <td>192</td>\n",
       "    </tr>\n",
       "    <tr>\n",
       "      <th>58</th>\n",
       "      <td>323</td>\n",
       "      <td>184</td>\n",
       "    </tr>\n",
       "    <tr>\n",
       "      <th>47</th>\n",
       "      <td>276</td>\n",
       "      <td>184</td>\n",
       "    </tr>\n",
       "    <tr>\n",
       "      <th>67</th>\n",
       "      <td>353</td>\n",
       "      <td>164</td>\n",
       "    </tr>\n",
       "    <tr>\n",
       "      <th>3</th>\n",
       "      <td>119</td>\n",
       "      <td>159</td>\n",
       "    </tr>\n",
       "    <tr>\n",
       "      <th>26</th>\n",
       "      <td>187</td>\n",
       "      <td>153</td>\n",
       "    </tr>\n",
       "    <tr>\n",
       "      <th>11</th>\n",
       "      <td>145</td>\n",
       "      <td>144</td>\n",
       "    </tr>\n",
       "  </tbody>\n",
       "</table>\n",
       "</div>"
      ],
      "text/plain": [
       "    customerNumber   num\n",
       "9              141  2849\n",
       "5              124  1260\n",
       "2              114   220\n",
       "14             151   192\n",
       "58             323   184\n",
       "47             276   184\n",
       "67             353   164\n",
       "3              119   159\n",
       "26             187   153\n",
       "11             145   144"
      ]
     },
     "execution_count": 480,
     "metadata": {},
     "output_type": "execute_result"
    }
   ],
   "source": [
    "print('# top ten por número de compras')\n",
    "customer_sales_pays.sort_values('num', ascending=False)[\n",
    "    ['customerNumber', 'num']].head(10)"
   ]
  },
  {
   "cell_type": "code",
   "execution_count": 481,
   "metadata": {},
   "outputs": [
    {
     "name": "stdout",
     "output_type": "stream",
     "text": [
      "# top ten por monto de compras\n"
     ]
    },
    {
     "data": {
      "text/html": [
       "<div>\n",
       "<style scoped>\n",
       "    .dataframe tbody tr th:only-of-type {\n",
       "        vertical-align: middle;\n",
       "    }\n",
       "\n",
       "    .dataframe tbody tr th {\n",
       "        vertical-align: top;\n",
       "    }\n",
       "\n",
       "    .dataframe thead th {\n",
       "        text-align: right;\n",
       "    }\n",
       "</style>\n",
       "<table border=\"1\" class=\"dataframe\">\n",
       "  <thead>\n",
       "    <tr style=\"text-align: right;\">\n",
       "      <th></th>\n",
       "      <th>customerNumber</th>\n",
       "      <th>tot_sale</th>\n",
       "    </tr>\n",
       "  </thead>\n",
       "  <tbody>\n",
       "    <tr>\n",
       "      <th>9</th>\n",
       "      <td>141</td>\n",
       "      <td>9027584.94</td>\n",
       "    </tr>\n",
       "    <tr>\n",
       "      <th>5</th>\n",
       "      <td>124</td>\n",
       "      <td>4142791.38</td>\n",
       "    </tr>\n",
       "    <tr>\n",
       "      <th>2</th>\n",
       "      <td>114</td>\n",
       "      <td>722340.28</td>\n",
       "    </tr>\n",
       "    <tr>\n",
       "      <th>14</th>\n",
       "      <td>151</td>\n",
       "      <td>711655.80</td>\n",
       "    </tr>\n",
       "    <tr>\n",
       "      <th>58</th>\n",
       "      <td>323</td>\n",
       "      <td>618488.32</td>\n",
       "    </tr>\n",
       "    <tr>\n",
       "      <th>47</th>\n",
       "      <td>276</td>\n",
       "      <td>548136.88</td>\n",
       "    </tr>\n",
       "    <tr>\n",
       "      <th>11</th>\n",
       "      <td>145</td>\n",
       "      <td>516340.48</td>\n",
       "    </tr>\n",
       "    <tr>\n",
       "      <th>67</th>\n",
       "      <td>353</td>\n",
       "      <td>507932.76</td>\n",
       "    </tr>\n",
       "    <tr>\n",
       "      <th>3</th>\n",
       "      <td>119</td>\n",
       "      <td>475719.36</td>\n",
       "    </tr>\n",
       "    <tr>\n",
       "      <th>13</th>\n",
       "      <td>148</td>\n",
       "      <td>468693.00</td>\n",
       "    </tr>\n",
       "  </tbody>\n",
       "</table>\n",
       "</div>"
      ],
      "text/plain": [
       "    customerNumber    tot_sale\n",
       "9              141  9027584.94\n",
       "5              124  4142791.38\n",
       "2              114   722340.28\n",
       "14             151   711655.80\n",
       "58             323   618488.32\n",
       "47             276   548136.88\n",
       "11             145   516340.48\n",
       "67             353   507932.76\n",
       "3              119   475719.36\n",
       "13             148   468693.00"
      ]
     },
     "execution_count": 481,
     "metadata": {},
     "output_type": "execute_result"
    }
   ],
   "source": [
    "print('# top ten por monto de compras')\n",
    "customer_sales_pays.sort_values('tot_sale', ascending=False)[\n",
    "    ['customerNumber', 'tot_sale']].head(10)"
   ]
  },
  {
   "cell_type": "code",
   "execution_count": 482,
   "metadata": {},
   "outputs": [
    {
     "name": "stdout",
     "output_type": "stream",
     "text": [
      "# top ten por monto de pagos\n"
     ]
    },
    {
     "data": {
      "text/html": [
       "<div>\n",
       "<style scoped>\n",
       "    .dataframe tbody tr th:only-of-type {\n",
       "        vertical-align: middle;\n",
       "    }\n",
       "\n",
       "    .dataframe tbody tr th {\n",
       "        vertical-align: top;\n",
       "    }\n",
       "\n",
       "    .dataframe thead th {\n",
       "        text-align: right;\n",
       "    }\n",
       "</style>\n",
       "<table border=\"1\" class=\"dataframe\">\n",
       "  <thead>\n",
       "    <tr style=\"text-align: right;\">\n",
       "      <th></th>\n",
       "      <th>customerNumber</th>\n",
       "      <th>tot_ammount</th>\n",
       "    </tr>\n",
       "  </thead>\n",
       "  <tbody>\n",
       "    <tr>\n",
       "      <th>9</th>\n",
       "      <td>141</td>\n",
       "      <td>1.241553e+08</td>\n",
       "    </tr>\n",
       "    <tr>\n",
       "      <th>5</th>\n",
       "      <td>124</td>\n",
       "      <td>6.683206e+07</td>\n",
       "    </tr>\n",
       "    <tr>\n",
       "      <th>2</th>\n",
       "      <td>114</td>\n",
       "      <td>9.932179e+06</td>\n",
       "    </tr>\n",
       "    <tr>\n",
       "      <th>14</th>\n",
       "      <td>151</td>\n",
       "      <td>8.539870e+06</td>\n",
       "    </tr>\n",
       "    <tr>\n",
       "      <th>26</th>\n",
       "      <td>187</td>\n",
       "      <td>7.568915e+06</td>\n",
       "    </tr>\n",
       "    <tr>\n",
       "      <th>58</th>\n",
       "      <td>323</td>\n",
       "      <td>7.112616e+06</td>\n",
       "    </tr>\n",
       "    <tr>\n",
       "      <th>47</th>\n",
       "      <td>276</td>\n",
       "      <td>6.303574e+06</td>\n",
       "    </tr>\n",
       "    <tr>\n",
       "      <th>3</th>\n",
       "      <td>119</td>\n",
       "      <td>6.198333e+06</td>\n",
       "    </tr>\n",
       "    <tr>\n",
       "      <th>48</th>\n",
       "      <td>278</td>\n",
       "      <td>5.738836e+06</td>\n",
       "    </tr>\n",
       "    <tr>\n",
       "      <th>97</th>\n",
       "      <td>496</td>\n",
       "      <td>5.495865e+06</td>\n",
       "    </tr>\n",
       "  </tbody>\n",
       "</table>\n",
       "</div>"
      ],
      "text/plain": [
       "    customerNumber   tot_ammount\n",
       "9              141  1.241553e+08\n",
       "5              124  6.683206e+07\n",
       "2              114  9.932179e+06\n",
       "14             151  8.539870e+06\n",
       "26             187  7.568915e+06\n",
       "58             323  7.112616e+06\n",
       "47             276  6.303574e+06\n",
       "3              119  6.198333e+06\n",
       "48             278  5.738836e+06\n",
       "97             496  5.495865e+06"
      ]
     },
     "execution_count": 482,
     "metadata": {},
     "output_type": "execute_result"
    }
   ],
   "source": [
    "print('# top ten por monto de pagos')\n",
    "customer_sales_pays.sort_values('tot_ammount', ascending=False)[\n",
    "    ['customerNumber', 'tot_ammount']].head(10)"
   ]
  },
  {
   "cell_type": "markdown",
   "metadata": {},
   "source": [
    "#### Insights by origin"
   ]
  },
  {
   "cell_type": "code",
   "execution_count": 483,
   "metadata": {},
   "outputs": [
    {
     "data": {
      "text/html": [
       "<div>\n",
       "<style scoped>\n",
       "    .dataframe tbody tr th:only-of-type {\n",
       "        vertical-align: middle;\n",
       "    }\n",
       "\n",
       "    .dataframe tbody tr th {\n",
       "        vertical-align: top;\n",
       "    }\n",
       "\n",
       "    .dataframe thead th {\n",
       "        text-align: right;\n",
       "    }\n",
       "</style>\n",
       "<table border=\"1\" class=\"dataframe\">\n",
       "  <thead>\n",
       "    <tr style=\"text-align: right;\">\n",
       "      <th></th>\n",
       "      <th>origin</th>\n",
       "      <th>num</th>\n",
       "      <th>tot_sale</th>\n",
       "      <th>tot_ammount</th>\n",
       "    </tr>\n",
       "  </thead>\n",
       "  <tbody>\n",
       "    <tr>\n",
       "      <th>0</th>\n",
       "      <td>japan</td>\n",
       "      <td>385</td>\n",
       "      <td>1311738.0</td>\n",
       "      <td>9.623561e+06</td>\n",
       "    </tr>\n",
       "    <tr>\n",
       "      <th>1</th>\n",
       "      <td>spain</td>\n",
       "      <td>10685</td>\n",
       "      <td>34198629.7</td>\n",
       "      <td>4.099376e+08</td>\n",
       "    </tr>\n",
       "  </tbody>\n",
       "</table>\n",
       "</div>"
      ],
      "text/plain": [
       "  origin    num    tot_sale   tot_ammount\n",
       "0  japan    385   1311738.0  9.623561e+06\n",
       "1  spain  10685  34198629.7  4.099376e+08"
      ]
     },
     "execution_count": 483,
     "metadata": {},
     "output_type": "execute_result"
    }
   ],
   "source": [
    "by_origin = merged_df.groupby('origin').agg(num=('complete_order_number', 'count'), tot_sale=(\n",
    "    'sales_amount', 'sum'), tot_ammount=('amount', 'sum')).reset_index()\n",
    "\n",
    "by_origin"
   ]
  },
  {
   "cell_type": "markdown",
   "metadata": {},
   "source": [
    "#### Insights by date"
   ]
  },
  {
   "cell_type": "code",
   "execution_count": 484,
   "metadata": {},
   "outputs": [
    {
     "data": {
      "text/html": [
       "<div>\n",
       "<style scoped>\n",
       "    .dataframe tbody tr th:only-of-type {\n",
       "        vertical-align: middle;\n",
       "    }\n",
       "\n",
       "    .dataframe tbody tr th {\n",
       "        vertical-align: top;\n",
       "    }\n",
       "\n",
       "    .dataframe thead th {\n",
       "        text-align: right;\n",
       "    }\n",
       "</style>\n",
       "<table border=\"1\" class=\"dataframe\">\n",
       "  <thead>\n",
       "    <tr style=\"text-align: right;\">\n",
       "      <th></th>\n",
       "      <th></th>\n",
       "      <th>num</th>\n",
       "      <th>tot_sale</th>\n",
       "      <th>tot_ammount</th>\n",
       "    </tr>\n",
       "    <tr>\n",
       "      <th>year</th>\n",
       "      <th>month</th>\n",
       "      <th></th>\n",
       "      <th></th>\n",
       "      <th></th>\n",
       "    </tr>\n",
       "  </thead>\n",
       "  <tbody>\n",
       "    <tr>\n",
       "      <th rowspan=\"12\" valign=\"top\">2003</th>\n",
       "      <th>1</th>\n",
       "      <td>81</td>\n",
       "      <td>264884.69</td>\n",
       "      <td>717057.94</td>\n",
       "    </tr>\n",
       "    <tr>\n",
       "      <th>2</th>\n",
       "      <td>327</td>\n",
       "      <td>1053999.45</td>\n",
       "      <td>13962943.76</td>\n",
       "    </tr>\n",
       "    <tr>\n",
       "      <th>3</th>\n",
       "      <td>189</td>\n",
       "      <td>564074.40</td>\n",
       "      <td>7656653.14</td>\n",
       "    </tr>\n",
       "    <tr>\n",
       "      <th>4</th>\n",
       "      <td>314</td>\n",
       "      <td>1066448.75</td>\n",
       "      <td>5603591.46</td>\n",
       "    </tr>\n",
       "    <tr>\n",
       "      <th>5</th>\n",
       "      <td>239</td>\n",
       "      <td>765701.40</td>\n",
       "      <td>6398322.22</td>\n",
       "    </tr>\n",
       "    <tr>\n",
       "      <th>6</th>\n",
       "      <td>135</td>\n",
       "      <td>442817.16</td>\n",
       "      <td>6024837.25</td>\n",
       "    </tr>\n",
       "    <tr>\n",
       "      <th>7</th>\n",
       "      <td>468</td>\n",
       "      <td>1470009.14</td>\n",
       "      <td>13198441.27</td>\n",
       "    </tr>\n",
       "    <tr>\n",
       "      <th>8</th>\n",
       "      <td>153</td>\n",
       "      <td>473438.78</td>\n",
       "      <td>4755693.99</td>\n",
       "    </tr>\n",
       "    <tr>\n",
       "      <th>9</th>\n",
       "      <td>134</td>\n",
       "      <td>396909.32</td>\n",
       "      <td>4782035.76</td>\n",
       "    </tr>\n",
       "    <tr>\n",
       "      <th>10</th>\n",
       "      <td>515</td>\n",
       "      <td>1656871.86</td>\n",
       "      <td>19166694.82</td>\n",
       "    </tr>\n",
       "    <tr>\n",
       "      <th>11</th>\n",
       "      <td>653</td>\n",
       "      <td>2079319.25</td>\n",
       "      <td>26760930.23</td>\n",
       "    </tr>\n",
       "    <tr>\n",
       "      <th>12</th>\n",
       "      <td>708</td>\n",
       "      <td>2298334.46</td>\n",
       "      <td>34085532.71</td>\n",
       "    </tr>\n",
       "    <tr>\n",
       "      <th rowspan=\"12\" valign=\"top\">2004</th>\n",
       "      <th>1</th>\n",
       "      <td>373</td>\n",
       "      <td>1170876.20</td>\n",
       "      <td>20183803.79</td>\n",
       "    </tr>\n",
       "    <tr>\n",
       "      <th>2</th>\n",
       "      <td>122</td>\n",
       "      <td>390740.66</td>\n",
       "      <td>2340354.99</td>\n",
       "    </tr>\n",
       "    <tr>\n",
       "      <th>3</th>\n",
       "      <td>452</td>\n",
       "      <td>1454322.67</td>\n",
       "      <td>18374798.23</td>\n",
       "    </tr>\n",
       "    <tr>\n",
       "      <th>4</th>\n",
       "      <td>234</td>\n",
       "      <td>749005.28</td>\n",
       "      <td>4579526.84</td>\n",
       "    </tr>\n",
       "    <tr>\n",
       "      <th>5</th>\n",
       "      <td>401</td>\n",
       "      <td>1344802.99</td>\n",
       "      <td>10703521.26</td>\n",
       "    </tr>\n",
       "    <tr>\n",
       "      <th>6</th>\n",
       "      <td>193</td>\n",
       "      <td>672600.36</td>\n",
       "      <td>6647919.95</td>\n",
       "    </tr>\n",
       "    <tr>\n",
       "      <th>7</th>\n",
       "      <td>543</td>\n",
       "      <td>1755881.95</td>\n",
       "      <td>17191516.09</td>\n",
       "    </tr>\n",
       "    <tr>\n",
       "      <th>8</th>\n",
       "      <td>740</td>\n",
       "      <td>2345663.66</td>\n",
       "      <td>28984978.81</td>\n",
       "    </tr>\n",
       "    <tr>\n",
       "      <th>9</th>\n",
       "      <td>401</td>\n",
       "      <td>1283078.57</td>\n",
       "      <td>14207216.19</td>\n",
       "    </tr>\n",
       "    <tr>\n",
       "      <th>10</th>\n",
       "      <td>134</td>\n",
       "      <td>426108.06</td>\n",
       "      <td>4128778.23</td>\n",
       "    </tr>\n",
       "    <tr>\n",
       "      <th>11</th>\n",
       "      <td>1066</td>\n",
       "      <td>3432530.26</td>\n",
       "      <td>42320490.19</td>\n",
       "    </tr>\n",
       "    <tr>\n",
       "      <th>12</th>\n",
       "      <td>804</td>\n",
       "      <td>2558252.59</td>\n",
       "      <td>32385561.87</td>\n",
       "    </tr>\n",
       "    <tr>\n",
       "      <th rowspan=\"6\" valign=\"top\">2005</th>\n",
       "      <th>1</th>\n",
       "      <td>177</td>\n",
       "      <td>538207.10</td>\n",
       "      <td>5212531.88</td>\n",
       "    </tr>\n",
       "    <tr>\n",
       "      <th>2</th>\n",
       "      <td>259</td>\n",
       "      <td>797947.84</td>\n",
       "      <td>8871011.17</td>\n",
       "    </tr>\n",
       "    <tr>\n",
       "      <th>3</th>\n",
       "      <td>391</td>\n",
       "      <td>1267916.54</td>\n",
       "      <td>19962624.02</td>\n",
       "    </tr>\n",
       "    <tr>\n",
       "      <th>4</th>\n",
       "      <td>317</td>\n",
       "      <td>1024869.55</td>\n",
       "      <td>18600198.61</td>\n",
       "    </tr>\n",
       "    <tr>\n",
       "      <th>5</th>\n",
       "      <td>486</td>\n",
       "      <td>1577288.21</td>\n",
       "      <td>19591982.91</td>\n",
       "    </tr>\n",
       "    <tr>\n",
       "      <th>6</th>\n",
       "      <td>61</td>\n",
       "      <td>187466.55</td>\n",
       "      <td>2161580.94</td>\n",
       "    </tr>\n",
       "  </tbody>\n",
       "</table>\n",
       "</div>"
      ],
      "text/plain": [
       "             num    tot_sale  tot_ammount\n",
       "year month                               \n",
       "2003 1        81   264884.69    717057.94\n",
       "     2       327  1053999.45  13962943.76\n",
       "     3       189   564074.40   7656653.14\n",
       "     4       314  1066448.75   5603591.46\n",
       "     5       239   765701.40   6398322.22\n",
       "     6       135   442817.16   6024837.25\n",
       "     7       468  1470009.14  13198441.27\n",
       "     8       153   473438.78   4755693.99\n",
       "     9       134   396909.32   4782035.76\n",
       "     10      515  1656871.86  19166694.82\n",
       "     11      653  2079319.25  26760930.23\n",
       "     12      708  2298334.46  34085532.71\n",
       "2004 1       373  1170876.20  20183803.79\n",
       "     2       122   390740.66   2340354.99\n",
       "     3       452  1454322.67  18374798.23\n",
       "     4       234   749005.28   4579526.84\n",
       "     5       401  1344802.99  10703521.26\n",
       "     6       193   672600.36   6647919.95\n",
       "     7       543  1755881.95  17191516.09\n",
       "     8       740  2345663.66  28984978.81\n",
       "     9       401  1283078.57  14207216.19\n",
       "     10      134   426108.06   4128778.23\n",
       "     11     1066  3432530.26  42320490.19\n",
       "     12      804  2558252.59  32385561.87\n",
       "2005 1       177   538207.10   5212531.88\n",
       "     2       259   797947.84   8871011.17\n",
       "     3       391  1267916.54  19962624.02\n",
       "     4       317  1024869.55  18600198.61\n",
       "     5       486  1577288.21  19591982.91\n",
       "     6        61   187466.55   2161580.94"
      ]
     },
     "execution_count": 484,
     "metadata": {},
     "output_type": "execute_result"
    }
   ],
   "source": [
    "paymentDate = merged_df['paymentDate']\n",
    "\n",
    "by_date = merged_df.groupby([paymentDate.dt.year, paymentDate.dt.month]).agg(num=(\n",
    "    'orderNumber', 'count'), tot_sale=('sales_amount', 'sum'), tot_ammount=('amount', 'sum'))\n",
    "\n",
    "by_date.index.names = ['year', 'month']\n",
    "\n",
    "by_date"
   ]
  },
  {
   "cell_type": "code",
   "execution_count": 485,
   "metadata": {},
   "outputs": [
    {
     "name": "stdout",
     "output_type": "stream",
     "text": [
      "# top años por número de compras\n"
     ]
    },
    {
     "name": "stderr",
     "output_type": "stream",
     "text": [
      "C:\\Users\\ricar\\AppData\\Local\\Temp\\ipykernel_31464\\2898625706.py:2: FutureWarning: The provided callable <built-in function sum> is currently using SeriesGroupBy.sum. In a future version of pandas, the provided callable will be used directly. To keep current behavior pass the string \"sum\" instead.\n",
      "  by_date.sort_values('num', ascending=False).groupby('year').agg({'num': sum})\n"
     ]
    },
    {
     "data": {
      "text/html": [
       "<div>\n",
       "<style scoped>\n",
       "    .dataframe tbody tr th:only-of-type {\n",
       "        vertical-align: middle;\n",
       "    }\n",
       "\n",
       "    .dataframe tbody tr th {\n",
       "        vertical-align: top;\n",
       "    }\n",
       "\n",
       "    .dataframe thead th {\n",
       "        text-align: right;\n",
       "    }\n",
       "</style>\n",
       "<table border=\"1\" class=\"dataframe\">\n",
       "  <thead>\n",
       "    <tr style=\"text-align: right;\">\n",
       "      <th></th>\n",
       "      <th>num</th>\n",
       "    </tr>\n",
       "    <tr>\n",
       "      <th>year</th>\n",
       "      <th></th>\n",
       "    </tr>\n",
       "  </thead>\n",
       "  <tbody>\n",
       "    <tr>\n",
       "      <th>2003</th>\n",
       "      <td>3916</td>\n",
       "    </tr>\n",
       "    <tr>\n",
       "      <th>2004</th>\n",
       "      <td>5463</td>\n",
       "    </tr>\n",
       "    <tr>\n",
       "      <th>2005</th>\n",
       "      <td>1691</td>\n",
       "    </tr>\n",
       "  </tbody>\n",
       "</table>\n",
       "</div>"
      ],
      "text/plain": [
       "       num\n",
       "year      \n",
       "2003  3916\n",
       "2004  5463\n",
       "2005  1691"
      ]
     },
     "execution_count": 485,
     "metadata": {},
     "output_type": "execute_result"
    }
   ],
   "source": [
    "print('# top años por número de compras')\n",
    "by_date.sort_values('num', ascending=False).groupby('year').agg({'num': sum})"
   ]
  },
  {
   "cell_type": "code",
   "execution_count": 486,
   "metadata": {},
   "outputs": [
    {
     "name": "stdout",
     "output_type": "stream",
     "text": [
      "# top meses por número de compras\n"
     ]
    },
    {
     "name": "stderr",
     "output_type": "stream",
     "text": [
      "C:\\Users\\ricar\\AppData\\Local\\Temp\\ipykernel_31464\\3046626405.py:2: FutureWarning: The provided callable <built-in function sum> is currently using SeriesGroupBy.sum. In a future version of pandas, the provided callable will be used directly. To keep current behavior pass the string \"sum\" instead.\n",
      "  by_date.groupby('month').agg({'num': sum}).sort_values(\n"
     ]
    },
    {
     "data": {
      "text/html": [
       "<div>\n",
       "<style scoped>\n",
       "    .dataframe tbody tr th:only-of-type {\n",
       "        vertical-align: middle;\n",
       "    }\n",
       "\n",
       "    .dataframe tbody tr th {\n",
       "        vertical-align: top;\n",
       "    }\n",
       "\n",
       "    .dataframe thead th {\n",
       "        text-align: right;\n",
       "    }\n",
       "</style>\n",
       "<table border=\"1\" class=\"dataframe\">\n",
       "  <thead>\n",
       "    <tr style=\"text-align: right;\">\n",
       "      <th></th>\n",
       "      <th>num</th>\n",
       "    </tr>\n",
       "    <tr>\n",
       "      <th>month</th>\n",
       "      <th></th>\n",
       "    </tr>\n",
       "  </thead>\n",
       "  <tbody>\n",
       "    <tr>\n",
       "      <th>11</th>\n",
       "      <td>1719</td>\n",
       "    </tr>\n",
       "    <tr>\n",
       "      <th>12</th>\n",
       "      <td>1512</td>\n",
       "    </tr>\n",
       "    <tr>\n",
       "      <th>5</th>\n",
       "      <td>1126</td>\n",
       "    </tr>\n",
       "  </tbody>\n",
       "</table>\n",
       "</div>"
      ],
      "text/plain": [
       "        num\n",
       "month      \n",
       "11     1719\n",
       "12     1512\n",
       "5      1126"
      ]
     },
     "execution_count": 486,
     "metadata": {},
     "output_type": "execute_result"
    }
   ],
   "source": [
    "print('# top meses por número de compras')\n",
    "by_date.groupby('month').agg({'num': sum}).sort_values(\n",
    "    'num', ascending=False).head(3)"
   ]
  },
  {
   "cell_type": "code",
   "execution_count": 489,
   "metadata": {},
   "outputs": [
    {
     "data": {
      "text/html": [
       "<div>\n",
       "<style scoped>\n",
       "    .dataframe tbody tr th:only-of-type {\n",
       "        vertical-align: middle;\n",
       "    }\n",
       "\n",
       "    .dataframe tbody tr th {\n",
       "        vertical-align: top;\n",
       "    }\n",
       "\n",
       "    .dataframe thead th {\n",
       "        text-align: right;\n",
       "    }\n",
       "</style>\n",
       "<table border=\"1\" class=\"dataframe\">\n",
       "  <thead>\n",
       "    <tr style=\"text-align: right;\">\n",
       "      <th></th>\n",
       "      <th>orderNumber</th>\n",
       "      <th>orderLineNumber</th>\n",
       "      <th>customerNumber</th>\n",
       "      <th>employeeNumber</th>\n",
       "      <th>quantityOrdered</th>\n",
       "      <th>priceEach</th>\n",
       "      <th>sales_amount</th>\n",
       "      <th>amount</th>\n",
       "    </tr>\n",
       "  </thead>\n",
       "  <tbody>\n",
       "    <tr>\n",
       "      <th>orderNumber</th>\n",
       "      <td>1.000000</td>\n",
       "      <td>-0.043316</td>\n",
       "      <td>-0.048589</td>\n",
       "      <td>0.077729</td>\n",
       "      <td>0.062886</td>\n",
       "      <td>-0.003145</td>\n",
       "      <td>0.036512</td>\n",
       "      <td>0.067693</td>\n",
       "    </tr>\n",
       "    <tr>\n",
       "      <th>orderLineNumber</th>\n",
       "      <td>-0.043316</td>\n",
       "      <td>1.000000</td>\n",
       "      <td>-0.044920</td>\n",
       "      <td>-0.020970</td>\n",
       "      <td>-0.030415</td>\n",
       "      <td>0.000763</td>\n",
       "      <td>-0.025681</td>\n",
       "      <td>0.085760</td>\n",
       "    </tr>\n",
       "    <tr>\n",
       "      <th>customerNumber</th>\n",
       "      <td>-0.048589</td>\n",
       "      <td>-0.044920</td>\n",
       "      <td>1.000000</td>\n",
       "      <td>0.036230</td>\n",
       "      <td>-0.006134</td>\n",
       "      <td>-0.008989</td>\n",
       "      <td>-0.007327</td>\n",
       "      <td>-0.246693</td>\n",
       "    </tr>\n",
       "    <tr>\n",
       "      <th>employeeNumber</th>\n",
       "      <td>0.077729</td>\n",
       "      <td>-0.020970</td>\n",
       "      <td>0.036230</td>\n",
       "      <td>1.000000</td>\n",
       "      <td>-0.014445</td>\n",
       "      <td>-0.021298</td>\n",
       "      <td>-0.026080</td>\n",
       "      <td>0.044556</td>\n",
       "    </tr>\n",
       "    <tr>\n",
       "      <th>quantityOrdered</th>\n",
       "      <td>0.062886</td>\n",
       "      <td>-0.030415</td>\n",
       "      <td>-0.006134</td>\n",
       "      <td>-0.014445</td>\n",
       "      <td>1.000000</td>\n",
       "      <td>0.025146</td>\n",
       "      <td>0.569006</td>\n",
       "      <td>0.010418</td>\n",
       "    </tr>\n",
       "    <tr>\n",
       "      <th>priceEach</th>\n",
       "      <td>-0.003145</td>\n",
       "      <td>0.000763</td>\n",
       "      <td>-0.008989</td>\n",
       "      <td>-0.021298</td>\n",
       "      <td>0.025146</td>\n",
       "      <td>1.000000</td>\n",
       "      <td>0.807126</td>\n",
       "      <td>-0.002040</td>\n",
       "    </tr>\n",
       "    <tr>\n",
       "      <th>sales_amount</th>\n",
       "      <td>0.036512</td>\n",
       "      <td>-0.025681</td>\n",
       "      <td>-0.007327</td>\n",
       "      <td>-0.026080</td>\n",
       "      <td>0.569006</td>\n",
       "      <td>0.807126</td>\n",
       "      <td>1.000000</td>\n",
       "      <td>0.002790</td>\n",
       "    </tr>\n",
       "    <tr>\n",
       "      <th>amount</th>\n",
       "      <td>0.067693</td>\n",
       "      <td>0.085760</td>\n",
       "      <td>-0.246693</td>\n",
       "      <td>0.044556</td>\n",
       "      <td>0.010418</td>\n",
       "      <td>-0.002040</td>\n",
       "      <td>0.002790</td>\n",
       "      <td>1.000000</td>\n",
       "    </tr>\n",
       "  </tbody>\n",
       "</table>\n",
       "</div>"
      ],
      "text/plain": [
       "                 orderNumber  orderLineNumber  customerNumber  employeeNumber  \\\n",
       "orderNumber         1.000000        -0.043316       -0.048589        0.077729   \n",
       "orderLineNumber    -0.043316         1.000000       -0.044920       -0.020970   \n",
       "customerNumber     -0.048589        -0.044920        1.000000        0.036230   \n",
       "employeeNumber      0.077729        -0.020970        0.036230        1.000000   \n",
       "quantityOrdered     0.062886        -0.030415       -0.006134       -0.014445   \n",
       "priceEach          -0.003145         0.000763       -0.008989       -0.021298   \n",
       "sales_amount        0.036512        -0.025681       -0.007327       -0.026080   \n",
       "amount              0.067693         0.085760       -0.246693        0.044556   \n",
       "\n",
       "                 quantityOrdered  priceEach  sales_amount    amount  \n",
       "orderNumber             0.062886  -0.003145      0.036512  0.067693  \n",
       "orderLineNumber        -0.030415   0.000763     -0.025681  0.085760  \n",
       "customerNumber         -0.006134  -0.008989     -0.007327 -0.246693  \n",
       "employeeNumber         -0.014445  -0.021298     -0.026080  0.044556  \n",
       "quantityOrdered         1.000000   0.025146      0.569006  0.010418  \n",
       "priceEach               0.025146   1.000000      0.807126 -0.002040  \n",
       "sales_amount            0.569006   0.807126      1.000000  0.002790  \n",
       "amount                  0.010418  -0.002040      0.002790  1.000000  "
      ]
     },
     "execution_count": 489,
     "metadata": {},
     "output_type": "execute_result"
    }
   ],
   "source": [
    "merged_df_corr = merged_df.corr('pearson', numeric_only=True)\n",
    "merged_df_corr"
   ]
  },
  {
   "cell_type": "code",
   "execution_count": 495,
   "metadata": {},
   "outputs": [
    {
     "data": {
      "text/html": [
       "<div>\n",
       "<style scoped>\n",
       "    .dataframe tbody tr th:only-of-type {\n",
       "        vertical-align: middle;\n",
       "    }\n",
       "\n",
       "    .dataframe tbody tr th {\n",
       "        vertical-align: top;\n",
       "    }\n",
       "\n",
       "    .dataframe thead th {\n",
       "        text-align: right;\n",
       "    }\n",
       "</style>\n",
       "<table border=\"1\" class=\"dataframe\">\n",
       "  <thead>\n",
       "    <tr style=\"text-align: right;\">\n",
       "      <th></th>\n",
       "      <th>orderNumber</th>\n",
       "      <th>orderLineNumber</th>\n",
       "      <th>customerNumber</th>\n",
       "      <th>employeeNumber</th>\n",
       "      <th>quantityOrdered</th>\n",
       "      <th>priceEach</th>\n",
       "      <th>sales_amount</th>\n",
       "      <th>amount</th>\n",
       "    </tr>\n",
       "  </thead>\n",
       "  <tbody>\n",
       "    <tr>\n",
       "      <th>orderNumber</th>\n",
       "      <td>NaN</td>\n",
       "      <td>NaN</td>\n",
       "      <td>NaN</td>\n",
       "      <td>NaN</td>\n",
       "      <td>NaN</td>\n",
       "      <td>NaN</td>\n",
       "      <td>NaN</td>\n",
       "      <td>NaN</td>\n",
       "    </tr>\n",
       "    <tr>\n",
       "      <th>orderLineNumber</th>\n",
       "      <td>NaN</td>\n",
       "      <td>NaN</td>\n",
       "      <td>NaN</td>\n",
       "      <td>NaN</td>\n",
       "      <td>NaN</td>\n",
       "      <td>NaN</td>\n",
       "      <td>NaN</td>\n",
       "      <td>NaN</td>\n",
       "    </tr>\n",
       "    <tr>\n",
       "      <th>customerNumber</th>\n",
       "      <td>NaN</td>\n",
       "      <td>NaN</td>\n",
       "      <td>NaN</td>\n",
       "      <td>NaN</td>\n",
       "      <td>NaN</td>\n",
       "      <td>NaN</td>\n",
       "      <td>NaN</td>\n",
       "      <td>NaN</td>\n",
       "    </tr>\n",
       "    <tr>\n",
       "      <th>employeeNumber</th>\n",
       "      <td>NaN</td>\n",
       "      <td>NaN</td>\n",
       "      <td>NaN</td>\n",
       "      <td>NaN</td>\n",
       "      <td>NaN</td>\n",
       "      <td>NaN</td>\n",
       "      <td>NaN</td>\n",
       "      <td>NaN</td>\n",
       "    </tr>\n",
       "    <tr>\n",
       "      <th>quantityOrdered</th>\n",
       "      <td>NaN</td>\n",
       "      <td>NaN</td>\n",
       "      <td>NaN</td>\n",
       "      <td>NaN</td>\n",
       "      <td>NaN</td>\n",
       "      <td>NaN</td>\n",
       "      <td>NaN</td>\n",
       "      <td>NaN</td>\n",
       "    </tr>\n",
       "    <tr>\n",
       "      <th>priceEach</th>\n",
       "      <td>NaN</td>\n",
       "      <td>NaN</td>\n",
       "      <td>NaN</td>\n",
       "      <td>NaN</td>\n",
       "      <td>NaN</td>\n",
       "      <td>NaN</td>\n",
       "      <td>0.807126</td>\n",
       "      <td>NaN</td>\n",
       "    </tr>\n",
       "    <tr>\n",
       "      <th>sales_amount</th>\n",
       "      <td>NaN</td>\n",
       "      <td>NaN</td>\n",
       "      <td>NaN</td>\n",
       "      <td>NaN</td>\n",
       "      <td>NaN</td>\n",
       "      <td>0.807126</td>\n",
       "      <td>NaN</td>\n",
       "      <td>NaN</td>\n",
       "    </tr>\n",
       "    <tr>\n",
       "      <th>amount</th>\n",
       "      <td>NaN</td>\n",
       "      <td>NaN</td>\n",
       "      <td>NaN</td>\n",
       "      <td>NaN</td>\n",
       "      <td>NaN</td>\n",
       "      <td>NaN</td>\n",
       "      <td>NaN</td>\n",
       "      <td>NaN</td>\n",
       "    </tr>\n",
       "  </tbody>\n",
       "</table>\n",
       "</div>"
      ],
      "text/plain": [
       "                 orderNumber  orderLineNumber  customerNumber  employeeNumber  \\\n",
       "orderNumber              NaN              NaN             NaN             NaN   \n",
       "orderLineNumber          NaN              NaN             NaN             NaN   \n",
       "customerNumber           NaN              NaN             NaN             NaN   \n",
       "employeeNumber           NaN              NaN             NaN             NaN   \n",
       "quantityOrdered          NaN              NaN             NaN             NaN   \n",
       "priceEach                NaN              NaN             NaN             NaN   \n",
       "sales_amount             NaN              NaN             NaN             NaN   \n",
       "amount                   NaN              NaN             NaN             NaN   \n",
       "\n",
       "                 quantityOrdered  priceEach  sales_amount  amount  \n",
       "orderNumber                  NaN        NaN           NaN     NaN  \n",
       "orderLineNumber              NaN        NaN           NaN     NaN  \n",
       "customerNumber               NaN        NaN           NaN     NaN  \n",
       "employeeNumber               NaN        NaN           NaN     NaN  \n",
       "quantityOrdered              NaN        NaN           NaN     NaN  \n",
       "priceEach                    NaN        NaN      0.807126     NaN  \n",
       "sales_amount                 NaN   0.807126           NaN     NaN  \n",
       "amount                       NaN        NaN           NaN     NaN  "
      ]
     },
     "execution_count": 495,
     "metadata": {},
     "output_type": "execute_result"
    }
   ],
   "source": [
    "merged_df_corr[(merged_df_corr > 0.7) & (merged_df_corr != 1)]"
   ]
  }
 ],
 "metadata": {
  "kernelspec": {
   "display_name": "Python 3",
   "language": "python",
   "name": "python3"
  },
  "language_info": {
   "codemirror_mode": {
    "name": "ipython",
    "version": 3
   },
   "file_extension": ".py",
   "mimetype": "text/x-python",
   "name": "python",
   "nbconvert_exporter": "python",
   "pygments_lexer": "ipython3",
   "version": "3.12.4"
  }
 },
 "nbformat": 4,
 "nbformat_minor": 2
}
