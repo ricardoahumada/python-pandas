{
 "cells": [
  {
   "cell_type": "code",
   "execution_count": null,
   "id": "d4e99ebd",
   "metadata": {},
   "outputs": [],
   "source": [
    "import pandas as pd\n",
    "import sqlite3 "
   ]
  },
  {
   "attachments": {},
   "cell_type": "markdown",
   "id": "50a7e74b",
   "metadata": {},
   "source": [
    "## Function definitions"
   ]
  },
  {
   "cell_type": "code",
   "execution_count": 101,
   "id": "2de55a53",
   "metadata": {},
   "outputs": [],
   "source": [
    "def get_data_from_api():\n",
    "    print('Reading...')\n",
    "    dfj = pd.read_json('api/data.json')\n",
    "    return dfj"
   ]
  },
  {
   "cell_type": "code",
   "execution_count": null,
   "id": "2a8d14b8",
   "metadata": {},
   "outputs": [],
   "source": [
    "def write_data(data):\n",
    "    print('Writing...')\n",
    "    print(data)\n",
    "    data.to_csv('csv/data.csv')"
   ]
  },
  {
   "cell_type": "code",
   "execution_count": null,
   "id": "7166d46d",
   "metadata": {},
   "outputs": [],
   "source": [
    "def agg_data():\n",
    "    df = pd.read_csv('csv/data.csv')\n",
    "    print('Aggregating...')\n",
    "    df['date']=pd.to_datetime(df['date']).dt.date    \n",
    "    select_col=['store','date','price']\n",
    "    new_df = df.groupby([df[\"store\"],df[\"date\"]]).sum().reset_index()\n",
    "    new_df.rename(columns={\"price\":\"revenue\"},inplace=True)\n",
    "    print(new_df)\n",
    "    return new_df"
   ]
  },
  {
   "cell_type": "code",
   "execution_count": null,
   "id": "c644853c",
   "metadata": {},
   "outputs": [],
   "source": [
    "def load_data(pdf):\n",
    "    con = sqlite3.connect(\"db/database.db\")\n",
    "    print('Loading...')\n",
    "    print(pdf)\n",
    "    pdf.to_sql(name='agg_data', con=con, if_exists=\"replace\")"
   ]
  },
  {
   "attachments": {},
   "cell_type": "markdown",
   "id": "f20903df",
   "metadata": {},
   "source": [
    "## ETL Steps"
   ]
  },
  {
   "cell_type": "code",
   "execution_count": 102,
   "id": "d6ad581b",
   "metadata": {},
   "outputs": [
    {
     "name": "stdout",
     "output_type": "stream",
     "text": [
      "Reading...\n"
     ]
    },
    {
     "data": {
      "text/html": [
       "<div>\n",
       "<style scoped>\n",
       "    .dataframe tbody tr th:only-of-type {\n",
       "        vertical-align: middle;\n",
       "    }\n",
       "\n",
       "    .dataframe tbody tr th {\n",
       "        vertical-align: top;\n",
       "    }\n",
       "\n",
       "    .dataframe thead th {\n",
       "        text-align: right;\n",
       "    }\n",
       "</style>\n",
       "<table border=\"1\" class=\"dataframe\">\n",
       "  <thead>\n",
       "    <tr style=\"text-align: right;\">\n",
       "      <th></th>\n",
       "      <th>transaction_id</th>\n",
       "      <th>store</th>\n",
       "      <th>date</th>\n",
       "      <th>price</th>\n",
       "    </tr>\n",
       "  </thead>\n",
       "  <tbody>\n",
       "    <tr>\n",
       "      <th>0</th>\n",
       "      <td>1</td>\n",
       "      <td>10</td>\n",
       "      <td>2020-05-01 10:05:01</td>\n",
       "      <td>100.5</td>\n",
       "    </tr>\n",
       "    <tr>\n",
       "      <th>1</th>\n",
       "      <td>2</td>\n",
       "      <td>10</td>\n",
       "      <td>2020-05-01 10:06:02</td>\n",
       "      <td>120.5</td>\n",
       "    </tr>\n",
       "  </tbody>\n",
       "</table>\n",
       "</div>"
      ],
      "text/plain": [
       "   transaction_id  store                date  price\n",
       "0               1     10 2020-05-01 10:05:01  100.5\n",
       "1               2     10 2020-05-01 10:06:02  120.5"
      ]
     },
     "execution_count": 102,
     "metadata": {},
     "output_type": "execute_result"
    }
   ],
   "source": [
    "# Pull Data from API\n",
    "data = get_data_from_api()\n",
    "data"
   ]
  },
  {
   "cell_type": "code",
   "execution_count": 98,
   "id": "fed049a9",
   "metadata": {},
   "outputs": [
    {
     "name": "stdout",
     "output_type": "stream",
     "text": [
      "Writing...\n",
      "   transaction_id  store                date  price\n",
      "0               1     10 2020-05-01 10:05:01  100.5\n",
      "1               2     10 2020-05-01 10:06:02  120.5\n"
     ]
    }
   ],
   "source": [
    "## Output Data to CSV\n",
    "write_data(data)"
   ]
  },
  {
   "cell_type": "code",
   "execution_count": 99,
   "id": "25d0f835",
   "metadata": {},
   "outputs": [
    {
     "name": "stdout",
     "output_type": "stream",
     "text": [
      "Aggregating...\n",
      "   store        date  Unnamed: 0  transaction_id  revenue\n",
      "0     10  2020-05-01           1               3    221.0\n"
     ]
    }
   ],
   "source": [
    "## Transformation to Aggregate Data\n",
    "proc_data = agg_data()"
   ]
  },
  {
   "cell_type": "code",
   "execution_count": 100,
   "id": "8da3a507",
   "metadata": {},
   "outputs": [
    {
     "name": "stdout",
     "output_type": "stream",
     "text": [
      "Loading...\n",
      "   store        date  Unnamed: 0  transaction_id  revenue\n",
      "0     10  2020-05-01           1               3    221.0\n"
     ]
    }
   ],
   "source": [
    "## Load Data to DB\n",
    "load_data(proc_data)"
   ]
  }
 ],
 "metadata": {
  "kernelspec": {
   "display_name": "Python 3 (ipykernel)",
   "language": "python",
   "name": "python3"
  },
  "language_info": {
   "codemirror_mode": {
    "name": "ipython",
    "version": 3
   },
   "file_extension": ".py",
   "mimetype": "text/x-python",
   "name": "python",
   "nbconvert_exporter": "python",
   "pygments_lexer": "ipython3",
   "version": "3.9.13"
  }
 },
 "nbformat": 4,
 "nbformat_minor": 5
}
