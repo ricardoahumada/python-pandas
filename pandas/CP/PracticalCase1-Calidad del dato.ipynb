{
 "cells": [
  {
   "cell_type": "markdown",
   "id": "12b42c1a",
   "metadata": {},
   "source": [
    "# Calidad del dato"
   ]
  },
  {
   "cell_type": "code",
   "execution_count": 32,
   "id": "bd25af20",
   "metadata": {},
   "outputs": [],
   "source": [
    "import mysql.connector as connection\n",
    "import pandas as pd\n",
    "import warnings\n",
    "\n",
    "warnings.filterwarnings('ignore')"
   ]
  },
  {
   "cell_type": "markdown",
   "id": "bc6746c0",
   "metadata": {},
   "source": [
    "### Sales"
   ]
  },
  {
   "cell_type": "code",
   "execution_count": 6,
   "id": "c4d68e03",
   "metadata": {},
   "outputs": [],
   "source": [
    "try:\n",
    "    mydb = connection.connect(host=\"db4free.net\", database = 'dbtraining2',user=\"dbuseracc2\", passwd=\"Pa55w0rd\",use_pure=True)\n",
    "    query = \"Select * from sales;\"\n",
    "    sales_df = pd.read_sql(query,mydb)\n",
    "    mydb.close() #close the connection\n",
    "except Exception as e:\n",
    "    mydb.close()\n",
    "    print(str(e))"
   ]
  },
  {
   "cell_type": "code",
   "execution_count": 8,
   "id": "56b47f93",
   "metadata": {},
   "outputs": [
    {
     "data": {
      "text/html": [
       "<div>\n",
       "<style scoped>\n",
       "    .dataframe tbody tr th:only-of-type {\n",
       "        vertical-align: middle;\n",
       "    }\n",
       "\n",
       "    .dataframe tbody tr th {\n",
       "        vertical-align: top;\n",
       "    }\n",
       "\n",
       "    .dataframe thead th {\n",
       "        text-align: right;\n",
       "    }\n",
       "</style>\n",
       "<table border=\"1\" class=\"dataframe\">\n",
       "  <thead>\n",
       "    <tr style=\"text-align: right;\">\n",
       "      <th></th>\n",
       "      <th>orderNumber</th>\n",
       "      <th>orderLineNumber</th>\n",
       "      <th>orderDate</th>\n",
       "      <th>shippedDate</th>\n",
       "      <th>requiredDate</th>\n",
       "      <th>customerNumber</th>\n",
       "      <th>employeeNumber</th>\n",
       "      <th>productCode</th>\n",
       "      <th>status</th>\n",
       "      <th>comments</th>\n",
       "      <th>quantityOrdered</th>\n",
       "      <th>priceEach</th>\n",
       "      <th>sales_amount</th>\n",
       "    </tr>\n",
       "  </thead>\n",
       "  <tbody>\n",
       "    <tr>\n",
       "      <th>0</th>\n",
       "      <td>10100</td>\n",
       "      <td>1</td>\n",
       "      <td>2003-01-06</td>\n",
       "      <td>2003-01-10</td>\n",
       "      <td>2003-01-13</td>\n",
       "      <td>363</td>\n",
       "      <td>1216</td>\n",
       "      <td>S24_3969</td>\n",
       "      <td>Shipped</td>\n",
       "      <td>None</td>\n",
       "      <td>49</td>\n",
       "      <td>35.29</td>\n",
       "      <td>1729.21</td>\n",
       "    </tr>\n",
       "    <tr>\n",
       "      <th>1</th>\n",
       "      <td>10100</td>\n",
       "      <td>2</td>\n",
       "      <td>2003-01-06</td>\n",
       "      <td>2003-01-10</td>\n",
       "      <td>2003-01-13</td>\n",
       "      <td>363</td>\n",
       "      <td>1216</td>\n",
       "      <td>S18_2248</td>\n",
       "      <td>Shipped</td>\n",
       "      <td>None</td>\n",
       "      <td>50</td>\n",
       "      <td>55.09</td>\n",
       "      <td>2754.50</td>\n",
       "    </tr>\n",
       "    <tr>\n",
       "      <th>2</th>\n",
       "      <td>10100</td>\n",
       "      <td>3</td>\n",
       "      <td>2003-01-06</td>\n",
       "      <td>2003-01-10</td>\n",
       "      <td>2003-01-13</td>\n",
       "      <td>363</td>\n",
       "      <td>1216</td>\n",
       "      <td>S18_1749</td>\n",
       "      <td>Shipped</td>\n",
       "      <td>None</td>\n",
       "      <td>30</td>\n",
       "      <td>136.00</td>\n",
       "      <td>4080.00</td>\n",
       "    </tr>\n",
       "    <tr>\n",
       "      <th>3</th>\n",
       "      <td>10100</td>\n",
       "      <td>4</td>\n",
       "      <td>2003-01-06</td>\n",
       "      <td>2003-01-10</td>\n",
       "      <td>2003-01-13</td>\n",
       "      <td>363</td>\n",
       "      <td>1216</td>\n",
       "      <td>S18_4409</td>\n",
       "      <td>Shipped</td>\n",
       "      <td>None</td>\n",
       "      <td>22</td>\n",
       "      <td>75.46</td>\n",
       "      <td>1660.12</td>\n",
       "    </tr>\n",
       "    <tr>\n",
       "      <th>4</th>\n",
       "      <td>10101</td>\n",
       "      <td>1</td>\n",
       "      <td>2003-01-09</td>\n",
       "      <td>2003-01-11</td>\n",
       "      <td>2003-01-18</td>\n",
       "      <td>128</td>\n",
       "      <td>1504</td>\n",
       "      <td>S18_2795</td>\n",
       "      <td>Shipped</td>\n",
       "      <td>Check on availability.</td>\n",
       "      <td>26</td>\n",
       "      <td>167.06</td>\n",
       "      <td>4343.56</td>\n",
       "    </tr>\n",
       "    <tr>\n",
       "      <th>...</th>\n",
       "      <td>...</td>\n",
       "      <td>...</td>\n",
       "      <td>...</td>\n",
       "      <td>...</td>\n",
       "      <td>...</td>\n",
       "      <td>...</td>\n",
       "      <td>...</td>\n",
       "      <td>...</td>\n",
       "      <td>...</td>\n",
       "      <td>...</td>\n",
       "      <td>...</td>\n",
       "      <td>...</td>\n",
       "      <td>...</td>\n",
       "    </tr>\n",
       "    <tr>\n",
       "      <th>2854</th>\n",
       "      <td>10425</td>\n",
       "      <td>9</td>\n",
       "      <td>2005-05-31</td>\n",
       "      <td>None</td>\n",
       "      <td>2005-06-07</td>\n",
       "      <td>119</td>\n",
       "      <td>1370</td>\n",
       "      <td>S24_2300</td>\n",
       "      <td>In Process</td>\n",
       "      <td>None</td>\n",
       "      <td>49</td>\n",
       "      <td>127.79</td>\n",
       "      <td>6261.71</td>\n",
       "    </tr>\n",
       "    <tr>\n",
       "      <th>2855</th>\n",
       "      <td>10425</td>\n",
       "      <td>10</td>\n",
       "      <td>2005-05-31</td>\n",
       "      <td>None</td>\n",
       "      <td>2005-06-07</td>\n",
       "      <td>119</td>\n",
       "      <td>1370</td>\n",
       "      <td>S18_2432</td>\n",
       "      <td>In Process</td>\n",
       "      <td>None</td>\n",
       "      <td>19</td>\n",
       "      <td>48.62</td>\n",
       "      <td>923.78</td>\n",
       "    </tr>\n",
       "    <tr>\n",
       "      <th>2856</th>\n",
       "      <td>10425</td>\n",
       "      <td>11</td>\n",
       "      <td>2005-05-31</td>\n",
       "      <td>None</td>\n",
       "      <td>2005-06-07</td>\n",
       "      <td>119</td>\n",
       "      <td>1370</td>\n",
       "      <td>S32_1268</td>\n",
       "      <td>In Process</td>\n",
       "      <td>None</td>\n",
       "      <td>41</td>\n",
       "      <td>83.79</td>\n",
       "      <td>3435.39</td>\n",
       "    </tr>\n",
       "    <tr>\n",
       "      <th>2857</th>\n",
       "      <td>10425</td>\n",
       "      <td>12</td>\n",
       "      <td>2005-05-31</td>\n",
       "      <td>None</td>\n",
       "      <td>2005-06-07</td>\n",
       "      <td>119</td>\n",
       "      <td>1370</td>\n",
       "      <td>S10_4962</td>\n",
       "      <td>In Process</td>\n",
       "      <td>None</td>\n",
       "      <td>38</td>\n",
       "      <td>131.49</td>\n",
       "      <td>4996.62</td>\n",
       "    </tr>\n",
       "    <tr>\n",
       "      <th>2858</th>\n",
       "      <td>10425</td>\n",
       "      <td>13</td>\n",
       "      <td>2005-05-31</td>\n",
       "      <td>None</td>\n",
       "      <td>2005-06-07</td>\n",
       "      <td>119</td>\n",
       "      <td>1370</td>\n",
       "      <td>S18_4600</td>\n",
       "      <td>In Process</td>\n",
       "      <td>None</td>\n",
       "      <td>38</td>\n",
       "      <td>107.76</td>\n",
       "      <td>4094.88</td>\n",
       "    </tr>\n",
       "  </tbody>\n",
       "</table>\n",
       "<p>2859 rows × 13 columns</p>\n",
       "</div>"
      ],
      "text/plain": [
       "      orderNumber  orderLineNumber   orderDate shippedDate requiredDate  \\\n",
       "0           10100                1  2003-01-06  2003-01-10   2003-01-13   \n",
       "1           10100                2  2003-01-06  2003-01-10   2003-01-13   \n",
       "2           10100                3  2003-01-06  2003-01-10   2003-01-13   \n",
       "3           10100                4  2003-01-06  2003-01-10   2003-01-13   \n",
       "4           10101                1  2003-01-09  2003-01-11   2003-01-18   \n",
       "...           ...              ...         ...         ...          ...   \n",
       "2854        10425                9  2005-05-31        None   2005-06-07   \n",
       "2855        10425               10  2005-05-31        None   2005-06-07   \n",
       "2856        10425               11  2005-05-31        None   2005-06-07   \n",
       "2857        10425               12  2005-05-31        None   2005-06-07   \n",
       "2858        10425               13  2005-05-31        None   2005-06-07   \n",
       "\n",
       "      customerNumber  employeeNumber productCode      status  \\\n",
       "0                363            1216    S24_3969     Shipped   \n",
       "1                363            1216    S18_2248     Shipped   \n",
       "2                363            1216    S18_1749     Shipped   \n",
       "3                363            1216    S18_4409     Shipped   \n",
       "4                128            1504    S18_2795     Shipped   \n",
       "...              ...             ...         ...         ...   \n",
       "2854             119            1370    S24_2300  In Process   \n",
       "2855             119            1370    S18_2432  In Process   \n",
       "2856             119            1370    S32_1268  In Process   \n",
       "2857             119            1370    S10_4962  In Process   \n",
       "2858             119            1370    S18_4600  In Process   \n",
       "\n",
       "                    comments  quantityOrdered  priceEach  sales_amount  \n",
       "0                       None               49      35.29       1729.21  \n",
       "1                       None               50      55.09       2754.50  \n",
       "2                       None               30     136.00       4080.00  \n",
       "3                       None               22      75.46       1660.12  \n",
       "4     Check on availability.               26     167.06       4343.56  \n",
       "...                      ...              ...        ...           ...  \n",
       "2854                    None               49     127.79       6261.71  \n",
       "2855                    None               19      48.62        923.78  \n",
       "2856                    None               41      83.79       3435.39  \n",
       "2857                    None               38     131.49       4996.62  \n",
       "2858                    None               38     107.76       4094.88  \n",
       "\n",
       "[2859 rows x 13 columns]"
      ]
     },
     "execution_count": 8,
     "metadata": {},
     "output_type": "execute_result"
    }
   ],
   "source": [
    "sales_df"
   ]
  },
  {
   "cell_type": "code",
   "execution_count": 9,
   "id": "2c03ec35",
   "metadata": {},
   "outputs": [
    {
     "data": {
      "text/html": [
       "<div>\n",
       "<style scoped>\n",
       "    .dataframe tbody tr th:only-of-type {\n",
       "        vertical-align: middle;\n",
       "    }\n",
       "\n",
       "    .dataframe tbody tr th {\n",
       "        vertical-align: top;\n",
       "    }\n",
       "\n",
       "    .dataframe thead th {\n",
       "        text-align: right;\n",
       "    }\n",
       "</style>\n",
       "<table border=\"1\" class=\"dataframe\">\n",
       "  <thead>\n",
       "    <tr style=\"text-align: right;\">\n",
       "      <th></th>\n",
       "      <th>orderNumber</th>\n",
       "      <th>orderLineNumber</th>\n",
       "      <th>customerNumber</th>\n",
       "      <th>employeeNumber</th>\n",
       "      <th>quantityOrdered</th>\n",
       "      <th>priceEach</th>\n",
       "      <th>sales_amount</th>\n",
       "    </tr>\n",
       "  </thead>\n",
       "  <tbody>\n",
       "    <tr>\n",
       "      <th>count</th>\n",
       "      <td>2859.000000</td>\n",
       "      <td>2859.000000</td>\n",
       "      <td>2859.000000</td>\n",
       "      <td>2859.000000</td>\n",
       "      <td>2859.000000</td>\n",
       "      <td>2859.000000</td>\n",
       "      <td>2859.000000</td>\n",
       "    </tr>\n",
       "    <tr>\n",
       "      <th>mean</th>\n",
       "      <td>10262.681007</td>\n",
       "      <td>6.416229</td>\n",
       "      <td>259.523260</td>\n",
       "      <td>1380.933193</td>\n",
       "      <td>35.184680</td>\n",
       "      <td>90.699451</td>\n",
       "      <td>3199.398580</td>\n",
       "    </tr>\n",
       "    <tr>\n",
       "      <th>std</th>\n",
       "      <td>92.151367</td>\n",
       "      <td>4.179354</td>\n",
       "      <td>118.689272</td>\n",
       "      <td>156.604464</td>\n",
       "      <td>9.866436</td>\n",
       "      <td>36.571590</td>\n",
       "      <td>1633.220486</td>\n",
       "    </tr>\n",
       "    <tr>\n",
       "      <th>min</th>\n",
       "      <td>10100.000000</td>\n",
       "      <td>1.000000</td>\n",
       "      <td>103.000000</td>\n",
       "      <td>1165.000000</td>\n",
       "      <td>6.000000</td>\n",
       "      <td>26.550000</td>\n",
       "      <td>481.500000</td>\n",
       "    </tr>\n",
       "    <tr>\n",
       "      <th>25%</th>\n",
       "      <td>10182.000000</td>\n",
       "      <td>3.000000</td>\n",
       "      <td>144.000000</td>\n",
       "      <td>1216.000000</td>\n",
       "      <td>27.000000</td>\n",
       "      <td>62.000000</td>\n",
       "      <td>1985.100000</td>\n",
       "    </tr>\n",
       "    <tr>\n",
       "      <th>50%</th>\n",
       "      <td>10267.000000</td>\n",
       "      <td>6.000000</td>\n",
       "      <td>240.000000</td>\n",
       "      <td>1370.000000</td>\n",
       "      <td>35.000000</td>\n",
       "      <td>85.860000</td>\n",
       "      <td>2879.800000</td>\n",
       "    </tr>\n",
       "    <tr>\n",
       "      <th>75%</th>\n",
       "      <td>10340.000000</td>\n",
       "      <td>9.000000</td>\n",
       "      <td>350.000000</td>\n",
       "      <td>1501.000000</td>\n",
       "      <td>43.000000</td>\n",
       "      <td>114.590000</td>\n",
       "      <td>4086.800000</td>\n",
       "    </tr>\n",
       "    <tr>\n",
       "      <th>max</th>\n",
       "      <td>10425.000000</td>\n",
       "      <td>18.000000</td>\n",
       "      <td>496.000000</td>\n",
       "      <td>1702.000000</td>\n",
       "      <td>97.000000</td>\n",
       "      <td>214.300000</td>\n",
       "      <td>11503.140000</td>\n",
       "    </tr>\n",
       "  </tbody>\n",
       "</table>\n",
       "</div>"
      ],
      "text/plain": [
       "        orderNumber  orderLineNumber  customerNumber  employeeNumber  \\\n",
       "count   2859.000000      2859.000000     2859.000000     2859.000000   \n",
       "mean   10262.681007         6.416229      259.523260     1380.933193   \n",
       "std       92.151367         4.179354      118.689272      156.604464   \n",
       "min    10100.000000         1.000000      103.000000     1165.000000   \n",
       "25%    10182.000000         3.000000      144.000000     1216.000000   \n",
       "50%    10267.000000         6.000000      240.000000     1370.000000   \n",
       "75%    10340.000000         9.000000      350.000000     1501.000000   \n",
       "max    10425.000000        18.000000      496.000000     1702.000000   \n",
       "\n",
       "       quantityOrdered    priceEach  sales_amount  \n",
       "count      2859.000000  2859.000000   2859.000000  \n",
       "mean         35.184680    90.699451   3199.398580  \n",
       "std           9.866436    36.571590   1633.220486  \n",
       "min           6.000000    26.550000    481.500000  \n",
       "25%          27.000000    62.000000   1985.100000  \n",
       "50%          35.000000    85.860000   2879.800000  \n",
       "75%          43.000000   114.590000   4086.800000  \n",
       "max          97.000000   214.300000  11503.140000  "
      ]
     },
     "execution_count": 9,
     "metadata": {},
     "output_type": "execute_result"
    }
   ],
   "source": [
    "sales_df.describe()"
   ]
  },
  {
   "cell_type": "code",
   "execution_count": 11,
   "id": "9f1c2bd1",
   "metadata": {},
   "outputs": [
    {
     "name": "stdout",
     "output_type": "stream",
     "text": [
      "<class 'pandas.core.frame.DataFrame'>\n",
      "RangeIndex: 2859 entries, 0 to 2858\n",
      "Data columns (total 13 columns):\n",
      " #   Column           Non-Null Count  Dtype  \n",
      "---  ------           --------------  -----  \n",
      " 0   orderNumber      2859 non-null   int64  \n",
      " 1   orderLineNumber  2859 non-null   int64  \n",
      " 2   orderDate        2859 non-null   object \n",
      " 3   shippedDate      2718 non-null   object \n",
      " 4   requiredDate     2859 non-null   object \n",
      " 5   customerNumber   2859 non-null   int64  \n",
      " 6   employeeNumber   2859 non-null   int64  \n",
      " 7   productCode      2859 non-null   object \n",
      " 8   status           2859 non-null   object \n",
      " 9   comments         728 non-null    object \n",
      " 10  quantityOrdered  2859 non-null   int64  \n",
      " 11  priceEach        2859 non-null   float64\n",
      " 12  sales_amount     2859 non-null   float64\n",
      "dtypes: float64(2), int64(5), object(6)\n",
      "memory usage: 290.5+ KB\n"
     ]
    }
   ],
   "source": [
    "sales_df.info()"
   ]
  },
  {
   "cell_type": "code",
   "execution_count": 44,
   "id": "94202444",
   "metadata": {},
   "outputs": [
    {
     "data": {
      "text/plain": [
       "(2859, 13)"
      ]
     },
     "execution_count": 44,
     "metadata": {},
     "output_type": "execute_result"
    }
   ],
   "source": [
    "sales_df.shape"
   ]
  },
  {
   "cell_type": "code",
   "execution_count": 46,
   "id": "b81bfe93",
   "metadata": {},
   "outputs": [
    {
     "name": "stdout",
     "output_type": "stream",
     "text": [
      "(0, 13)\n"
     ]
    }
   ],
   "source": [
    "print (sales_df[sales_df.duplicated()].shape)"
   ]
  },
  {
   "cell_type": "code",
   "execution_count": 18,
   "id": "0e2f3581",
   "metadata": {
    "scrolled": true
   },
   "outputs": [
    {
     "data": {
      "text/plain": [
       "Index(['orderNumber', 'orderLineNumber', 'orderDate', 'shippedDate',\n",
       "       'requiredDate', 'customerNumber', 'employeeNumber', 'productCode',\n",
       "       'status', 'comments', 'quantityOrdered', 'priceEach', 'sales_amount'],\n",
       "      dtype='object')"
      ]
     },
     "execution_count": 18,
     "metadata": {},
     "output_type": "execute_result"
    }
   ],
   "source": [
    "sales_df.columns"
   ]
  },
  {
   "cell_type": "code",
   "execution_count": 60,
   "id": "4ba28058",
   "metadata": {},
   "outputs": [
    {
     "name": "stdout",
     "output_type": "stream",
     "text": [
      "Revisando valores duplicados\n",
      "orderNumber | 0.006 - 0.0 | int64\n",
      "orderLineNumber | 0.108 - 0.003 | int64\n",
      "orderDate | 0.013 - 0.0 | object\n",
      "shippedDate | 0.016 - 0.0 | object\n",
      "requiredDate | 0.014 - 0.0 | object\n",
      "customerNumber | 0.091 - 0.001 | int64\n",
      "employeeNumber | 0.139 - 0.04 | int64\n",
      "productCode | 0.018 - 0.008 | object\n",
      "status | 0.921 - 0.005 | object\n",
      "comments | 0.022 - 0.001 | object\n",
      "quantityOrdered | 0.04 - 0.0 | int64\n",
      "priceEach | 0.003 - 0.0 | float64\n",
      "sales_amount | 0.001 - 0.0 | float64\n"
     ]
    }
   ],
   "source": [
    "# valores duplicados\n",
    "\n",
    "def valores_duplicados_col(df):\n",
    "    n_registros = len(df)\n",
    "    for columna in df:\n",
    "        n_por_valor = df[columna].value_counts()\n",
    "        mas_comun = n_por_valor.iloc[0]\n",
    "        menos_comun = n_por_valor.iloc[-1]\n",
    "        print (\"{} | {} - {} | {}\".format(\n",
    "            df[columna].name,\n",
    "            round(mas_comun/(1.0*n_registros),3),\n",
    "            round(menos_comun/(1.0*n_registros),3),\n",
    "            df[columna].dtype\n",
    "        ))\n",
    "        \n",
    "print(\"Revisando valores duplicados\")\n",
    "valores_duplicados_col(sales_df)"
   ]
  },
  {
   "cell_type": "code",
   "execution_count": 61,
   "id": "82a82da9",
   "metadata": {},
   "outputs": [
    {
     "name": "stdout",
     "output_type": "stream",
     "text": [
      "Revisando valores inexistentes\n",
      "orderNumber | 0.0 |int64\n",
      "orderLineNumber | 0.0 |int64\n",
      "orderDate | 0.0 |object\n",
      "shippedDate | 0.04931794333683106 |object\n",
      "requiredDate | 0.0 |object\n",
      "customerNumber | 0.0 |int64\n",
      "employeeNumber | 0.0 |int64\n",
      "productCode | 0.0 |object\n",
      "status | 0.0 |object\n",
      "comments | 0.7453655124169289 |object\n",
      "quantityOrdered | 0.0 |int64\n",
      "priceEach | 0.0 |float64\n",
      "sales_amount | 0.0 |float64\n"
     ]
    }
   ],
   "source": [
    "# inexistentes\n",
    "\n",
    "print (\"Revisando valores inexistentes\")\n",
    "def valores_inexistentes_col(df):\n",
    "    n_registros = len(df)\n",
    "    for columna in df:\n",
    "        print (\"{} | {} |{}\".format(\n",
    "            df[columna].name, \n",
    "            len(df[df[columna].isnull()]) / (1.0*n_registros),\n",
    "            df[columna].dtype\n",
    "\n",
    "\n",
    "            ))\n",
    "\n",
    "valores_inexistentes_col(sales_df)"
   ]
  },
  {
   "cell_type": "code",
   "execution_count": 62,
   "id": "83df8fc6",
   "metadata": {},
   "outputs": [
    {
     "name": "stdout",
     "output_type": "stream",
     "text": [
      "Revisando valores extremos\n",
      "orderNumber | 0 | int64\n",
      "orderLineNumber | 0 | int64\n",
      "customerNumber | 0 | int64\n",
      "employeeNumber | 0 | int64\n",
      "quantityOrdered | 17 | int64\n",
      "priceEach | 20 | float64\n",
      "sales_amount | 35 | float64\n"
     ]
    }
   ],
   "source": [
    "# extremos\n",
    "\n",
    "from scipy import stats\n",
    "import numpy as np \n",
    "\n",
    "print (\"Revisando valores extremos\")\n",
    "def extermos_col(df):\n",
    "    for columna in df:\n",
    "        if df[columna].dtype != np.object:\n",
    "            n_extremos = len(df[np.abs(stats.zscore(df[columna]))>3])\n",
    "            print (\"{} | {} | {}\".format(\n",
    "                df[columna].name,\n",
    "                n_extremos,\n",
    "                df[columna].dtype\n",
    "\n",
    "                ))\n",
    "\n",
    "extermos_col(sales_df)"
   ]
  },
  {
   "cell_type": "code",
   "execution_count": 63,
   "id": "c64e2807",
   "metadata": {},
   "outputs": [
    {
     "name": "stdout",
     "output_type": "stream",
     "text": [
      "Valores unicos por columna\n",
      "orderNumber | 310 | int64 \n",
      "orderLineNumber | 18 | int64 \n",
      "orderDate | 253 | object \n",
      "shippedDate | 235 | object \n",
      "requiredDate | 254 | object \n",
      "customerNumber | 93 | int64 \n",
      "employeeNumber | 14 | int64 \n",
      "productCode | 109 | object \n",
      "status | 6 | object \n",
      "comments | 37 | object \n",
      "quantityOrdered | 61 | int64 \n",
      "priceEach | 1547 | float64 \n",
      "sales_amount | 2756 | float64 \n"
     ]
    }
   ],
   "source": [
    "# unicos\n",
    "\n",
    "print (\"Valores unicos por columna\")\n",
    "def valores_unicos_col(df):\n",
    "    for column in df:\n",
    "        print (\"{} | {} | {} \".format(\n",
    "            df[column].name, len(df[column].unique()), df[column].dtype\n",
    "            ))\n",
    "valores_unicos_col(sales_df)"
   ]
  },
  {
   "cell_type": "code",
   "execution_count": 22,
   "id": "c95fe6fe",
   "metadata": {},
   "outputs": [
    {
     "name": "stdout",
     "output_type": "stream",
     "text": [
      "35.18467995802728 90.69945085694299 3199.3985799230495\n"
     ]
    }
   ],
   "source": [
    "# Media\n",
    "\n",
    "def calc_mean(data):\n",
    "    mean = data.mean()\n",
    "    return mean\n",
    "\n",
    "sel_cols = ['quantityOrdered', 'priceEach', 'sales_amount']\n",
    "\n",
    "interesting_sales = sales_df[sel_cols]\n",
    "\n",
    "q_mean, p_mean, s_mean = interesting_sales.apply(calc_mean)\n",
    "\n",
    "print(q_mean, p_mean, s_mean)"
   ]
  },
  {
   "cell_type": "code",
   "execution_count": 23,
   "id": "b1b35151",
   "metadata": {},
   "outputs": [
    {
     "name": "stdout",
     "output_type": "stream",
     "text": [
      "97.3125180070523 1337.0133812654199 2666476.169973921\n",
      "9.864710741174944 36.56519357620605 1632.9348333518767\n"
     ]
    }
   ],
   "source": [
    "# Varianza y Desviacion Estandar.\n",
    "\n",
    "def calc_mean(series):\n",
    "    vals = series.values\n",
    "    mean = sum(vals) / len(vals)\n",
    "    return mean\n",
    "\n",
    "def calc_variance(series):\n",
    "    mean = calc_mean(series)\n",
    "    variance = [ (x - mean) **2 for x in series]\n",
    "    variance = sum(variance) / len(variance)\n",
    "    return variance\n",
    "\n",
    "def calc_stdev(series):\n",
    "    variance = calc_variance(series)\n",
    "    return variance ** (1/2)\n",
    "\n",
    "q_var, p_var, s_var = interesting_sales.apply(calc_variance)\n",
    "q_stdev, p_stdev, s_stdev = interesting_sales.apply(calc_stdev)\n",
    "\n",
    "\n",
    "print(q_var, p_var, s_var)\n",
    "print(q_stdev, p_stdev, s_stdev)"
   ]
  },
  {
   "cell_type": "code",
   "execution_count": 29,
   "id": "ba559d95",
   "metadata": {},
   "outputs": [
    {
     "data": {
      "image/png": "[encoded data removed]",
      "text/plain": [
       "<Figure size 400x800 with 3 Axes>"
      ]
     },
     "metadata": {},
     "output_type": "display_data"
    }
   ],
   "source": [
    "# Scatter Plots\n",
    "import matplotlib.pyplot as plt\n",
    "fig = plt.figure(figsize = (4, 8))\n",
    "\n",
    "scores = ['quantityOrdered', 'priceEach', 'sales_amount']\n",
    "\n",
    "for i in range(0,3):\n",
    "    fig.add_subplot(3, 1, i+1)\n",
    "    ax = plt.scatter(sales_df[scores[i]], sales_df[scores[2]], label=scores[i])\n",
    "    # plt.xlim(0.0, 100.0)\n",
    "    plt.legend()\n",
    "    \n",
    "    \n",
    "plt.show()\n"
   ]
  },
  {
   "cell_type": "code",
   "execution_count": 34,
   "id": "f62aa3e8",
   "metadata": {},
   "outputs": [
    {
     "data": {
      "image/png": "[encoded data removed]",
      "text/plain": [
       "<Figure size 500x1200 with 3 Axes>"
      ]
     },
     "metadata": {},
     "output_type": "display_data"
    }
   ],
   "source": [
    "fig = plt.figure(figsize=(5, 12))\n",
    "for i, sc in enumerate(scores):\n",
    "    fig.add_subplot(4, 1, i+1)\n",
    "    ax = sales_df[sc].plot(kind='hist')\n",
    "    #ax.set_xlim([0, 5])\n",
    "    ax.set_ylabel('')\n",
    "    ax.set_title(sc)\n",
    "    ax.grid()\n",
    "   \n",
    "plt.show()"
   ]
  },
  {
   "cell_type": "markdown",
   "id": "02904ea6",
   "metadata": {},
   "source": [
    "### Payments"
   ]
  },
  {
   "cell_type": "code",
   "execution_count": 37,
   "id": "8cd60495",
   "metadata": {},
   "outputs": [
    {
     "data": {
      "text/html": [
       "<div>\n",
       "<style scoped>\n",
       "    .dataframe tbody tr th:only-of-type {\n",
       "        vertical-align: middle;\n",
       "    }\n",
       "\n",
       "    .dataframe tbody tr th {\n",
       "        vertical-align: top;\n",
       "    }\n",
       "\n",
       "    .dataframe thead th {\n",
       "        text-align: right;\n",
       "    }\n",
       "</style>\n",
       "<table border=\"1\" class=\"dataframe\">\n",
       "  <thead>\n",
       "    <tr style=\"text-align: right;\">\n",
       "      <th></th>\n",
       "      <th>customerNumber</th>\n",
       "      <th>checkNumber</th>\n",
       "      <th>paymentDate</th>\n",
       "      <th>amount</th>\n",
       "    </tr>\n",
       "  </thead>\n",
       "  <tbody>\n",
       "    <tr>\n",
       "      <th>0</th>\n",
       "      <td>103</td>\n",
       "      <td>HQ336336</td>\n",
       "      <td>2004-10-19</td>\n",
       "      <td>6066.78</td>\n",
       "    </tr>\n",
       "    <tr>\n",
       "      <th>1</th>\n",
       "      <td>103</td>\n",
       "      <td>JM555205</td>\n",
       "      <td>2003-06-05</td>\n",
       "      <td>14571.44</td>\n",
       "    </tr>\n",
       "    <tr>\n",
       "      <th>2</th>\n",
       "      <td>103</td>\n",
       "      <td>OM314933</td>\n",
       "      <td>2004-12-18</td>\n",
       "      <td>1676.14</td>\n",
       "    </tr>\n",
       "    <tr>\n",
       "      <th>3</th>\n",
       "      <td>112</td>\n",
       "      <td>BO864823</td>\n",
       "      <td>2004-12-17</td>\n",
       "      <td>14191.12</td>\n",
       "    </tr>\n",
       "    <tr>\n",
       "      <th>4</th>\n",
       "      <td>112</td>\n",
       "      <td>HQ55022</td>\n",
       "      <td>2003-06-06</td>\n",
       "      <td>32641.98</td>\n",
       "    </tr>\n",
       "    <tr>\n",
       "      <th>...</th>\n",
       "      <td>...</td>\n",
       "      <td>...</td>\n",
       "      <td>...</td>\n",
       "      <td>...</td>\n",
       "    </tr>\n",
       "    <tr>\n",
       "      <th>254</th>\n",
       "      <td>495</td>\n",
       "      <td>BH167026</td>\n",
       "      <td>2003-12-26</td>\n",
       "      <td>59265.14</td>\n",
       "    </tr>\n",
       "    <tr>\n",
       "      <th>255</th>\n",
       "      <td>495</td>\n",
       "      <td>FN155234</td>\n",
       "      <td>2004-05-14</td>\n",
       "      <td>6276.60</td>\n",
       "    </tr>\n",
       "    <tr>\n",
       "      <th>256</th>\n",
       "      <td>496</td>\n",
       "      <td>EU531600</td>\n",
       "      <td>2005-05-25</td>\n",
       "      <td>30253.75</td>\n",
       "    </tr>\n",
       "    <tr>\n",
       "      <th>257</th>\n",
       "      <td>496</td>\n",
       "      <td>MB342426</td>\n",
       "      <td>2003-07-16</td>\n",
       "      <td>32077.44</td>\n",
       "    </tr>\n",
       "    <tr>\n",
       "      <th>258</th>\n",
       "      <td>496</td>\n",
       "      <td>MN89921</td>\n",
       "      <td>2004-12-31</td>\n",
       "      <td>52166.00</td>\n",
       "    </tr>\n",
       "  </tbody>\n",
       "</table>\n",
       "<p>259 rows × 4 columns</p>\n",
       "</div>"
      ],
      "text/plain": [
       "     customerNumber checkNumber paymentDate    amount\n",
       "0               103    HQ336336  2004-10-19   6066.78\n",
       "1               103    JM555205  2003-06-05  14571.44\n",
       "2               103    OM314933  2004-12-18   1676.14\n",
       "3               112    BO864823  2004-12-17  14191.12\n",
       "4               112     HQ55022  2003-06-06  32641.98\n",
       "..              ...         ...         ...       ...\n",
       "254             495    BH167026  2003-12-26  59265.14\n",
       "255             495    FN155234  2004-05-14   6276.60\n",
       "256             496    EU531600  2005-05-25  30253.75\n",
       "257             496    MB342426  2003-07-16  32077.44\n",
       "258             496     MN89921  2004-12-31  52166.00\n",
       "\n",
       "[259 rows x 4 columns]"
      ]
     },
     "execution_count": 37,
     "metadata": {},
     "output_type": "execute_result"
    }
   ],
   "source": [
    "try:\n",
    "    mydb = connection.connect(host=\"db4free.net\", database = 'dbtraining2',user=\"dbuseracc2\", passwd=\"Pa55w0rd\",use_pure=True)\n",
    "    query = \"Select * from payments;\"\n",
    "    pay_df = pd.read_sql(query,mydb)\n",
    "    mydb.close() #close the connection\n",
    "except Exception as e:\n",
    "    mydb.close()\n",
    "    print(str(e))\n",
    "\n",
    "pay_df"
   ]
  },
  {
   "cell_type": "code",
   "execution_count": 39,
   "id": "801f17f7",
   "metadata": {},
   "outputs": [
    {
     "data": {
      "text/html": [
       "<div>\n",
       "<style scoped>\n",
       "    .dataframe tbody tr th:only-of-type {\n",
       "        vertical-align: middle;\n",
       "    }\n",
       "\n",
       "    .dataframe tbody tr th {\n",
       "        vertical-align: top;\n",
       "    }\n",
       "\n",
       "    .dataframe thead th {\n",
       "        text-align: right;\n",
       "    }\n",
       "</style>\n",
       "<table border=\"1\" class=\"dataframe\">\n",
       "  <thead>\n",
       "    <tr style=\"text-align: right;\">\n",
       "      <th></th>\n",
       "      <th>customerNumber</th>\n",
       "      <th>amount</th>\n",
       "    </tr>\n",
       "  </thead>\n",
       "  <tbody>\n",
       "    <tr>\n",
       "      <th>count</th>\n",
       "      <td>259.000000</td>\n",
       "      <td>259.000000</td>\n",
       "    </tr>\n",
       "    <tr>\n",
       "      <th>mean</th>\n",
       "      <td>270.779923</td>\n",
       "      <td>32419.803707</td>\n",
       "    </tr>\n",
       "    <tr>\n",
       "      <th>std</th>\n",
       "      <td>120.336164</td>\n",
       "      <td>20633.076867</td>\n",
       "    </tr>\n",
       "    <tr>\n",
       "      <th>min</th>\n",
       "      <td>103.000000</td>\n",
       "      <td>1128.200000</td>\n",
       "    </tr>\n",
       "    <tr>\n",
       "      <th>25%</th>\n",
       "      <td>161.000000</td>\n",
       "      <td>17195.910000</td>\n",
       "    </tr>\n",
       "    <tr>\n",
       "      <th>50%</th>\n",
       "      <td>250.000000</td>\n",
       "      <td>32077.440000</td>\n",
       "    </tr>\n",
       "    <tr>\n",
       "      <th>75%</th>\n",
       "      <td>359.500000</td>\n",
       "      <td>44989.560000</td>\n",
       "    </tr>\n",
       "    <tr>\n",
       "      <th>max</th>\n",
       "      <td>496.000000</td>\n",
       "      <td>120166.580000</td>\n",
       "    </tr>\n",
       "  </tbody>\n",
       "</table>\n",
       "</div>"
      ],
      "text/plain": [
       "       customerNumber         amount\n",
       "count      259.000000     259.000000\n",
       "mean       270.779923   32419.803707\n",
       "std        120.336164   20633.076867\n",
       "min        103.000000    1128.200000\n",
       "25%        161.000000   17195.910000\n",
       "50%        250.000000   32077.440000\n",
       "75%        359.500000   44989.560000\n",
       "max        496.000000  120166.580000"
      ]
     },
     "execution_count": 39,
     "metadata": {},
     "output_type": "execute_result"
    }
   ],
   "source": [
    "pay_df.describe()"
   ]
  },
  {
   "cell_type": "code",
   "execution_count": 41,
   "id": "f8919dec",
   "metadata": {},
   "outputs": [
    {
     "data": {
      "text/plain": [
       "(259, 4)"
      ]
     },
     "execution_count": 41,
     "metadata": {},
     "output_type": "execute_result"
    }
   ],
   "source": [
    "pay_df.shape"
   ]
  },
  {
   "cell_type": "code",
   "execution_count": 64,
   "id": "25d4fd0c",
   "metadata": {},
   "outputs": [
    {
     "name": "stdout",
     "output_type": "stream",
     "text": [
      "(0, 4)\n"
     ]
    }
   ],
   "source": [
    "print (pay_df[pay_df.duplicated()].shape)"
   ]
  }
 ],
 "metadata": {
  "kernelspec": {
   "display_name": "Python 3 (ipykernel)",
   "language": "python",
   "name": "python3"
  },
  "language_info": {
   "codemirror_mode": {
    "name": "ipython",
    "version": 3
   },
   "file_extension": ".py",
   "mimetype": "text/x-python",
   "name": "python",
   "nbconvert_exporter": "python",
   "pygments_lexer": "ipython3",
   "version": "3.9.13"
  }
 },
 "nbformat": 4,
 "nbformat_minor": 5
}
