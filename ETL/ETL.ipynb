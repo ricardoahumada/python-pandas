{
 "cells": [
  {
   "cell_type": "code",
   "execution_count": null,
   "id": "d4e99ebd",
   "metadata": {},
   "outputs": [],
   "source": [
    "import pandas as pd\n",
    "import sqlite3 "
   ]
  },
  {
   "cell_type": "markdown",
   "id": "50a7e74b",
   "metadata": {},
   "source": [
    "## Function definitions"
   ]
  },
  {
   "cell_type": "code",
   "execution_count": null,
   "id": "2de55a53",
   "metadata": {},
   "outputs": [],
   "source": [
    "def get_data_from_api():\n",
    "    print('Reading...')\n",
    "    dfj = pd.read_json('api/data.json')\n",
    "    return dfj"
   ]
  },
  {
   "cell_type": "code",
   "execution_count": null,
   "id": "2a8d14b8",
   "metadata": {},
   "outputs": [],
   "source": [
    "def write_data(data):\n",
    "    print('Writing...')\n",
    "    print(data)\n",
    "    data.to_csv('csv/data.csv')"
   ]
  },
  {
   "cell_type": "code",
   "execution_count": 1,
   "id": "7166d46d",
   "metadata": {},
   "outputs": [],
   "source": [
    "def agg_data():\n",
    "    df = pd.read_csv('csv/data.csv')\n",
    "    print('Aggregating...')\n",
    "    new_df = df\n",
    "    print(new_df)\n",
    "    return new_df"
   ]
  },
  {
   "cell_type": "code",
   "execution_count": null,
   "id": "c644853c",
   "metadata": {},
   "outputs": [],
   "source": [
    "def load_data(pdf):\n",
    "    con = sqlite3.connect(\"db/database.db\")\n",
    "    print('Loading...')\n",
    "    print(pdf)\n",
    "    pdf.to_sql(name='agg_data', con=con, if_exists=\"replace\")"
   ]
  },
  {
   "cell_type": "markdown",
   "id": "f20903df",
   "metadata": {},
   "source": [
    "## ETL Steps"
   ]
  },
  {
   "cell_type": "code",
   "execution_count": null,
   "id": "d6ad581b",
   "metadata": {},
   "outputs": [],
   "source": [
    "# Pull Data from API\n",
    "data = get_data_from_api()\n",
    "data"
   ]
  },
  {
   "cell_type": "code",
   "execution_count": null,
   "id": "fed049a9",
   "metadata": {},
   "outputs": [],
   "source": [
    "## Output Data to CSV\n",
    "write_data(data)"
   ]
  },
  {
   "cell_type": "code",
   "execution_count": null,
   "id": "25d0f835",
   "metadata": {},
   "outputs": [],
   "source": [
    "## Transformation to Aggregate Data\n",
    "proc_data = agg_data()"
   ]
  },
  {
   "cell_type": "code",
   "execution_count": null,
   "id": "8da3a507",
   "metadata": {},
   "outputs": [],
   "source": [
    "## Load Data to DB\n",
    "load_data(proc_data)"
   ]
  }
 ],
 "metadata": {
  "kernelspec": {
   "display_name": "Python 3 (ipykernel)",
   "language": "python",
   "name": "python3"
  },
  "language_info": {
   "codemirror_mode": {
    "name": "ipython",
    "version": 3
   },
   "file_extension": ".py",
   "mimetype": "text/x-python",
   "name": "python",
   "nbconvert_exporter": "python",
   "pygments_lexer": "ipython3",
   "version": "3.9.13"
  }
 },
 "nbformat": 4,
 "nbformat_minor": 5
}
