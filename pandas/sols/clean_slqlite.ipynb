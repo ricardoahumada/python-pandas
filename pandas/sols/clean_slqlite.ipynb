{
 "cells": [
  {
   "cell_type": "code",
   "execution_count": 7,
   "metadata": {},
   "outputs": [],
   "source": [
    "import sqlite3\n",
    "con_sqlt = sqlite3.connect(\"../../data/database.db\")"
   ]
  },
  {
   "cell_type": "code",
   "execution_count": 15,
   "metadata": {},
   "outputs": [
    {
     "name": "stdout",
     "output_type": "stream",
     "text": [
      "[('movies',)]\n"
     ]
    }
   ],
   "source": [
    "def show_tables():\n",
    "    sql_query = \"\"\"SELECT name FROM sqlite_master  WHERE type='table';\"\"\"\n",
    "\n",
    "    cursor = con_sqlt.cursor()\n",
    "    cursor.execute(sql_query)\n",
    "    print(cursor.fetchall())\n",
    "\n",
    "    cursor.close()\n",
    "\n",
    "show_tables()"
   ]
  },
  {
   "cell_type": "code",
   "execution_count": 11,
   "metadata": {},
   "outputs": [],
   "source": [
    "def delete_table(name):\n",
    "    sql_delete = \"DROP TABLE {0}\".format(name)\n",
    "\n",
    "    cursor = con_sqlt.cursor()\n",
    "    cursor.execute(sql_delete)\n",
    "    con_sqlt.commit()\n",
    "    cursor.close()"
   ]
  },
  {
   "cell_type": "code",
   "execution_count": 16,
   "metadata": {},
   "outputs": [
    {
     "ename": "OperationalError",
     "evalue": "no such table: movies3",
     "output_type": "error",
     "traceback": [
      "\u001b[1;31m---------------------------------------------------------------------------\u001b[0m",
      "\u001b[1;31mOperationalError\u001b[0m                          Traceback (most recent call last)",
      "Cell \u001b[1;32mIn[16], line 4\u001b[0m\n\u001b[0;32m      1\u001b[0m tables_to_delete \u001b[38;5;241m=\u001b[39m [\u001b[38;5;124m'\u001b[39m\u001b[38;5;124mmovies3\u001b[39m\u001b[38;5;124m'\u001b[39m]\n\u001b[0;32m      3\u001b[0m \u001b[38;5;28;01mfor\u001b[39;00m aT \u001b[38;5;129;01min\u001b[39;00m tables_to_delete:\n\u001b[1;32m----> 4\u001b[0m     \u001b[43mdelete_table\u001b[49m\u001b[43m(\u001b[49m\u001b[43maT\u001b[49m\u001b[43m)\u001b[49m\n",
      "Cell \u001b[1;32mIn[11], line 5\u001b[0m, in \u001b[0;36mdelete_table\u001b[1;34m(name)\u001b[0m\n\u001b[0;32m      2\u001b[0m sql_delete \u001b[38;5;241m=\u001b[39m \u001b[38;5;124m\"\u001b[39m\u001b[38;5;124mDROP TABLE \u001b[39m\u001b[38;5;132;01m{0}\u001b[39;00m\u001b[38;5;124m\"\u001b[39m\u001b[38;5;241m.\u001b[39mformat(name)\n\u001b[0;32m      4\u001b[0m cursor \u001b[38;5;241m=\u001b[39m con_sqlt\u001b[38;5;241m.\u001b[39mcursor()\n\u001b[1;32m----> 5\u001b[0m \u001b[43mcursor\u001b[49m\u001b[38;5;241;43m.\u001b[39;49m\u001b[43mexecute\u001b[49m\u001b[43m(\u001b[49m\u001b[43msql_delete\u001b[49m\u001b[43m)\u001b[49m\n\u001b[0;32m      6\u001b[0m con_sqlt\u001b[38;5;241m.\u001b[39mcommit()\n\u001b[0;32m      7\u001b[0m cursor\u001b[38;5;241m.\u001b[39mclose()\n",
      "\u001b[1;31mOperationalError\u001b[0m: no such table: movies3"
     ]
    }
   ],
   "source": [
    "tables_to_delete = ['movies3']\n",
    "\n",
    "for aT in tables_to_delete:\n",
    "    delete_table(aT)"
   ]
  },
  {
   "cell_type": "code",
   "execution_count": 17,
   "metadata": {},
   "outputs": [
    {
     "name": "stdout",
     "output_type": "stream",
     "text": [
      "[('movies',)]\n"
     ]
    }
   ],
   "source": [
    "show_tables()"
   ]
  },
  {
   "cell_type": "code",
   "execution_count": 5,
   "metadata": {},
   "outputs": [],
   "source": [
    "con_sqlt.close()"
   ]
  }
 ],
 "metadata": {
  "kernelspec": {
   "display_name": "Python 3",
   "language": "python",
   "name": "python3"
  },
  "language_info": {
   "codemirror_mode": {
    "name": "ipython",
    "version": 3
   },
   "file_extension": ".py",
   "mimetype": "text/x-python",
   "name": "python",
   "nbconvert_exporter": "python",
   "pygments_lexer": "ipython3",
   "version": "3.12.4"
  }
 },
 "nbformat": 4,
 "nbformat_minor": 2
}
