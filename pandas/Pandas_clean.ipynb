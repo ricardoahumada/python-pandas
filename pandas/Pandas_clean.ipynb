{
 "cells": [
  {
   "cell_type": "markdown",
   "metadata": {
    "id": "WZXfQwKWD6mY"
   },
   "source": [
    "# Basics"
   ]
  },
  {
   "cell_type": "code",
   "execution_count": null,
   "metadata": {
    "id": "HY114DWe4zb9"
   },
   "outputs": [],
   "source": [
    "# pandas is a fast, powerful, flexible and easy to use open source data analysis and manipulation tool,\n",
    "# built on top of the Python programming language.\n",
    "# https://pandas.pydata.org/docs/user_guide/index.html\n",
    "\n",
    "import pandas as pd"
   ]
  },
  {
   "cell_type": "markdown",
   "metadata": {
    "id": "8NY8U-QmCQc-"
   },
   "source": [
    "### Series y datasets"
   ]
  },
  {
   "cell_type": "code",
   "execution_count": null,
   "metadata": {
    "id": "YHscmKbp4_Cj"
   },
   "outputs": [],
   "source": [
    "# definir una serie\n",
    "serie=pd.Series([1,2,3,4])"
   ]
  },
  {
   "cell_type": "code",
   "execution_count": null,
   "metadata": {
    "colab": {
     "base_uri": "https://localhost:8080/"
    },
    "id": "FfF0RNNE5GDo",
    "outputId": "f857397e-80c4-4ec0-fa7a-58846834c854"
   },
   "outputs": [],
   "source": [
    "serie"
   ]
  },
  {
   "cell_type": "code",
   "execution_count": null,
   "metadata": {
    "id": "lgmQH55k5R1A"
   },
   "outputs": [],
   "source": [
    "# nombre de la serie\n",
    "serie.name='Serie 1'"
   ]
  },
  {
   "cell_type": "code",
   "execution_count": null,
   "metadata": {
    "colab": {
     "base_uri": "https://localhost:8080/"
    },
    "id": "whj5IAEP5W0j",
    "outputId": "751ae13c-bc17-4112-b48c-c19b8d3b4d89"
   },
   "outputs": [],
   "source": [
    "serie"
   ]
  },
  {
   "cell_type": "code",
   "execution_count": null,
   "metadata": {
    "id": "oeJfdzfP5YcU"
   },
   "outputs": [],
   "source": [
    "# definir un dataframe\n",
    "df=pd.DataFrame({'col1':[1,2,3,4],'col2':['a','b','c','d']})"
   ]
  },
  {
   "cell_type": "code",
   "execution_count": null,
   "metadata": {
    "colab": {
     "base_uri": "https://localhost:8080/",
     "height": 175
    },
    "id": "7e3ptr7E5gng",
    "outputId": "ee553625-5720-4768-b465-b33c6bbed88e"
   },
   "outputs": [],
   "source": [
    "df"
   ]
  },
  {
   "cell_type": "markdown",
   "metadata": {
    "id": "oRoT2WfQCaG4"
   },
   "source": [
    "### Dimensionalidad"
   ]
  },
  {
   "cell_type": "code",
   "execution_count": null,
   "metadata": {
    "colab": {
     "base_uri": "https://localhost:8080/"
    },
    "id": "SYIDt2RL5lrK",
    "outputId": "e0fc3cb2-284b-421d-b512-2b5b7a6d87b5"
   },
   "outputs": [],
   "source": [
    "# dimensiones\n",
    "df.shape"
   ]
  },
  {
   "cell_type": "markdown",
   "metadata": {
    "id": "g8GnhvenCt4l"
   },
   "source": [
    "### Leer un fichero csv"
   ]
  },
  {
   "cell_type": "code",
   "execution_count": null,
   "metadata": {
    "id": "Inrsmyyg5ymy"
   },
   "outputs": [],
   "source": [
    "# leer csv\n",
    "df = pd.read_csv('data/iris.data', header=None)"
   ]
  },
  {
   "cell_type": "code",
   "execution_count": null,
   "metadata": {
    "colab": {
     "base_uri": "https://localhost:8080/",
     "height": 424
    },
    "id": "du9KSGUC6zHW",
    "outputId": "03793d36-65f9-494e-bd3b-eb772889b5b0"
   },
   "outputs": [],
   "source": [
    "df"
   ]
  },
  {
   "cell_type": "markdown",
   "metadata": {
    "id": "L8L_Q-7LCyqi"
   },
   "source": [
    "### Revisar los datos"
   ]
  },
  {
   "cell_type": "code",
   "execution_count": null,
   "metadata": {
    "colab": {
     "base_uri": "https://localhost:8080/",
     "height": 206
    },
    "id": "SV2Tf5ZT67Gk",
    "outputId": "8e69d351-a9ad-44ba-f242-9368aacc45e3"
   },
   "outputs": [],
   "source": [
    "# head\n",
    "df.head(2)"
   ]
  },
  {
   "cell_type": "code",
   "execution_count": null,
   "metadata": {
    "colab": {
     "base_uri": "https://localhost:8080/",
     "height": 206
    },
    "id": "raV9sjNu7Aw-",
    "outputId": "37f66eb1-1273-4535-9737-9272ec3a0f20"
   },
   "outputs": [],
   "source": [
    "# tail\n",
    "df.tail(10)"
   ]
  },
  {
   "cell_type": "markdown",
   "metadata": {
    "id": "KTY4tQ-lC6cv"
   },
   "source": [
    "### Nombre de columnas"
   ]
  },
  {
   "cell_type": "code",
   "execution_count": null,
   "metadata": {
    "id": "um_vrZ2j7FQL"
   },
   "outputs": [],
   "source": [
    "nombres = ['long_sepalo','ancho_sepalo','long_petalo','ancho_petalo','clase']"
   ]
  },
  {
   "cell_type": "code",
   "execution_count": null,
   "metadata": {
    "colab": {
     "base_uri": "https://localhost:8080/"
    },
    "id": "VFCRamVH7Q69",
    "outputId": "e52ca650-e0cb-4b0b-840a-5218f48dc47d",
    "scrolled": true
   },
   "outputs": [],
   "source": [
    "nombres"
   ]
  },
  {
   "cell_type": "code",
   "execution_count": null,
   "metadata": {
    "id": "7OuplzK57YL1"
   },
   "outputs": [],
   "source": [
    "# asignamos\n",
    "df.columns=nombres"
   ]
  },
  {
   "cell_type": "code",
   "execution_count": null,
   "metadata": {
    "colab": {
     "base_uri": "https://localhost:8080/"
    },
    "id": "LOM_Itm571y8",
    "outputId": "ce4e815a-4d14-4aa2-ec34-8b7e917cea9f"
   },
   "outputs": [],
   "source": [
    "# columnas\n",
    "df"
   ]
  },
  {
   "cell_type": "code",
   "execution_count": null,
   "metadata": {
    "colab": {
     "base_uri": "https://localhost:8080/"
    },
    "id": "onMO-hoP75IY",
    "outputId": "656e1414-a279-4078-9996-78eaa17f6b3f"
   },
   "outputs": [],
   "source": [
    "# índices\n",
    "df.index"
   ]
  },
  {
   "cell_type": "code",
   "execution_count": null,
   "metadata": {
    "colab": {
     "base_uri": "https://localhost:8080/"
    },
    "id": "t_Y1ElSr85fD",
    "outputId": "42ce6835-0de8-4f0f-c01f-7cb4921b5173"
   },
   "outputs": [],
   "source": [
    "df.shape"
   ]
  },
  {
   "cell_type": "markdown",
   "metadata": {
    "id": "-4JFuxQSDAjz"
   },
   "source": [
    "### Estadísticas básicas"
   ]
  },
  {
   "cell_type": "code",
   "execution_count": null,
   "metadata": {
    "colab": {
     "base_uri": "https://localhost:8080/",
     "height": 300
    },
    "id": "CBC3aSIb88N-",
    "outputId": "9cb2057e-e436-43a2-a1c4-84eb77a99a8b"
   },
   "outputs": [],
   "source": [
    "df.describe()"
   ]
  },
  {
   "cell_type": "markdown",
   "metadata": {
    "id": "Ec2sL9TeDF4N"
   },
   "source": [
    "### Conteo de valores"
   ]
  },
  {
   "cell_type": "code",
   "execution_count": null,
   "metadata": {
    "colab": {
     "base_uri": "https://localhost:8080/"
    },
    "id": "Kij1E_C79KG-",
    "outputId": "e949d04c-cb3a-44a7-91fb-86eefe12e941"
   },
   "outputs": [],
   "source": [
    "df['clase'].value_counts()"
   ]
  },
  {
   "cell_type": "code",
   "execution_count": null,
   "metadata": {
    "colab": {
     "base_uri": "https://localhost:8080/"
    },
    "id": "D6j1t9CS9atW",
    "outputId": "a8d6be3c-7a1d-4d28-a59d-5c494f987c12"
   },
   "outputs": [],
   "source": [
    "# uso de memoria\n",
    "df.memory_usage()"
   ]
  },
  {
   "cell_type": "markdown",
   "metadata": {
    "id": "3pFzPGnTDMEN"
   },
   "source": [
    "#### Transposición"
   ]
  },
  {
   "cell_type": "code",
   "execution_count": null,
   "metadata": {
    "colab": {
     "base_uri": "https://localhost:8080/",
     "height": 317
    },
    "id": "8bzA-Dix9jqg",
    "outputId": "a20546e3-cf1d-4244-de05-61f0f82100fb"
   },
   "outputs": [],
   "source": [
    "df.T"
   ]
  },
  {
   "cell_type": "markdown",
   "metadata": {
    "id": "ATFdphfSDPq0"
   },
   "source": [
    "### Ordenamiento"
   ]
  },
  {
   "cell_type": "code",
   "execution_count": null,
   "metadata": {
    "colab": {
     "base_uri": "https://localhost:8080/",
     "height": 424
    },
    "id": "Zu_NnS0K9pWa",
    "outputId": "9db185fb-fbed-4e17-a86a-361a84e4f929"
   },
   "outputs": [],
   "source": [
    "# por ancho de sepalo\n",
    "df.sort_values(['ancho_petalo','clase'],ascending=True)"
   ]
  },
  {
   "cell_type": "markdown",
   "metadata": {
    "id": "XAxuAOZfDTcV"
   },
   "source": [
    "### Filtrado"
   ]
  },
  {
   "cell_type": "code",
   "execution_count": null,
   "metadata": {},
   "outputs": [],
   "source": [
    "df[['clase','long_sepalo']]"
   ]
  },
  {
   "cell_type": "code",
   "execution_count": null,
   "metadata": {},
   "outputs": [],
   "source": [
    "df[30:]"
   ]
  },
  {
   "cell_type": "code",
   "execution_count": null,
   "metadata": {},
   "outputs": [],
   "source": [
    "df.iloc[[1,3,5] , 2:]"
   ]
  },
  {
   "cell_type": "code",
   "execution_count": null,
   "metadata": {},
   "outputs": [],
   "source": [
    "df.loc[[1,5],['clase']]"
   ]
  },
  {
   "cell_type": "code",
   "execution_count": null,
   "metadata": {},
   "outputs": [],
   "source": [
    "df[df['clase']=='Iris-virginica'].describe()"
   ]
  },
  {
   "cell_type": "code",
   "execution_count": null,
   "metadata": {},
   "outputs": [],
   "source": [
    "df[(df['long_sepalo']>5) & (df['long_petalo']<3)]"
   ]
  },
  {
   "cell_type": "markdown",
   "metadata": {
    "id": "OmAKdA4VDiMm"
   },
   "source": [
    "### Operaciones con columnas"
   ]
  },
  {
   "cell_type": "code",
   "execution_count": null,
   "metadata": {
    "colab": {
     "base_uri": "https://localhost:8080/"
    },
    "id": "aZ7x3J4w_FSE",
    "outputId": "c7426fab-cf57-4846-e2ae-a274c9d77c08"
   },
   "outputs": [],
   "source": [
    "df['long_sepalo']-df['long_petalo']"
   ]
  },
  {
   "cell_type": "markdown",
   "metadata": {
    "id": "ds6uY3GRDmir"
   },
   "source": [
    "### Valores faltantes"
   ]
  },
  {
   "cell_type": "code",
   "execution_count": null,
   "metadata": {},
   "outputs": [],
   "source": [
    "df.isna()"
   ]
  },
  {
   "cell_type": "code",
   "execution_count": null,
   "metadata": {},
   "outputs": [],
   "source": [
    "df.isna().sum().sum()"
   ]
  },
  {
   "cell_type": "code",
   "execution_count": null,
   "metadata": {
    "id": "46WA0p9TALSK"
   },
   "outputs": [],
   "source": [
    "# NumPy offers comprehensive mathematical functions, random number generators, \n",
    "# linear algebra routines, Fourier transforms, and more. \n",
    "# https://numpy.org/doc/stable/\n",
    "\n",
    "import numpy as np"
   ]
  },
  {
   "cell_type": "code",
   "execution_count": null,
   "metadata": {
    "colab": {
     "base_uri": "https://localhost:8080/"
    },
    "id": "kjb3CnryAXjP",
    "outputId": "377570a3-4624-44df-bb9c-06fe7b97c7d6"
   },
   "outputs": [],
   "source": [
    "df['long_sepalo'][:2] = np.nan"
   ]
  },
  {
   "cell_type": "code",
   "execution_count": null,
   "metadata": {
    "colab": {
     "base_uri": "https://localhost:8080/",
     "height": 424
    },
    "id": "Q-89eUNGAg-n",
    "outputId": "50fff240-72e4-43a4-f748-0b5855a16ea6"
   },
   "outputs": [],
   "source": [
    "df.head()"
   ]
  },
  {
   "cell_type": "code",
   "execution_count": null,
   "metadata": {
    "colab": {
     "base_uri": "https://localhost:8080/"
    },
    "id": "WsYrniqIBULD",
    "outputId": "71ea7af2-1fc9-4d09-c36f-e7c32b692d7c"
   },
   "outputs": [],
   "source": [
    "df.isna().sum()"
   ]
  },
  {
   "cell_type": "markdown",
   "metadata": {
    "id": "YSb6KXmKDswZ"
   },
   "source": [
    "### Completar los valores faltantes"
   ]
  },
  {
   "cell_type": "code",
   "execution_count": null,
   "metadata": {
    "colab": {
     "base_uri": "https://localhost:8080/"
    },
    "id": "zC7mZhwPBbYm",
    "outputId": "bc99672a-1369-493e-c307-e1413954aafd"
   },
   "outputs": [],
   "source": [
    "# de long_petalo\n",
    "df['long_sepalo'].fillna( df['long_sepalo'].mean() )"
   ]
  },
  {
   "cell_type": "code",
   "execution_count": null,
   "metadata": {
    "colab": {
     "base_uri": "https://localhost:8080/",
     "height": 424
    },
    "id": "2oJxFGf_BlAK",
    "outputId": "7359fddf-be78-4818-daa3-ba5aa57c17f2"
   },
   "outputs": [],
   "source": []
  },
  {
   "cell_type": "markdown",
   "metadata": {
    "id": "TG7QormkCHwq"
   },
   "source": [
    "# Estadísticas básicas"
   ]
  },
  {
   "cell_type": "code",
   "execution_count": null,
   "metadata": {},
   "outputs": [],
   "source": [
    "df.median()"
   ]
  },
  {
   "cell_type": "markdown",
   "metadata": {
    "id": "MWHgxCh7FB5_"
   },
   "source": [
    "### Lambdas"
   ]
  },
  {
   "cell_type": "code",
   "execution_count": null,
   "metadata": {
    "colab": {
     "base_uri": "https://localhost:8080/"
    },
    "id": "ceyhNSCVEOUZ",
    "outputId": "be6e779a-6355-4efb-ed87-3f55c8ba036d"
   },
   "outputs": [],
   "source": [
    "df['long_sepalo'].apply(lambda x: x**2)"
   ]
  },
  {
   "cell_type": "markdown",
   "metadata": {
    "id": "opccvkjrE-x2"
   },
   "source": [
    "### Grouping"
   ]
  },
  {
   "cell_type": "code",
   "execution_count": null,
   "metadata": {
    "colab": {
     "base_uri": "https://localhost:8080/"
    },
    "id": "P0KjBV8vEjX9",
    "outputId": "c4ff3a1b-354a-4d65-971d-452bc7fd957d"
   },
   "outputs": [],
   "source": [
    "# grouping la media\n",
    "df_group = df.groupby('clase')['ancho_sepalo'].mean()\n",
    "df_group.name='media_ancho_sepalo'\n",
    "df_group"
   ]
  },
  {
   "cell_type": "code",
   "execution_count": null,
   "metadata": {
    "id": "I2VDuVsqfG9w"
   },
   "outputs": [],
   "source": [
    "# Unir columnas de otro DataFrame (inner).\n",
    "df_join = df.join(df_group, on=['clase'],how='inner')\n",
    "df_join"
   ]
  },
  {
   "cell_type": "code",
   "execution_count": null,
   "metadata": {},
   "outputs": [],
   "source": [
    "# pivot_table() pivota un DataFrame especificando valores, índice and columnas\n",
    "pv_tb=pd.pivot_table(df,values='long_petalo', index=['ancho_sepalo'],columns=['ancho_petalo'])\n",
    "pv_tb"
   ]
  },
  {
   "cell_type": "code",
   "execution_count": null,
   "metadata": {},
   "outputs": [],
   "source": []
  },
  {
   "cell_type": "markdown",
   "metadata": {},
   "source": [
    "# ML - Entendiendo los datos con estadísticas"
   ]
  },
  {
   "cell_type": "markdown",
   "metadata": {},
   "source": [
    "- Observar los datos en bruto `data.head ()`\n",
    "- Comprobación de las dimensiones de los datos con `data.shape`\n",
    "- Obtener el tipo de datos de cada atributo con `data.dtypes`\n",
    "- Resumen estadístico de datos con `data.describe()`\n",
    "- Revisar la distribución de clases con `data.groupby()`\n",
    "- Revisión de la correlación entre atributos con `data.corr(method='pearson')`\n",
    "- Revisar el sesgo de la distribución de atributos con `data.skew()`"
   ]
  },
  {
   "cell_type": "markdown",
   "metadata": {
    "id": "t5uFJkDahCop"
   },
   "source": [
    "# Visualizar los datos para comprenderlos"
   ]
  },
  {
   "cell_type": "code",
   "execution_count": null,
   "metadata": {
    "id": "kNgndXR-g6Gu"
   },
   "outputs": [],
   "source": [
    "# Matplotlib is a comprehensive library for creating static, animated, and interactive visualizations in Python.\n",
    "\n",
    "import matplotlib as plt"
   ]
  },
  {
   "cell_type": "code",
   "execution_count": null,
   "metadata": {
    "colab": {
     "base_uri": "https://localhost:8080/",
     "height": 283
    },
    "id": "GH5EzaxPhBjZ",
    "outputId": "c4f1b62b-cfe1-4b3f-9410-49b792c8dd8b"
   },
   "outputs": [],
   "source": [
    "# datos individuales\n",
    "df_join['long_sepalo'].plot()"
   ]
  },
  {
   "cell_type": "code",
   "execution_count": null,
   "metadata": {
    "colab": {
     "base_uri": "https://localhost:8080/",
     "height": 283
    },
    "id": "stJaZbgbhSGY",
    "outputId": "46f62049-b942-4dba-cc59-399266bfaca6"
   },
   "outputs": [],
   "source": []
  },
  {
   "cell_type": "code",
   "execution_count": null,
   "metadata": {
    "colab": {
     "base_uri": "https://localhost:8080/",
     "height": 283
    },
    "id": "ngatE76MhauF",
    "outputId": "16fa5e42-a6e3-4f92-d279-19f32745e374"
   },
   "outputs": [],
   "source": [
    "# datos conjuntos"
   ]
  },
  {
   "cell_type": "code",
   "execution_count": null,
   "metadata": {
    "colab": {
     "base_uri": "https://localhost:8080/",
     "height": 446
    },
    "id": "9HtDAaPihnJ4",
    "outputId": "10048a84-2a7a-4b74-f09f-51d294bee6ac"
   },
   "outputs": [],
   "source": [
    "# tamaño de la imagen\n",
    "df_join['long_sepalo'].plot(figsize=[12,7])"
   ]
  },
  {
   "cell_type": "code",
   "execution_count": null,
   "metadata": {
    "colab": {
     "base_uri": "https://localhost:8080/",
     "height": 292
    },
    "id": "uHn1rKvchy4a",
    "outputId": "860d20f5-4a68-49f6-9ea1-c4e6194bd1e6"
   },
   "outputs": [],
   "source": [
    "# gráfico de barras\n",
    "df_join['long_sepalo'].plot(kind='bar')"
   ]
  },
  {
   "cell_type": "code",
   "execution_count": null,
   "metadata": {},
   "outputs": [],
   "source": []
  }
 ],
 "metadata": {
  "colab": {
   "collapsed_sections": [],
   "provenance": []
  },
  "kernelspec": {
   "display_name": "Python 3 (ipykernel)",
   "language": "python",
   "name": "python3"
  },
  "language_info": {
   "codemirror_mode": {
    "name": "ipython",
    "version": 3
   },
   "file_extension": ".py",
   "mimetype": "text/x-python",
   "name": "python",
   "nbconvert_exporter": "python",
   "pygments_lexer": "ipython3",
   "version": "3.9.13"
  }
 },
 "nbformat": 4,
 "nbformat_minor": 1
}
