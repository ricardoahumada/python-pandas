{
 "cells": [
  {
   "cell_type": "code",
   "execution_count": null,
   "id": "e86342fb",
   "metadata": {},
   "outputs": [],
   "source": [
    "import pandas as pd"
   ]
  },
  {
   "cell_type": "code",
   "execution_count": null,
   "id": "2d392006",
   "metadata": {},
   "outputs": [],
   "source": [
    "data = { 'apples':[3, 2, 0, 1] , 'oranges':[0, 3, 7, 2] }"
   ]
  },
  {
   "cell_type": "code",
   "execution_count": null,
   "id": "b9a02eb0",
   "metadata": {},
   "outputs": [],
   "source": [
    "data"
   ]
  },
  {
   "cell_type": "code",
   "execution_count": null,
   "id": "a8ab28b5",
   "metadata": {},
   "outputs": [],
   "source": [
    "df = pd.DataFrame(data)"
   ]
  },
  {
   "cell_type": "code",
   "execution_count": null,
   "id": "3efe2272",
   "metadata": {},
   "outputs": [],
   "source": [
    "df"
   ]
  },
  {
   "cell_type": "code",
   "execution_count": null,
   "id": "4c858a62",
   "metadata": {},
   "outputs": [],
   "source": [
    "df = pd.DataFrame(data, index=['Luis', 'Ana', 'Juana', 'Pedro'])"
   ]
  },
  {
   "cell_type": "code",
   "execution_count": null,
   "id": "af384e68",
   "metadata": {},
   "outputs": [],
   "source": [
    "df"
   ]
  },
  {
   "cell_type": "code",
   "execution_count": null,
   "id": "f854c4da",
   "metadata": {},
   "outputs": [],
   "source": [
    "df.loc['Ana']"
   ]
  },
  {
   "cell_type": "code",
   "execution_count": null,
   "id": "65a98f66",
   "metadata": {},
   "outputs": [],
   "source": [
    "data = {'col_1':[3, 2, 1, 0], 'col_2':['a','b','c','d']}\n",
    "pd.DataFrame.from_dict(data)"
   ]
  },
  {
   "cell_type": "code",
   "execution_count": null,
   "id": "e72f45e9",
   "metadata": {},
   "outputs": [],
   "source": [
    "data = {'row_1':[3, 2, 1, 0], 'row_2':['a','b','c','d']} \n",
    "pd.DataFrame.from_dict(data, orient='index')"
   ]
  },
  {
   "cell_type": "code",
   "execution_count": null,
   "id": "ffad4849",
   "metadata": {},
   "outputs": [],
   "source": [
    "data = {'row_1':[3, 2, 1, 0], 'row_2':['a','b','c','d']} \n",
    "pd.DataFrame.from_dict(data, orient  = 'index', columns = ['A','B','C','D'])"
   ]
  },
  {
   "cell_type": "code",
   "execution_count": null,
   "id": "b0378df4",
   "metadata": {},
   "outputs": [],
   "source": [
    "dff = pd.read_csv('data/frutas.csv', index_col=0)"
   ]
  },
  {
   "cell_type": "code",
   "execution_count": null,
   "id": "2b50cdb0",
   "metadata": {},
   "outputs": [],
   "source": [
    "dff"
   ]
  },
  {
   "cell_type": "code",
   "execution_count": null,
   "id": "12c4b6cd",
   "metadata": {},
   "outputs": [],
   "source": [
    "df.to_json('data/frutas.json')"
   ]
  },
  {
   "cell_type": "code",
   "execution_count": null,
   "id": "3d2be62b",
   "metadata": {},
   "outputs": [],
   "source": [
    "dfj = pd.read_json('data/frutas.json')\n",
    "dfj"
   ]
  },
  {
   "cell_type": "code",
   "execution_count": null,
   "id": "3c3e9ca7",
   "metadata": {},
   "outputs": [],
   "source": [
    "movies_df = pd.read_csv(\"data/movies.csv\", index_col=\"title\")"
   ]
  },
  {
   "cell_type": "code",
   "execution_count": null,
   "id": "ff689916",
   "metadata": {},
   "outputs": [],
   "source": [
    "movies_df"
   ]
  },
  {
   "cell_type": "code",
   "execution_count": null,
   "id": "17ddc0a4",
   "metadata": {},
   "outputs": [],
   "source": [
    "movies_df.head()"
   ]
  },
  {
   "cell_type": "code",
   "execution_count": null,
   "id": "ac5ae685",
   "metadata": {},
   "outputs": [],
   "source": [
    "movies_df.tail(2)"
   ]
  },
  {
   "cell_type": "code",
   "execution_count": null,
   "id": "2a4d39c0",
   "metadata": {},
   "outputs": [],
   "source": [
    "movies_df.info()"
   ]
  },
  {
   "cell_type": "code",
   "execution_count": null,
   "id": "f4566e8b",
   "metadata": {},
   "outputs": [],
   "source": [
    "movies_df.shape"
   ]
  },
  {
   "cell_type": "code",
   "execution_count": null,
   "id": "7ee536f2",
   "metadata": {},
   "outputs": [],
   "source": [
    "temp_df = movies_df.append(movies_df) \n",
    "temp_df.shape"
   ]
  },
  {
   "cell_type": "code",
   "execution_count": null,
   "id": "8e776811",
   "metadata": {},
   "outputs": [],
   "source": [
    "temp_df2 = pd.concat([movies_df, movies_df], ignore_index=True)\n",
    "temp_df2.shape"
   ]
  },
  {
   "cell_type": "code",
   "execution_count": null,
   "id": "b11916a1",
   "metadata": {},
   "outputs": [],
   "source": [
    "temp_df.drop_duplicates(inplace=True) \n",
    "temp_df.shape\n"
   ]
  },
  {
   "cell_type": "code",
   "execution_count": null,
   "id": "f5e19406",
   "metadata": {},
   "outputs": [],
   "source": [
    "movies_df.describe()"
   ]
  },
  {
   "cell_type": "code",
   "execution_count": null,
   "id": "791be85e",
   "metadata": {},
   "outputs": [],
   "source": [
    "movies_df['genres'].describe()"
   ]
  },
  {
   "cell_type": "code",
   "execution_count": null,
   "id": "ed30fc3f",
   "metadata": {},
   "outputs": [],
   "source": [
    "data = [1,2,3,10,20,30]\n",
    "df = pd.DataFrame(data)\n",
    "print(df)"
   ]
  },
  {
   "cell_type": "code",
   "execution_count": null,
   "id": "ac531c6f",
   "metadata": {},
   "outputs": [],
   "source": [
    "data = {'Name' : ['AA', 'BB'], 'Age': [30,45]}\n",
    "df = pd.DataFrame(data)\n",
    "print(df)\n"
   ]
  },
  {
   "cell_type": "code",
   "execution_count": null,
   "id": "b1969e2a",
   "metadata": {},
   "outputs": [],
   "source": [
    "data = [{'a': 1, 'b': 2},{'a': 5, 'b': 10, 'c': 20}]\n",
    "df = pd.DataFrame(data)\n",
    "print(df)\n"
   ]
  },
  {
   "cell_type": "code",
   "execution_count": null,
   "id": "2df1d5d8",
   "metadata": {},
   "outputs": [],
   "source": [
    "data = [{'a': 1, 'b': 2},{'a': 5, 'b': 10, 'c': 20}]\n",
    "df = pd.DataFrame(data, index=['first', 'second'])\n",
    "print(df)\n"
   ]
  },
  {
   "cell_type": "code",
   "execution_count": null,
   "id": "0ec3caab",
   "metadata": {},
   "outputs": [],
   "source": [
    "data = [{'a': 1, 'b': 2},{'a': 5, 'b': 10, 'c': 20}]\n",
    "\n",
    "#With two column indices, values same as dictionary keys\n",
    "df1 = pd.DataFrame(data,index=['first','second'],columns=['a','b'])\n",
    "\n",
    "#With two column indices with one index with other name\n",
    "df2 = pd.DataFrame(data,index=['first','second'],columns=['a','b1'])\n",
    "\n",
    "print(df1)\n",
    "print('...........')\n",
    "print(df2)"
   ]
  },
  {
   "cell_type": "code",
   "execution_count": null,
   "id": "953620a1",
   "metadata": {},
   "outputs": [],
   "source": [
    "d = {'one' : pd.Series([1, 2, 3]  , index=['a', 'b', 'c']), \n",
    "     'two' : pd.Series([1,2, 3, 4], index=['a', 'b', 'c', 'd'])\n",
    "    }\n",
    "df = pd.DataFrame(d)\n",
    "print(df)\n"
   ]
  },
  {
   "cell_type": "code",
   "execution_count": null,
   "id": "a1926238",
   "metadata": {},
   "outputs": [],
   "source": [
    "d = {'one':pd.Series([1,2,3],   index=['a','b','c']), \n",
    "     'two':pd.Series([1,2,3,4], index=['a','b','c','d'])\n",
    "    }\n",
    "df = pd.DataFrame(d)\n",
    "# Adding a new column to an existing DataFrame object\n",
    "# with column label by passing new series\n",
    "\n",
    "print(\"Adding a new column by passing as Series:\")\n",
    "df['three'] = pd.Series([10,20,30],index=['a','b','c'])\n",
    "print(df)\n",
    "\n",
    "print(\"Adding a column using an existing columns in DataFrame:\")\n",
    "df['four'] = df['one']+df['three']\n",
    "print(df)"
   ]
  },
  {
   "cell_type": "code",
   "execution_count": null,
   "id": "6b8cf432",
   "metadata": {},
   "outputs": [],
   "source": [
    "d = {'one'   : pd.Series([1, 2, 3],    index=['a', 'b', 'c']),\n",
    "     'two'   : pd.Series([1, 2, 3, 4], index=['a', 'b', 'c', 'd']),\n",
    "     'three' : pd.Series([10,20,30],   index=['a','b','c'])\n",
    "    }\n",
    "df = pd.DataFrame(d)\n",
    "print (\"Our dataframe is:\")\n",
    "print(df)\n",
    "\n",
    "# using del function\n",
    "print(\"Deleting the first column using DEL function:\")\n",
    "del df['one']\n",
    "print(df)\n",
    "\n",
    "# using pop function\n",
    "print(\"Deleting another column using POP function:\")\n",
    "df.pop('two')\n",
    "print(df)"
   ]
  },
  {
   "cell_type": "code",
   "execution_count": null,
   "id": "c54ede17",
   "metadata": {},
   "outputs": [],
   "source": [
    "d = {'one' : pd.Series([1, 2, 3],    index=['a', 'b', 'c']),\n",
    "     'two' : pd.Series([1, 2, 3, 4], index=['a', 'b', 'c','d'])\n",
    "    }\n",
    "df = pd.DataFrame(d)\n",
    "print(df[2:4])\n"
   ]
  },
  {
   "cell_type": "code",
   "execution_count": null,
   "id": "38cb5b00",
   "metadata": {},
   "outputs": [],
   "source": [
    "d = {'one' : pd.Series([1, 2, 3],    index=['a', 'b', 'c']),\n",
    "     'two' : pd.Series([1, 2, 3, 4], index=['a', 'b', 'c','d'])\n",
    "    }\n",
    "df = pd.DataFrame(d)\n",
    "print(df)\n",
    "\n",
    "df2 = pd.DataFrame([[5,6], [7,8]], columns = ['a', 'b'])\n",
    "df = df.append(df2 )\n",
    "print(df)\n"
   ]
  },
  {
   "cell_type": "code",
   "execution_count": null,
   "id": "fc84560a",
   "metadata": {},
   "outputs": [],
   "source": [
    "d = {'one':pd.Series([1, 2, 3],    index=['a','b','c']),\n",
    "     'two':pd.Series([1, 2, 3, 4], index=['a','b','c','d'])\n",
    "    }\n",
    "df = pd.DataFrame(d)\n",
    "print(df)\n",
    "\n",
    "df2 = pd.DataFrame([[5,6], [7,8]], columns = ['a', 'b'])\n",
    "df = df.append(df2 )\n",
    "print(df)\n",
    "\n",
    "df = df.drop(0)\n",
    "print(df)\n"
   ]
  },
  {
   "cell_type": "code",
   "execution_count": null,
   "id": "944ee31a",
   "metadata": {},
   "outputs": [],
   "source": [
    "# Creating the first dataframe\n",
    "df1 = pd.DataFrame({\"A\":[1, 5, 3, 4, 2],\n",
    "\t\t     \"B\":[3, 2, 4, 3, 4],\n",
    "\t\t     \"C\":[2, 2, 7, 3, 4],\n",
    "\t\t     \"D\":[4, 3, 6, 12, 7]},\n",
    "\t\t     index =[\"A1\", \"A2\", \"A3\", \"A4\", \"A5\"])\n",
    "\n",
    "# Creating the second dataframe\n",
    "df2 = pd.DataFrame({\"A\":[10, 11, 7, 8, 5],\n",
    "\t\t     \"B\":[21, 5, 32, 4, 6],\n",
    "\t\t     \"C\":[11, 21, 23, 7, 9],\n",
    "\t\t     \"D\":[1, 5, 3, 8, 6]},\n",
    "\t\t     index =[\"A1\", \"A3\", \"A4\", \"A7\", \"A8\"])\n",
    "\n",
    "# Print the first dataframe\n",
    "print(df1)\n",
    "print(df2)\n",
    "# find matching indexes\n",
    "df1.reindex_like(df2)"
   ]
  },
  {
   "cell_type": "code",
   "execution_count": null,
   "id": "168f0c03",
   "metadata": {},
   "outputs": [],
   "source": [
    "import pandas as pd\n",
    "df1 = pd.DataFrame({'Name':['A','B'], 'SSN':[10,20], 'marks':[90, 95] })\n",
    "df2 = pd.DataFrame({'Name':['B','C'], 'SSN':[25,30], 'marks':[80, 97] })\n",
    "df3 = pd.concat([df1, df2])\n",
    "df3\n"
   ]
  },
  {
   "cell_type": "code",
   "execution_count": null,
   "id": "9507706b",
   "metadata": {},
   "outputs": [],
   "source": [
    "\n",
    "cat = pd.Categorical(['a', 'b', 'c', 'a', 'b', 'c'])\n",
    "print(cat)"
   ]
  },
  {
   "cell_type": "code",
   "execution_count": null,
   "id": "191cdbbc",
   "metadata": {},
   "outputs": [],
   "source": [
    "import numpy as np\n",
    "cat = pd.Categorical([\"a\", \"c\", \"c\", np.nan], categories=[\"b\", \"a\", \"c\"])\n",
    "df = pd.DataFrame({\"cat\": cat, \"s\":[\"a\", \"c\", \"c\", np.nan]})\n",
    "print(df.describe())\n",
    "print(df[\"cat\"].describe())\n"
   ]
  },
  {
   "cell_type": "code",
   "execution_count": null,
   "id": "5bba4ac0",
   "metadata": {},
   "outputs": [],
   "source": [
    "!pip install pysqlite3"
   ]
  },
  {
   "cell_type": "code",
   "execution_count": null,
   "id": "57a035c2",
   "metadata": {},
   "outputs": [],
   "source": [
    "import sqlite3 \n",
    "con = sqlite3.connect(\"data/database.db\")"
   ]
  },
  {
   "cell_type": "code",
   "execution_count": null,
   "id": "14891c7b",
   "metadata": {},
   "outputs": [],
   "source": [
    "movies_df.to_sql(name='movies', con=con)"
   ]
  },
  {
   "cell_type": "code",
   "execution_count": null,
   "id": "5f9a18d8",
   "metadata": {},
   "outputs": [],
   "source": [
    "df = pd.read_sql_query(\"SELECT * FROM movies\", con,index_col='title') \n",
    "df.shape"
   ]
  },
  {
   "cell_type": "code",
   "execution_count": null,
   "id": "ea8a6cb7",
   "metadata": {},
   "outputs": [],
   "source": [
    "df"
   ]
  },
  {
   "cell_type": "code",
   "execution_count": null,
   "id": "b1c1acc3",
   "metadata": {},
   "outputs": [],
   "source": [
    "import matplotlib.pyplot as plt\n",
    "\n",
    "df = pd.read_csv('data/iris.data',header=None)\n",
    "df.plot()\n",
    "plt.show()"
   ]
  },
  {
   "cell_type": "code",
   "execution_count": null,
   "id": "8d0f6ed6",
   "metadata": {},
   "outputs": [],
   "source": [
    "df"
   ]
  },
  {
   "cell_type": "code",
   "execution_count": null,
   "id": "3e92f993",
   "metadata": {},
   "outputs": [],
   "source": [
    "nombres = ['long_sepalo','ancho_sepalo','long_petalo','ancho_petalo','clase']\n",
    "df.columns = nombres"
   ]
  },
  {
   "cell_type": "code",
   "execution_count": null,
   "id": "d0171ed8",
   "metadata": {},
   "outputs": [],
   "source": [
    "df['ancho_petalo'].plot()"
   ]
  },
  {
   "cell_type": "code",
   "execution_count": null,
   "id": "137a2416",
   "metadata": {},
   "outputs": [],
   "source": [
    "df['long_petalo'].plot()"
   ]
  },
  {
   "cell_type": "code",
   "execution_count": null,
   "id": "a24bf0b3",
   "metadata": {},
   "outputs": [],
   "source": [
    "df.plot(figsize=[12,7])\n"
   ]
  },
  {
   "cell_type": "code",
   "execution_count": null,
   "id": "4a82faf3",
   "metadata": {},
   "outputs": [],
   "source": [
    "df['long_petalo'].plot(kind='bar')"
   ]
  }
 ],
 "metadata": {
  "kernelspec": {
   "display_name": "Python 3 (ipykernel)",
   "language": "python",
   "name": "python3"
  },
  "language_info": {
   "codemirror_mode": {
    "name": "ipython",
    "version": 3
   },
   "file_extension": ".py",
   "mimetype": "text/x-python",
   "name": "python",
   "nbconvert_exporter": "python",
   "pygments_lexer": "ipython3",
   "version": "3.9.13"
  }
 },
 "nbformat": 4,
 "nbformat_minor": 5
}
